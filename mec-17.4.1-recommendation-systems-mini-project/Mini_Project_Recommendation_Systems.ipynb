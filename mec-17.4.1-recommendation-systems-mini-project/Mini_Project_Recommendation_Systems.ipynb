{
 "cells": [
  {
   "cell_type": "markdown",
   "metadata": {
    "colab_type": "text",
    "id": "KkqlbEEvsHuw"
   },
   "source": [
    "# Recommendation Systems"
   ]
  },
  {
   "cell_type": "markdown",
   "metadata": {
    "colab_type": "text",
    "id": "JXCjew2ItepU"
   },
   "source": [
    "Companies like Amazon(books, items), Netflix(movies), Google(News,Search), and Pandora/Spotify(music) leverage recommendation systems to help users discover new and relevant items (products, videos, jobs, music), creating a delightful user experience while driving incremental revenue. \n",
    "\n",
    "The need to build robust recommendation systems is extremely important given the huge demand for personalized content of modern consumers.\n"
   ]
  },
  {
   "cell_type": "markdown",
   "metadata": {
    "colab_type": "text",
    "id": "_lc420j2uhwZ"
   },
   "source": [
    "In this assignment, you will be applying your learning of recommendation systems in this Unit towards building the following four different types of recommendation systems:\n",
    "\n",
    "1.   Global Recommendation Systems (Statistical)   \n",
    "2.   Content-based Recommendation Systems\n",
    "3.   Collaborative Filtering (User-Item) Recommendation Systems\n",
    "4.   Hybrid Recommendation Systems\n",
    "\n",
    "The focus of the mini-project here would be to build a movie recommendation system.\n"
   ]
  },
  {
   "cell_type": "markdown",
   "metadata": {
    "colab_type": "text",
    "id": "CL3nuM_Kv17_"
   },
   "source": [
    "## 1. Dataset Acquisition\n",
    "\n",
    "Following are the key descriptions of the datasets you will be using. The data used here has been compiled from various movie datasets like Netflix and IMDb.\n",
    "\n",
    "1. __Filename: `movie_titles.csv`:__\n",
    "\n",
    "  - __`MovieID`__: MovieID does not correspond to actual Netflix movie ids or IMDB movie ids\n",
    "  - __`YearOfRelease`__: YearOfRelease can range from 1890 to 2005 and may correspond to the release of corresponding DVD, not necessarily its theaterical release\n",
    "  - __`Title`__: Title is the Netflix movie title and may not correspond to titles used on other sites. Titles are in English\n",
    "\n",
    "\n",
    "2. __Combined User-Ratings Dataset Description - `combined_data.csv`:__\n",
    "\n",
    "  - The first line of the contains the movie id followed by a colon.    \n",
    "  - Each subsequent line in the file corresponds to a rating from a customer and its date in the following format:\n",
    "\n",
    "    - MovieIDs range from 1 to 17770 sequentially.\n",
    "    - CustomerIDs range from 1 to 2649429, with gaps. There are 480189 users. \n",
    "    - Ratings are on a five star (integral) scale from 1 to 5.\n",
    "    - Dates have the format YYYY-MM-DD.\n",
    "\n",
    "\n",
    "3. __Filename: `movies_metadata.csv`__\n",
    "\n",
    "The main Movies Metadata file. Contains information on 45,000 movies featured in the Full MovieLens dataset. Features include posters, backdrops, budget, revenue, release dates, languages, production countries and companies.\n"
   ]
  },
  {
   "cell_type": "markdown",
   "metadata": {
    "colab_type": "text",
    "id": "aaic3a2Cw0T5"
   },
   "source": [
    "## 2: Import Necessary Dependencies\n",
    "\n",
    "We will be leveraging __`keras`__ on top of __`tensorflow`__ for building some of the collaborative filtering and hybrid models. There are compatibility issues with handling sparse layers with dense layers till now in TensorFlow 2 hence we are leveraging native Keras but in the long run once this issue is resolved we can leverage __`tf.keras`__ with minimal code updates."
   ]
  },
  {
   "cell_type": "code",
   "execution_count": 1,
   "metadata": {
    "colab": {},
    "colab_type": "code",
    "id": "iX9t8rYaxVGh"
   },
   "outputs": [],
   "source": [
    "# filter out unncessary warnings\n",
    "import warnings\n",
    "warnings.filterwarnings('ignore')"
   ]
  },
  {
   "cell_type": "code",
   "execution_count": 2,
   "metadata": {
    "colab": {
     "base_uri": "https://localhost:8080/",
     "height": 79
    },
    "colab_type": "code",
    "id": "JGWCPwAiP7vv",
    "outputId": "a0320c9e-dfa3-49e3-bf35-2095bce263d8"
   },
   "outputs": [],
   "source": [
    "# To store\\load the data\n",
    "import pandas as pd\n",
    "\n",
    "# To do linear algebra\n",
    "import numpy as np\n",
    "\n",
    "# To create plots\n",
    "import matplotlib.pyplot as plt\n",
    "import seaborn as sns\n",
    "\n",
    "\n",
    "# To compute similarities between vectors\n",
    "from sklearn.metrics import mean_squared_error\n",
    "from sklearn.metrics.pairwise import cosine_similarity\n",
    "from sklearn.feature_extraction.text import TfidfVectorizer\n",
    "\n",
    "# data load progress bars\n",
    "from tqdm import tqdm\n",
    "\n",
    "from collections import deque\n",
    "\n",
    "# To create deep learning models\n",
    "import tensorflow as tf\n",
    "import keras\n",
    "from keras.layers import Input, Embedding, Reshape, Dot, Concatenate, Dense, Dropout\n",
    "from keras.models import Model\n",
    "\n",
    "# To stack sparse matrices\n",
    "from scipy.sparse import vstack"
   ]
  },
  {
   "cell_type": "code",
   "execution_count": 3,
   "metadata": {
    "colab": {},
    "colab_type": "code",
    "id": "whZc1FgzyPyY"
   },
   "outputs": [],
   "source": [
    "# remove unnecessary TF logs\n",
    "import logging\n",
    "tf.get_logger().setLevel(logging.ERROR)"
   ]
  },
  {
   "cell_type": "code",
   "execution_count": 4,
   "metadata": {
    "colab": {
     "base_uri": "https://localhost:8080/",
     "height": 50
    },
    "colab_type": "code",
    "id": "Ce2tjPHPzWFd",
    "outputId": "f69dceec-26bc-44a3-b47c-5615a02ded51"
   },
   "outputs": [
    {
     "name": "stdout",
     "output_type": "stream",
     "text": [
      "TF Version: 2.7.0\n",
      "Keras Version: 2.7.0\n"
     ]
    }
   ],
   "source": [
    "# check keras and TF version used\n",
    "print('TF Version:', tf.__version__)\n",
    "print('Keras Version:', keras.__version__)\n",
    "# TF Version: 1.15.0\n",
    "# Keras Version: 2.2.5"
   ]
  },
  {
   "cell_type": "markdown",
   "metadata": {
    "colab_type": "text",
    "id": "lXXYudDD0Coy"
   },
   "source": [
    "Let's start loading data that will be used for building the recommendation systems"
   ]
  },
  {
   "cell_type": "markdown",
   "metadata": {
    "colab_type": "text",
    "id": "6FJZmUvExOYt"
   },
   "source": [
    "# 3. Load Datasets"
   ]
  },
  {
   "cell_type": "markdown",
   "metadata": {
    "colab_type": "text",
    "id": "AnAU78S7xz-H"
   },
   "source": [
    "## 3.1: Load Movie Metadata Datasets\n",
    "\n",
    "First, we will load the movie_titles.csv data from the Netflix prize data source"
   ]
  },
  {
   "cell_type": "code",
   "execution_count": 5,
   "metadata": {},
   "outputs": [],
   "source": [
    "abs_dir = r'/Users/robbytong/Documents/MachineLearning/Sections/CH3 PreparingData/MiniProjects/mec-mini-projects/mec-17.4.1-recommendation-systems-mini-project'"
   ]
  },
  {
   "cell_type": "code",
   "execution_count": 6,
   "metadata": {
    "colab": {
     "base_uri": "https://localhost:8080/",
     "height": 242
    },
    "colab_type": "code",
    "id": "tgD9whbBfcWW",
    "outputId": "4b9b02d5-13bf-4d4b-a684-2bf9420fa4da"
   },
   "outputs": [
    {
     "name": "stdout",
     "output_type": "stream",
     "text": [
      "/Users/robbytong/Documents/MachineLearning/Sections/CH3 PreparingData/MiniProjects/mec-mini-projects/mec-17.4.1-recommendation-systems-mini-project/data/movie_titles.csv\n",
      "Shape Movie-Titles:\t(17770, 2)\n"
     ]
    },
    {
     "data": {
      "text/html": [
       "<div>\n",
       "<style scoped>\n",
       "    .dataframe tbody tr th:only-of-type {\n",
       "        vertical-align: middle;\n",
       "    }\n",
       "\n",
       "    .dataframe tbody tr th {\n",
       "        vertical-align: top;\n",
       "    }\n",
       "\n",
       "    .dataframe thead th {\n",
       "        text-align: right;\n",
       "    }\n",
       "</style>\n",
       "<table border=\"1\" class=\"dataframe\">\n",
       "  <thead>\n",
       "    <tr style=\"text-align: right;\">\n",
       "      <th></th>\n",
       "      <th>Year</th>\n",
       "      <th>Name</th>\n",
       "    </tr>\n",
       "    <tr>\n",
       "      <th>Id</th>\n",
       "      <th></th>\n",
       "      <th></th>\n",
       "    </tr>\n",
       "  </thead>\n",
       "  <tbody>\n",
       "    <tr>\n",
       "      <th>4826</th>\n",
       "      <td>1992.0</td>\n",
       "      <td>Whispers in the Dark</td>\n",
       "    </tr>\n",
       "    <tr>\n",
       "      <th>16865</th>\n",
       "      <td>2003.0</td>\n",
       "      <td>Blue Car</td>\n",
       "    </tr>\n",
       "    <tr>\n",
       "      <th>17341</th>\n",
       "      <td>1983.0</td>\n",
       "      <td>Zelig</td>\n",
       "    </tr>\n",
       "    <tr>\n",
       "      <th>9659</th>\n",
       "      <td>2004.0</td>\n",
       "      <td>Britney Spears: Greatest Hits: My Prerogative</td>\n",
       "    </tr>\n",
       "    <tr>\n",
       "      <th>1084</th>\n",
       "      <td>2001.0</td>\n",
       "      <td>Walking with Prehistoric Beasts</td>\n",
       "    </tr>\n",
       "  </tbody>\n",
       "</table>\n",
       "</div>"
      ],
      "text/plain": [
       "         Year                                           Name\n",
       "Id                                                          \n",
       "4826   1992.0                           Whispers in the Dark\n",
       "16865  2003.0                                       Blue Car\n",
       "17341  1983.0                                          Zelig\n",
       "9659   2004.0  Britney Spears: Greatest Hits: My Prerogative\n",
       "1084   2001.0                Walking with Prehistoric Beasts"
      ]
     },
     "execution_count": 6,
     "metadata": {},
     "output_type": "execute_result"
    }
   ],
   "source": [
    "filename = abs_dir + '/data/movie_titles.csv'\n",
    "\n",
    "print(filename)\n",
    "\n",
    "# Load data for all movies\n",
    "movie_titles = pd.read_csv(filename, \n",
    "                           encoding = 'ISO-8859-1', \n",
    "                           header = None,\n",
    "                           lineterminator='\\n',\n",
    "                           names = ['Id', 'Year', 'Name', 'Extra1', 'Extra2', 'Extra3']).set_index('Id')\n",
    "\n",
    "movie_titles.fillna('', inplace=True)\n",
    "\n",
    "movie_titles['Name'] = \\\n",
    "movie_titles['Name'] + \\\n",
    "movie_titles['Extra1'] + \\\n",
    "movie_titles['Extra2'] + \\\n",
    "movie_titles['Extra3']\n",
    "\n",
    "movie_titles.drop('Extra1', axis=1, inplace=True)\n",
    "movie_titles.drop('Extra2', axis=1, inplace=True)\n",
    "movie_titles.drop('Extra3', axis=1, inplace=True)\n",
    "\n",
    "\n",
    "print('Shape Movie-Titles:\\t{}'.format(movie_titles.shape))\n",
    "movie_titles.sample(5)"
   ]
  },
  {
   "cell_type": "markdown",
   "metadata": {
    "colab_type": "text",
    "id": "SYafEzcYxa09"
   },
   "source": [
    "There are approximately 18000 movies in the ratings dataset and the metadata information includes the year of release and movie title"
   ]
  },
  {
   "cell_type": "markdown",
   "metadata": {
    "colab_type": "text",
    "id": "aE4QaObcyAup"
   },
   "source": [
    "Next, we will load the movie_metadata.csv from The movies dataset source. This is to get the metadata information like description etc. related to each movie."
   ]
  },
  {
   "cell_type": "code",
   "execution_count": 7,
   "metadata": {},
   "outputs": [],
   "source": [
    "# Load a movie metadata dataset\n",
    "movie_metadata = (pd.read_csv('./data/movies_metadata.csv.zip', \n",
    "                              low_memory=False)[['original_title', 'overview', 'vote_count']]\n",
    "                    .set_index('original_title')\n",
    "                    .dropna())\n"
   ]
  },
  {
   "cell_type": "code",
   "execution_count": 8,
   "metadata": {},
   "outputs": [
    {
     "data": {
      "text/html": [
       "<div>\n",
       "<style scoped>\n",
       "    .dataframe tbody tr th:only-of-type {\n",
       "        vertical-align: middle;\n",
       "    }\n",
       "\n",
       "    .dataframe tbody tr th {\n",
       "        vertical-align: top;\n",
       "    }\n",
       "\n",
       "    .dataframe thead th {\n",
       "        text-align: right;\n",
       "    }\n",
       "</style>\n",
       "<table border=\"1\" class=\"dataframe\">\n",
       "  <thead>\n",
       "    <tr style=\"text-align: right;\">\n",
       "      <th></th>\n",
       "      <th>overview</th>\n",
       "      <th>vote_count</th>\n",
       "    </tr>\n",
       "    <tr>\n",
       "      <th>original_title</th>\n",
       "      <th></th>\n",
       "      <th></th>\n",
       "    </tr>\n",
       "  </thead>\n",
       "  <tbody>\n",
       "    <tr>\n",
       "      <th>Toy Story</th>\n",
       "      <td>Led by Woody, Andy's toys live happily in his ...</td>\n",
       "      <td>5415.0</td>\n",
       "    </tr>\n",
       "    <tr>\n",
       "      <th>Jumanji</th>\n",
       "      <td>When siblings Judy and Peter discover an encha...</td>\n",
       "      <td>2413.0</td>\n",
       "    </tr>\n",
       "    <tr>\n",
       "      <th>Grumpier Old Men</th>\n",
       "      <td>A family wedding reignites the ancient feud be...</td>\n",
       "      <td>92.0</td>\n",
       "    </tr>\n",
       "    <tr>\n",
       "      <th>Waiting to Exhale</th>\n",
       "      <td>Cheated on, mistreated and stepped on, the wom...</td>\n",
       "      <td>34.0</td>\n",
       "    </tr>\n",
       "    <tr>\n",
       "      <th>Father of the Bride Part II</th>\n",
       "      <td>Just when George Banks has recovered from his ...</td>\n",
       "      <td>173.0</td>\n",
       "    </tr>\n",
       "  </tbody>\n",
       "</table>\n",
       "</div>"
      ],
      "text/plain": [
       "                                                                      overview  \\\n",
       "original_title                                                                   \n",
       "Toy Story                    Led by Woody, Andy's toys live happily in his ...   \n",
       "Jumanji                      When siblings Judy and Peter discover an encha...   \n",
       "Grumpier Old Men             A family wedding reignites the ancient feud be...   \n",
       "Waiting to Exhale            Cheated on, mistreated and stepped on, the wom...   \n",
       "Father of the Bride Part II  Just when George Banks has recovered from his ...   \n",
       "\n",
       "                             vote_count  \n",
       "original_title                           \n",
       "Toy Story                        5415.0  \n",
       "Jumanji                          2413.0  \n",
       "Grumpier Old Men                   92.0  \n",
       "Waiting to Exhale                  34.0  \n",
       "Father of the Bride Part II       173.0  "
      ]
     },
     "execution_count": 8,
     "metadata": {},
     "output_type": "execute_result"
    }
   ],
   "source": [
    "movie_metadata.head()"
   ]
  },
  {
   "cell_type": "code",
   "execution_count": 9,
   "metadata": {},
   "outputs": [
    {
     "name": "stdout",
     "output_type": "stream",
     "text": [
      "Shape Movie-Metadata:\t(21604, 1)\n"
     ]
    },
    {
     "data": {
      "text/html": [
       "<div>\n",
       "<style scoped>\n",
       "    .dataframe tbody tr th:only-of-type {\n",
       "        vertical-align: middle;\n",
       "    }\n",
       "\n",
       "    .dataframe tbody tr th {\n",
       "        vertical-align: top;\n",
       "    }\n",
       "\n",
       "    .dataframe thead th {\n",
       "        text-align: right;\n",
       "    }\n",
       "</style>\n",
       "<table border=\"1\" class=\"dataframe\">\n",
       "  <thead>\n",
       "    <tr style=\"text-align: right;\">\n",
       "      <th></th>\n",
       "      <th>overview</th>\n",
       "    </tr>\n",
       "    <tr>\n",
       "      <th>original_title</th>\n",
       "      <th></th>\n",
       "    </tr>\n",
       "  </thead>\n",
       "  <tbody>\n",
       "    <tr>\n",
       "      <th>Get Me Roger Stone</th>\n",
       "      <td>From his days of testifying at the Watergate h...</td>\n",
       "    </tr>\n",
       "    <tr>\n",
       "      <th>The Makeover</th>\n",
       "      <td>This is an update of George Bernard Shaw's \"Py...</td>\n",
       "    </tr>\n",
       "    <tr>\n",
       "      <th>광해, 왕이 된 남자</th>\n",
       "      <td>During the confusing and conspiratorial Joseon...</td>\n",
       "    </tr>\n",
       "    <tr>\n",
       "      <th>Bleed for This</th>\n",
       "      <td>The inspirational story of World Champion Boxe...</td>\n",
       "    </tr>\n",
       "    <tr>\n",
       "      <th>テルマエ・ロマエ</th>\n",
       "      <td>The story follows a Roman architect named Luci...</td>\n",
       "    </tr>\n",
       "  </tbody>\n",
       "</table>\n",
       "</div>"
      ],
      "text/plain": [
       "                                                             overview\n",
       "original_title                                                       \n",
       "Get Me Roger Stone  From his days of testifying at the Watergate h...\n",
       "The Makeover        This is an update of George Bernard Shaw's \"Py...\n",
       "광해, 왕이 된 남자         During the confusing and conspiratorial Joseon...\n",
       "Bleed for This      The inspirational story of World Champion Boxe...\n",
       "テルマエ・ロマエ            The story follows a Roman architect named Luci..."
      ]
     },
     "execution_count": 9,
     "metadata": {},
     "output_type": "execute_result"
    }
   ],
   "source": [
    "# Remove the long tail of rarly rated moves\n",
    "movie_metadata = movie_metadata[movie_metadata['vote_count']>10].drop('vote_count', axis=1)\n",
    "\n",
    "print('Shape Movie-Metadata:\\t{}'.format(movie_metadata.shape))\n",
    "movie_metadata.sample(5)"
   ]
  },
  {
   "cell_type": "code",
   "execution_count": 10,
   "metadata": {},
   "outputs": [
    {
     "data": {
      "text/plain": [
       "'The grass might not be as green as one might think on the other side of obesity. Pretty Ugly People takes a wickedly comedic look at body image, self-loathing and sex within a group of estranged friends in their mid-30s. Lucy was obese her entire life and had always longed to be a thin so she could finally lose her virginity.'"
      ]
     },
     "execution_count": 10,
     "metadata": {},
     "output_type": "execute_result"
    }
   ],
   "source": [
    "movie_metadata.sample()['overview'][0]"
   ]
  },
  {
   "cell_type": "markdown",
   "metadata": {
    "colab_type": "text",
    "id": "dElmRUSWyYoh"
   },
   "source": [
    "Around 21,000 entries in the movies metadata dataset"
   ]
  },
  {
   "cell_type": "markdown",
   "metadata": {
    "colab_type": "text",
    "id": "XJ3cHW1eyhwR"
   },
   "source": [
    "## 3.2: Load User-Movie-Rating Dataset"
   ]
  },
  {
   "cell_type": "code",
   "execution_count": 11,
   "metadata": {},
   "outputs": [
    {
     "name": "stdout",
     "output_type": "stream",
     "text": [
      "Requirement already satisfied: gdown in /Users/robbytong/opt/anaconda3/envs/tensorflow/lib/python3.8/site-packages (4.4.0)\n",
      "Requirement already satisfied: tqdm in /Users/robbytong/opt/anaconda3/envs/tensorflow/lib/python3.8/site-packages (from gdown) (4.63.0)\n",
      "Requirement already satisfied: requests[socks] in /Users/robbytong/opt/anaconda3/envs/tensorflow/lib/python3.8/site-packages (from gdown) (2.27.1)\n",
      "Requirement already satisfied: beautifulsoup4 in /Users/robbytong/opt/anaconda3/envs/tensorflow/lib/python3.8/site-packages (from gdown) (4.10.0)\n",
      "Requirement already satisfied: six in /Users/robbytong/opt/anaconda3/envs/tensorflow/lib/python3.8/site-packages (from gdown) (1.16.0)\n",
      "Requirement already satisfied: filelock in /Users/robbytong/opt/anaconda3/envs/tensorflow/lib/python3.8/site-packages (from gdown) (3.6.0)\n",
      "Requirement already satisfied: soupsieve>1.2 in /Users/robbytong/opt/anaconda3/envs/tensorflow/lib/python3.8/site-packages (from beautifulsoup4->gdown) (2.3.1)\n",
      "Requirement already satisfied: idna<4,>=2.5 in /Users/robbytong/opt/anaconda3/envs/tensorflow/lib/python3.8/site-packages (from requests[socks]->gdown) (3.3)\n",
      "Requirement already satisfied: urllib3<1.27,>=1.21.1 in /Users/robbytong/opt/anaconda3/envs/tensorflow/lib/python3.8/site-packages (from requests[socks]->gdown) (1.26.8)\n",
      "Requirement already satisfied: charset-normalizer~=2.0.0 in /Users/robbytong/opt/anaconda3/envs/tensorflow/lib/python3.8/site-packages (from requests[socks]->gdown) (2.0.11)\n",
      "Requirement already satisfied: certifi>=2017.4.17 in /Users/robbytong/opt/anaconda3/envs/tensorflow/lib/python3.8/site-packages (from requests[socks]->gdown) (2021.10.8)\n",
      "Requirement already satisfied: PySocks!=1.5.7,>=1.5.6 in /Users/robbytong/opt/anaconda3/envs/tensorflow/lib/python3.8/site-packages (from requests[socks]->gdown) (1.7.1)\n",
      "Downloading...\n",
      "From: https://drive.google.com/uc?export=download&id=1z0O0fXuofdsbpL8fkCVgjeIwFP_LxGX2\n",
      "To: /Users/robbytong/Documents/MachineLearning/Sections/CH3 PreparingData/MiniProjects/mec-mini-projects/mec-17.4.1-recommendation-systems-mini-project/data/combined_data.csv.zip\n",
      "100%|████████████████████████████████████████| 161M/161M [00:11<00:00, 14.4MB/s]\n"
     ]
    }
   ],
   "source": [
    "# Dowload large file from the shared GDrive folder\n",
    "!pip install gdown\n",
    "!gdown \"https://drive.google.com/uc?export=download&id=1z0O0fXuofdsbpL8fkCVgjeIwFP_LxGX2\" -O data/\n"
   ]
  },
  {
   "cell_type": "code",
   "execution_count": 12,
   "metadata": {},
   "outputs": [],
   "source": [
    "# Load single data-file\n",
    "df_raw = pd.read_csv('./data/combined_data.csv.zip', \n",
    "                     header=None, \n",
    "                     names=['User', 'Rating', 'Date'], \n",
    "                     usecols=[0, 1, 2])\n"
   ]
  },
  {
   "cell_type": "code",
   "execution_count": 13,
   "metadata": {},
   "outputs": [
    {
     "data": {
      "text/plain": [
       "User         1815755\n",
       "Rating           5.0\n",
       "Date      2004-07-20\n",
       "Name: 547, dtype: object"
      ]
     },
     "execution_count": 13,
     "metadata": {},
     "output_type": "execute_result"
    }
   ],
   "source": [
    "df_raw.iloc[1:548].iloc[-1]"
   ]
  },
  {
   "cell_type": "code",
   "execution_count": 14,
   "metadata": {},
   "outputs": [],
   "source": [
    "# Find empty rows to slice dataframe for each movie\n",
    "tmp_movies = df_raw[df_raw['Rating'].isna()]['User'].reset_index()\n",
    "movie_indices = [[index, int(movie[:-1])] for index, movie in tmp_movies.values]\n"
   ]
  },
  {
   "cell_type": "code",
   "execution_count": 15,
   "metadata": {},
   "outputs": [
    {
     "data": {
      "text/plain": [
       "[[0, 1],\n",
       " [548, 2],\n",
       " [694, 3],\n",
       " [2707, 4],\n",
       " [2850, 5],\n",
       " [3991, 6],\n",
       " [5011, 7],\n",
       " [5105, 8],\n",
       " [20016, 9],\n",
       " [20112, 10],\n",
       " [20362, 11],\n",
       " [20561, 12],\n",
       " [21108, 13],\n",
       " [21234, 14],\n",
       " [21353, 15],\n",
       " [21644, 16],\n",
       " [24344, 17],\n",
       " [31453, 18],\n",
       " [42176, 19],\n",
       " [42716, 20],\n",
       " [42833, 21],\n",
       " [43052, 22],\n",
       " [43256, 23],\n",
       " [43872, 24],\n",
       " [45206, 25],\n",
       " [46414, 26],\n",
       " [52276, 27],\n",
       " [52550, 28],\n",
       " [92303, 29],\n",
       " [92827, 30],\n",
       " [211241, 31],\n",
       " [211463, 32],\n",
       " [213318, 33],\n",
       " [220209, 34],\n",
       " [220318, 35],\n",
       " [221158, 36],\n",
       " [222098, 37],\n",
       " [222380, 38],\n",
       " [223183, 39],\n",
       " [223936, 40],\n",
       " [224428, 41],\n",
       " [224522, 42],\n",
       " [224651, 43],\n",
       " [224757, 44],\n",
       " [233259, 45],\n",
       " [235879, 46],\n",
       " [242438, 47],\n",
       " [244789, 48],\n",
       " [248381, 49],\n",
       " [248613, 50],\n",
       " [248942, 51],\n",
       " [249033, 52],\n",
       " [254181, 53],\n",
       " [254296, 54],\n",
       " [254456, 55],\n",
       " [256863, 56],\n",
       " [258697, 57],\n",
       " [262260, 58],\n",
       " [279666, 59],\n",
       " [279871, 60],\n",
       " [280167, 61],\n",
       " [280315, 62],\n",
       " [280606, 63],\n",
       " [280791, 64],\n",
       " [280887, 65],\n",
       " [281146, 66],\n",
       " [281313, 67],\n",
       " [281603, 68],\n",
       " [283820, 69],\n",
       " [283937, 70],\n",
       " [284281, 71],\n",
       " [285843, 72],\n",
       " [286023, 73],\n",
       " [286771, 74],\n",
       " [287160, 75],\n",
       " [287380, 76],\n",
       " [290335, 77],\n",
       " [303934, 78],\n",
       " [308785, 79],\n",
       " [312183, 80],\n",
       " [312458, 81],\n",
       " [313708, 82],\n",
       " [313828, 83],\n",
       " [332553, 84],\n",
       " [335306, 85],\n",
       " [335573, 86],\n",
       " [335750, 87],\n",
       " [335868, 88],\n",
       " [336847, 89],\n",
       " [337726, 90],\n",
       " [338352, 91],\n",
       " [338920, 92],\n",
       " [339082, 93],\n",
       " [339257, 94],\n",
       " [339600, 95],\n",
       " [340536, 96],\n",
       " [341025, 97],\n",
       " [352534, 98],\n",
       " [352665, 99],\n",
       " [352792, 100],\n",
       " [352871, 101],\n",
       " [353202, 102],\n",
       " [353533, 103],\n",
       " [353743, 104],\n",
       " [357244, 105],\n",
       " [357437, 106],\n",
       " [358378, 107],\n",
       " [359208, 108],\n",
       " [378227, 109],\n",
       " [378773, 110],\n",
       " [380933, 111],\n",
       " [411061, 112],\n",
       " [411301, 113],\n",
       " [412695, 114],\n",
       " [413124, 115],\n",
       " [413791, 116],\n",
       " [414918, 117],\n",
       " [415900, 118],\n",
       " [435141, 119],\n",
       " [435238, 120],\n",
       " [435578, 121],\n",
       " [435678, 122],\n",
       " [439061, 123],\n",
       " [439338, 124],\n",
       " [439508, 125],\n",
       " [441238, 126],\n",
       " [442423, 127],\n",
       " [445438, 128],\n",
       " [445856, 129],\n",
       " [446613, 130],\n",
       " [446700, 131],\n",
       " [447406, 132],\n",
       " [448237, 133],\n",
       " [450801, 134],\n",
       " [450901, 135],\n",
       " [451286, 136],\n",
       " [451407, 137],\n",
       " [451612, 138],\n",
       " [457620, 139],\n",
       " [457717, 140],\n",
       " [457837, 141],\n",
       " [457964, 142],\n",
       " [458291, 143],\n",
       " [496654, 144],\n",
       " [496944, 145],\n",
       " [497400, 146],\n",
       " [497767, 147],\n",
       " [497899, 148],\n",
       " [520094, 149],\n",
       " [520157, 150],\n",
       " [520423, 151],\n",
       " [520600, 152],\n",
       " [529763, 153],\n",
       " [530085, 154],\n",
       " [530244, 155],\n",
       " [531225, 156],\n",
       " [539405, 157],\n",
       " [540111, 158],\n",
       " [540486, 159],\n",
       " [540651, 160],\n",
       " [541551, 161],\n",
       " [542201, 162],\n",
       " [542676, 163],\n",
       " [542870, 164],\n",
       " [543523, 165],\n",
       " [548112, 166],\n",
       " [557548, 167],\n",
       " [566700, 168],\n",
       " [568054, 169],\n",
       " [568390, 170],\n",
       " [568606, 171],\n",
       " [574797, 172],\n",
       " [575120, 173],\n",
       " [577357, 174],\n",
       " [577549, 175],\n",
       " [668000, 176],\n",
       " [668211, 177],\n",
       " [668453, 178],\n",
       " [670385, 179],\n",
       " [670672, 180],\n",
       " [673091, 181],\n",
       " [676650, 182],\n",
       " [676885, 183],\n",
       " [677049, 184],\n",
       " [677449, 185],\n",
       " [679747, 186],\n",
       " [680039, 187],\n",
       " [700089, 188],\n",
       " [702639, 189],\n",
       " [716777, 190],\n",
       " [716882, 191],\n",
       " [815603, 192],\n",
       " [815879, 193],\n",
       " [816001, 194],\n",
       " [816648, 195],\n",
       " [816834, 196],\n",
       " [816989, 197],\n",
       " [898250, 198],\n",
       " [898445, 199],\n",
       " [933955, 200],\n",
       " [934085, 201],\n",
       " [936810, 202],\n",
       " [937193, 203],\n",
       " [937290, 204],\n",
       " [937521, 205],\n",
       " [938035, 206],\n",
       " [939132, 207],\n",
       " [939391, 208],\n",
       " [941588, 209],\n",
       " [945962, 210],\n",
       " [946650, 211],\n",
       " [947305, 212],\n",
       " [948196, 213],\n",
       " [951679, 214],\n",
       " [951804, 215],\n",
       " [957622, 216],\n",
       " [966518, 217],\n",
       " [966944, 218],\n",
       " [967060, 219],\n",
       " [967172, 220],\n",
       " [967394, 221],\n",
       " [967556, 222],\n",
       " [967656, 223],\n",
       " [991782, 224],\n",
       " [992869, 225],\n",
       " [1000265, 226],\n",
       " [1000455, 227],\n",
       " [1001786, 228],\n",
       " [1001882, 229],\n",
       " [1002535, 230],\n",
       " [1002662, 231],\n",
       " [1003431, 232],\n",
       " [1008408, 233],\n",
       " [1008827, 234],\n",
       " [1008925, 235],\n",
       " [1009368, 236],\n",
       " [1009494, 237],\n",
       " [1009843, 238],\n",
       " [1012179, 239],\n",
       " [1014370, 240],\n",
       " [1019555, 241],\n",
       " [1062678, 242],\n",
       " [1065054, 243],\n",
       " [1065174, 244],\n",
       " [1065280, 245],\n",
       " [1065372, 246],\n",
       " [1065804, 247],\n",
       " [1066458, 248],\n",
       " [1072620, 249],\n",
       " [1072818, 250],\n",
       " [1073592, 251],\n",
       " [1074797, 252],\n",
       " [1099185, 253],\n",
       " [1104236, 254],\n",
       " [1104427, 255],\n",
       " [1109014, 256],\n",
       " [1121279, 257],\n",
       " [1148637, 258],\n",
       " [1148802, 259],\n",
       " [1149679, 260],\n",
       " [1149885, 261],\n",
       " [1150412, 262],\n",
       " [1154791, 263],\n",
       " [1155692, 264],\n",
       " [1155827, 265],\n",
       " [1156136, 266],\n",
       " [1156263, 267],\n",
       " [1157426, 268],\n",
       " [1162972, 269],\n",
       " [1184440, 270],\n",
       " [1220872, 271],\n",
       " [1221351, 272],\n",
       " [1221414, 273],\n",
       " [1253442, 274],\n",
       " [1254217, 275],\n",
       " [1264821, 276],\n",
       " [1264937, 277],\n",
       " [1265095, 278],\n",
       " [1265179, 279],\n",
       " [1265917, 280],\n",
       " [1266457, 281],\n",
       " [1269675, 282],\n",
       " [1270069, 283],\n",
       " [1276446, 284],\n",
       " [1276544, 285],\n",
       " [1290553, 286],\n",
       " [1290745, 287],\n",
       " [1290996, 288],\n",
       " [1292145, 289],\n",
       " [1296558, 290],\n",
       " [1344210, 291],\n",
       " [1344319, 292],\n",
       " [1344854, 293],\n",
       " [1345263, 294],\n",
       " [1345726, 295],\n",
       " [1374681, 296],\n",
       " [1374798, 297],\n",
       " [1376755, 298],\n",
       " [1377211, 299],\n",
       " [1454156, 300],\n",
       " [1454269, 301],\n",
       " [1454445, 302],\n",
       " [1455325, 303],\n",
       " [1455551, 304],\n",
       " [1458979, 305],\n",
       " [1471800, 306],\n",
       " [1471998, 307],\n",
       " [1472121, 308],\n",
       " [1472322, 309],\n",
       " [1472776, 310],\n",
       " [1473222, 311],\n",
       " [1498058, 312],\n",
       " [1563536, 313],\n",
       " [1663349, 314],\n",
       " [1663864, 315],\n",
       " [1663974, 316],\n",
       " [1666495, 317],\n",
       " [1666590, 318],\n",
       " [1666686, 319],\n",
       " [1666806, 320],\n",
       " [1666931, 321],\n",
       " [1667076, 322],\n",
       " [1667975, 323],\n",
       " [1668688, 324],\n",
       " [1669080, 325],\n",
       " [1670202, 326],\n",
       " [1670368, 327],\n",
       " [1670547, 328],\n",
       " [1670745, 329],\n",
       " [1737012, 330],\n",
       " [1764051, 331],\n",
       " [1811219, 332],\n",
       " [1811369, 333],\n",
       " [1811763, 334],\n",
       " [1851639, 335],\n",
       " [1851789, 336],\n",
       " [1851989, 337],\n",
       " [1854283, 338],\n",
       " [1855686, 339],\n",
       " [1856240, 340],\n",
       " [1856419, 341],\n",
       " [1858282, 342],\n",
       " [1859641, 343],\n",
       " [1859734, 344],\n",
       " [1862339, 345],\n",
       " [1866515, 346],\n",
       " [1867001, 347],\n",
       " [1867110, 348],\n",
       " [1879850, 349],\n",
       " [1880434, 350],\n",
       " [1881586, 351],\n",
       " [1881716, 352],\n",
       " [1881836, 353],\n",
       " [1902297, 354],\n",
       " [1902440, 355],\n",
       " [1902591, 356],\n",
       " [1904462, 357],\n",
       " [1981777, 358],\n",
       " [1984786, 359],\n",
       " [1989367, 360],\n",
       " [1991599, 361],\n",
       " [2027449, 362],\n",
       " [2031386, 363],\n",
       " [2033030, 364],\n",
       " [2033154, 365],\n",
       " [2033415, 366],\n",
       " [2033766, 367],\n",
       " [2046204, 368],\n",
       " [2047600, 369],\n",
       " [2048563, 370],\n",
       " [2049048, 371],\n",
       " [2051053, 372],\n",
       " [2051202, 373],\n",
       " [2051288, 374],\n",
       " [2051532, 375],\n",
       " [2053597, 376],\n",
       " [2053791, 377],\n",
       " [2053904, 378],\n",
       " [2062090, 379],\n",
       " [2062249, 380],\n",
       " [2062779, 381],\n",
       " [2069440, 382],\n",
       " [2069599, 383],\n",
       " [2069823, 384],\n",
       " [2071262, 385],\n",
       " [2080631, 386],\n",
       " [2082101, 387],\n",
       " [2082690, 388],\n",
       " [2082908, 389],\n",
       " [2083300, 390],\n",
       " [2088543, 391],\n",
       " [2089116, 392],\n",
       " [2089177, 393],\n",
       " [2101071, 394],\n",
       " [2102689, 395],\n",
       " [2104512, 396],\n",
       " [2104717, 397],\n",
       " [2105466, 398],\n",
       " [2109032, 399],\n",
       " [2109158, 400],\n",
       " [2112852, 401],\n",
       " [2116099, 402],\n",
       " [2116222, 403],\n",
       " [2116663, 404],\n",
       " [2117122, 405],\n",
       " [2124244, 406],\n",
       " [2172862, 407],\n",
       " [2173082, 408],\n",
       " [2175904, 409],\n",
       " [2176352, 410],\n",
       " [2177362, 411],\n",
       " [2177566, 412],\n",
       " [2177887, 413],\n",
       " [2207797, 414],\n",
       " [2209226, 415],\n",
       " [2209353, 416],\n",
       " [2220610, 417],\n",
       " [2222076, 418],\n",
       " [2224138, 419],\n",
       " [2224740, 420],\n",
       " [2229236, 421],\n",
       " [2230224, 422],\n",
       " [2235723, 423],\n",
       " [2236020, 424],\n",
       " [2250141, 425],\n",
       " [2254674, 426],\n",
       " [2258892, 427],\n",
       " [2261574, 428],\n",
       " [2261690, 429],\n",
       " [2262910, 430],\n",
       " [2264457, 431],\n",
       " [2267907, 432],\n",
       " [2270622, 433],\n",
       " [2280666, 434],\n",
       " [2280805, 435],\n",
       " [2281149, 436],\n",
       " [2284635, 437],\n",
       " [2284801, 438],\n",
       " [2288514, 439],\n",
       " [2289203, 440],\n",
       " [2289311, 441],\n",
       " [2289652, 442],\n",
       " [2314945, 443],\n",
       " [2351461, 444],\n",
       " [2351552, 445],\n",
       " [2359087, 446],\n",
       " [2359807, 447],\n",
       " [2359899, 448],\n",
       " [2360089, 449],\n",
       " [2360180, 450],\n",
       " [2360318, 451],\n",
       " [2361431, 452],\n",
       " [2363862, 453],\n",
       " [2364289, 454],\n",
       " [2366123, 455],\n",
       " [2366908, 456],\n",
       " [2369359, 457],\n",
       " [2486122, 458],\n",
       " [2486478, 459],\n",
       " [2493750, 460],\n",
       " [2494095, 461],\n",
       " [2494640, 462],\n",
       " [2495419, 463],\n",
       " [2497706, 464],\n",
       " [2497789, 465],\n",
       " [2497890, 466],\n",
       " [2498253, 467],\n",
       " [2499309, 468],\n",
       " [2559725, 469],\n",
       " [2559831, 470],\n",
       " [2560411, 471],\n",
       " [2564912, 472],\n",
       " [2565428, 473],\n",
       " [2589031, 474],\n",
       " [2592067, 475],\n",
       " [2593109, 476],\n",
       " [2595137, 477],\n",
       " [2597379, 478],\n",
       " [2597811, 479],\n",
       " [2599584, 480],\n",
       " [2599944, 481],\n",
       " [2600321, 482],\n",
       " [2656826, 483],\n",
       " [2746837, 484],\n",
       " [2747070, 485],\n",
       " [2748397, 486],\n",
       " [2752298, 487],\n",
       " [2752576, 488],\n",
       " [2755824, 489],\n",
       " [2760651, 490],\n",
       " [2761525, 491],\n",
       " [2761814, 492],\n",
       " [2763538, 493],\n",
       " [2763645, 494],\n",
       " [2791247, 495],\n",
       " [2791787, 496],\n",
       " [2792023, 497],\n",
       " [2792599, 498],\n",
       " [2792882, 499],\n",
       " [2798671, 500],\n",
       " [2799204, 501],\n",
       " [2814384, 502],\n",
       " [2815962, 503],\n",
       " [2816214, 504],\n",
       " [2818558, 505],\n",
       " [2820934, 506],\n",
       " [2821092, 507],\n",
       " [2822402, 508],\n",
       " [2822597, 509],\n",
       " [2822784, 510],\n",
       " [2822969, 511],\n",
       " [2824683, 512],\n",
       " [2824981, 513],\n",
       " [2825406, 514],\n",
       " [2826274, 515],\n",
       " [2826407, 516],\n",
       " [2846589, 517],\n",
       " [2853157, 518],\n",
       " [2855426, 519],\n",
       " [2855768, 520],\n",
       " [2855944, 521],\n",
       " [2856077, 522],\n",
       " [2856398, 523],\n",
       " [2856693, 524],\n",
       " [2862830, 525],\n",
       " [2862976, 526],\n",
       " [2863558, 527],\n",
       " [2863830, 528],\n",
       " [2892285, 529],\n",
       " [2892775, 530],\n",
       " [2892932, 531],\n",
       " [2893339, 532],\n",
       " [2894397, 533],\n",
       " [2900313, 534],\n",
       " [2905631, 535],\n",
       " [2911742, 536],\n",
       " [2912159, 537],\n",
       " [2912347, 538],\n",
       " [2912550, 539],\n",
       " [2912779, 540],\n",
       " [2912942, 541],\n",
       " [2913047, 542],\n",
       " [2913219, 543],\n",
       " [2914429, 544],\n",
       " [2914583, 545],\n",
       " [2914922, 546],\n",
       " [2915079, 547],\n",
       " [2915679, 548],\n",
       " [2923419, 549],\n",
       " [2923492, 550],\n",
       " [2957290, 551],\n",
       " [2972113, 552],\n",
       " [2972844, 553],\n",
       " [2973444, 554],\n",
       " [2979335, 555],\n",
       " [2980386, 556],\n",
       " [2981016, 557],\n",
       " [2981190, 558],\n",
       " [2981768, 559],\n",
       " [2981884, 560],\n",
       " [2983591, 561],\n",
       " [2986392, 562],\n",
       " [2986479, 563],\n",
       " [2997326, 564],\n",
       " [3008152, 565],\n",
       " [3008285, 566],\n",
       " [3008937, 567],\n",
       " [3009118, 568],\n",
       " [3009303, 569],\n",
       " [3013654, 570],\n",
       " [3013917, 571],\n",
       " [3168750, 572],\n",
       " [3169311, 573],\n",
       " [3169516, 574],\n",
       " [3169625, 575],\n",
       " [3171748, 576],\n",
       " [3172396, 577],\n",
       " [3174491, 578],\n",
       " [3174726, 579],\n",
       " [3176774, 580],\n",
       " [3185040, 581],\n",
       " [3185125, 582],\n",
       " [3187339, 583],\n",
       " [3187495, 584],\n",
       " [3188504, 585],\n",
       " [3190488, 586],\n",
       " [3192825, 587],\n",
       " [3193354, 588],\n",
       " [3195408, 589],\n",
       " [3196008, 590],\n",
       " [3196186, 591],\n",
       " [3196701, 592],\n",
       " [3196839, 593],\n",
       " [3196932, 594],\n",
       " [3197227, 595],\n",
       " [3198850, 596],\n",
       " [3200012, 597],\n",
       " [3200229, 598],\n",
       " [3200477, 599],\n",
       " [3210224, 600],\n",
       " [3213135, 601],\n",
       " [3213542, 602],\n",
       " [3214735, 603],\n",
       " [3215137, 604],\n",
       " [3215253, 605],\n",
       " [3215492, 606],\n",
       " [3216337, 607],\n",
       " [3316586, 608],\n",
       " [3316655, 609],\n",
       " [3317426, 610],\n",
       " [3317531, 611],\n",
       " [3317678, 612],\n",
       " [3317933, 613],\n",
       " [3318514, 614],\n",
       " [3318657, 615],\n",
       " [3332446, 616],\n",
       " [3332561, 617],\n",
       " [3333357, 618],\n",
       " [3333719, 619],\n",
       " [3333986, 620],\n",
       " [3334657, 621],\n",
       " [3343210, 622],\n",
       " [3343558, 623],\n",
       " [3343798, 624],\n",
       " [3344893, 625],\n",
       " [3345490, 626],\n",
       " [3345788, 627],\n",
       " [3345887, 628],\n",
       " [3346552, 629],\n",
       " [3358369, 630],\n",
       " [3358615, 631],\n",
       " [3366915, 632],\n",
       " [3367644, 633],\n",
       " [3368066, 634],\n",
       " [3369599, 635],\n",
       " [3369741, 636],\n",
       " [3383461, 637],\n",
       " [3384158, 638],\n",
       " [3388324, 639],\n",
       " [3388516, 640],\n",
       " [3388954, 641],\n",
       " [3390154, 642],\n",
       " [3391391, 643],\n",
       " [3394672, 644],\n",
       " [3394975, 645],\n",
       " [3403661, 646],\n",
       " [3407697, 647],\n",
       " [3408389, 648],\n",
       " [3408560, 649],\n",
       " [3408641, 650],\n",
       " [3409081, 651],\n",
       " [3409226, 652],\n",
       " [3414356, 653],\n",
       " [3414493, 654],\n",
       " [3414579, 655],\n",
       " [3415397, 656],\n",
       " [3415517, 657],\n",
       " [3417448, 658],\n",
       " [3461450, 659],\n",
       " [3464440, 660],\n",
       " [3485242, 661],\n",
       " [3488684, 662],\n",
       " [3500094, 663],\n",
       " [3500906, 664],\n",
       " [3501264, 665],\n",
       " [3501472, 666],\n",
       " [3501824, 667],\n",
       " [3502929, 668],\n",
       " [3509294, 669],\n",
       " [3509374, 670],\n",
       " [3516942, 671],\n",
       " [3517421, 672],\n",
       " [3521868, 673],\n",
       " [3523201, 674],\n",
       " [3530839, 675],\n",
       " [3531019, 676],\n",
       " [3533408, 677],\n",
       " [3539760, 678],\n",
       " [3540043, 679],\n",
       " [3540132, 680],\n",
       " [3542830, 681],\n",
       " [3546917, 682],\n",
       " [3551684, 683],\n",
       " [3551823, 684],\n",
       " [3551998, 685],\n",
       " [3553062, 686],\n",
       " [3567732, 687],\n",
       " [3567866, 688],\n",
       " [3568191, 689],\n",
       " [3576886, 690],\n",
       " [3577816, 691],\n",
       " [3578005, 692],\n",
       " [3610834, 693],\n",
       " [3613241, 694],\n",
       " [3614127, 695],\n",
       " [3614294, 696],\n",
       " [3621389, 697],\n",
       " [3621599, 698],\n",
       " [3621679, 699],\n",
       " [3622039, 700],\n",
       " [3626724, 701],\n",
       " [3627047, 702],\n",
       " [3627257, 703],\n",
       " [3627452, 704],\n",
       " [3627615, 705],\n",
       " [3666296, 706],\n",
       " [3666964, 707],\n",
       " [3669241, 708],\n",
       " [3741623, 709],\n",
       " [3741987, 710],\n",
       " [3742245, 711],\n",
       " [3757005, 712],\n",
       " [3757904, 713],\n",
       " [3758035, 714],\n",
       " [3758112, 715],\n",
       " [3758616, 716],\n",
       " [3758719, 717],\n",
       " [3760671, 718],\n",
       " [3762419, 719],\n",
       " [3763234, 720],\n",
       " [3789953, 721],\n",
       " [3790297, 722],\n",
       " [3796253, 723],\n",
       " [3810292, 724],\n",
       " [3811516, 725],\n",
       " [3816649, 726],\n",
       " [3816818, 727],\n",
       " [3816952, 728],\n",
       " [3817135, 729],\n",
       " [3817350, 730],\n",
       " [3821819, 731],\n",
       " [3823814, 732],\n",
       " [3826378, 733],\n",
       " [3829065, 734],\n",
       " [3835781, 735],\n",
       " [3835979, 736],\n",
       " [3836295, 737],\n",
       " [3836403, 738],\n",
       " [3836994, 739],\n",
       " [3837933, 740],\n",
       " [3838060, 741],\n",
       " [3838480, 742],\n",
       " [3838696, 743],\n",
       " [3839156, 744],\n",
       " [3839263, 745],\n",
       " [3839377, 746],\n",
       " [3863505, 747],\n",
       " [3863610, 748],\n",
       " [3867248, 749],\n",
       " [3870554, 750],\n",
       " [3872626, 751],\n",
       " [3882187, 752],\n",
       " [3890857, 753],\n",
       " [3891017, 754],\n",
       " [3893054, 755],\n",
       " [3894063, 756],\n",
       " [3894151, 757],\n",
       " [3894276, 758],\n",
       " [3998639, 759],\n",
       " [4015496, 760],\n",
       " [4024809, 761],\n",
       " [4026873, 762],\n",
       " [4029209, 763],\n",
       " [4041127, 764],\n",
       " [4041782, 765],\n",
       " [4042000, 766],\n",
       " [4042406, 767],\n",
       " [4042721, 768],\n",
       " [4043381, 769],\n",
       " [4043493, 770],\n",
       " [4043662, 771],\n",
       " [4044051, 772],\n",
       " [4044121, 773],\n",
       " [4044654, 774],\n",
       " [4047130, 775],\n",
       " [4047609, 776],\n",
       " [4048966, 777],\n",
       " [4049579, 778],\n",
       " [4049706, 779],\n",
       " [4050134, 780],\n",
       " [4050532, 781],\n",
       " [4051274, 782],\n",
       " [4051370, 783],\n",
       " [4052574, 784],\n",
       " [4052799, 785],\n",
       " [4053187, 786],\n",
       " [4053696, 787],\n",
       " [4053779, 788],\n",
       " [4112307, 789],\n",
       " [4143845, 790],\n",
       " [4144211, 791],\n",
       " [4144600, 792],\n",
       " [4144721, 793],\n",
       " [4144929, 794],\n",
       " [4145739, 795],\n",
       " [4145951, 796],\n",
       " [4146401, 797],\n",
       " [4146722, 798],\n",
       " [4228001, 799],\n",
       " [4229106, 800],\n",
       " [4229261, 801],\n",
       " [4229420, 802],\n",
       " [4229521, 803],\n",
       " [4229885, 804],\n",
       " [4230495, 805],\n",
       " [4230792, 806],\n",
       " [4231789, 807],\n",
       " [4234851, 808],\n",
       " [4238565, 809],\n",
       " [4242454, 810],\n",
       " [4242560, 811],\n",
       " [4254109, 812],\n",
       " [4254232, 813],\n",
       " [4254375, 814],\n",
       " [4254805, 815],\n",
       " [4255045, 816],\n",
       " [4255147, 817],\n",
       " [4259998, 818],\n",
       " [4274383, 819],\n",
       " [4290170, 820],\n",
       " [4290216, 821],\n",
       " [4290336, 822],\n",
       " [4294149, 823],\n",
       " [4294427, 824],\n",
       " [4295366, 825],\n",
       " [4301239, 826],\n",
       " [4301412, 827],\n",
       " [4301580, 828],\n",
       " [4301798, 829],\n",
       " [4310891, 830],\n",
       " [4311025, 831],\n",
       " [4330589, 832],\n",
       " [4334084, 833],\n",
       " [4342463, 834],\n",
       " [4342836, 835],\n",
       " [4343474, 836],\n",
       " [4344266, 837],\n",
       " [4345511, 838],\n",
       " [4346110, 839],\n",
       " [4347028, 840],\n",
       " [4350585, 841],\n",
       " [4350736, 842],\n",
       " [4351316, 843],\n",
       " [4362718, 844],\n",
       " [4362899, 845],\n",
       " [4363136, 846],\n",
       " [4366735, 847],\n",
       " [4366981, 848],\n",
       " [4367351, 849],\n",
       " [4368879, 850],\n",
       " [4370975, 851],\n",
       " [4396076, 852],\n",
       " [4396646, 853],\n",
       " [4397112, 854],\n",
       " [4397270, 855],\n",
       " [4397728, 856],\n",
       " [4398114, 857],\n",
       " [4399602, 858],\n",
       " [4400155, 859],\n",
       " [4411232, 860],\n",
       " [4411362, 861],\n",
       " [4411936, 862],\n",
       " [4431288, 863],\n",
       " [4431584, 864],\n",
       " [4431798, 865],\n",
       " [4432054, 866],\n",
       " [4432880, 867],\n",
       " [4433016, 868],\n",
       " [4433653, 869],\n",
       " [4433767, 870],\n",
       " [4433905, 871],\n",
       " [4435326, 872],\n",
       " [4467018, 873],\n",
       " [4468250, 874],\n",
       " [4468353, 875],\n",
       " [4468550, 876],\n",
       " [4468737, 877],\n",
       " [4469177, 878],\n",
       " [4469270, 879],\n",
       " [4469729, 880],\n",
       " [4471401, 881],\n",
       " [4472534, 882],\n",
       " [4472617, 883],\n",
       " [4477154, 884],\n",
       " [4477250, 885],\n",
       " [4477713, 886],\n",
       " [4586320, 887],\n",
       " [4586562, 888],\n",
       " [4586672, 889],\n",
       " [4589587, 890],\n",
       " [4589946, 891],\n",
       " [4590234, 892],\n",
       " [4590877, 893],\n",
       " [4591658, 894],\n",
       " [4596503, 895],\n",
       " [4598971, 896],\n",
       " [4629565, 897],\n",
       " [4641922, 898],\n",
       " [4643149, 899],\n",
       " [4643339, 900],\n",
       " [4654517, 901],\n",
       " [4655109, 902],\n",
       " [4655710, 903],\n",
       " [4655819, 904],\n",
       " [4656018, 905],\n",
       " [4656165, 906],\n",
       " [4657022, 907],\n",
       " [4661923, 908],\n",
       " [4672962, 909],\n",
       " [4673301, 910],\n",
       " [4673438, 911],\n",
       " [4673978, 912],\n",
       " [4674301, 913],\n",
       " [4674470, 914],\n",
       " [4674593, 915],\n",
       " [4674637, 916],\n",
       " [4675080, 917],\n",
       " [4675193, 918],\n",
       " [4682768, 919],\n",
       " [4693603, 920],\n",
       " [4693717, 921],\n",
       " [4694503, 922],\n",
       " [4694707, 923],\n",
       " [4694821, 924],\n",
       " [4694915, 925],\n",
       " [4695645, 926],\n",
       " [4695755, 927],\n",
       " [4695973, 928],\n",
       " [4696317, 929],\n",
       " [4697226, 930],\n",
       " [4697865, 931],\n",
       " [4699675, 932],\n",
       " [4699829, 933],\n",
       " [4700093, 934],\n",
       " [4701460, 935],\n",
       " [4702187, 936],\n",
       " [4702357, 937],\n",
       " [4726049, 938],\n",
       " [4726230, 939],\n",
       " [4726392, 940],\n",
       " [4744857, 941],\n",
       " [4745019, 942],\n",
       " [4748274, 943],\n",
       " [4750028, 944],\n",
       " [4750118, 945],\n",
       " [4750232, 946],\n",
       " [4750374, 947],\n",
       " [4751401, 948],\n",
       " [4751538, 949],\n",
       " [4753215, 950],\n",
       " [4753307, 951],\n",
       " [4753640, 952],\n",
       " [4756051, 953],\n",
       " [4763052, 954],\n",
       " [4771142, 955],\n",
       " [4771407, 956],\n",
       " [4774445, 957],\n",
       " [4775061, 958],\n",
       " [4775326, 959],\n",
       " [4775521, 960],\n",
       " [4776594, 961],\n",
       " [4778965, 962],\n",
       " [4800250, 963],\n",
       " [4837561, 964],\n",
       " [4840438, 965],\n",
       " [4840763, 966],\n",
       " [4840960, 967],\n",
       " [4841827, 968],\n",
       " [4841935, 969],\n",
       " [4842068, 970],\n",
       " [4842272, 971],\n",
       " [4845410, 972],\n",
       " [4845639, 973],\n",
       " [4845865, 974],\n",
       " [4846492, 975],\n",
       " [4846623, 976],\n",
       " [4846790, 977],\n",
       " [4848867, 978],\n",
       " [4851123, 979],\n",
       " [4851252, 980],\n",
       " [4852480, 981],\n",
       " [4852795, 982],\n",
       " [4854359, 983],\n",
       " [4854857, 984],\n",
       " [4856571, 985],\n",
       " [4946571, 986],\n",
       " [4950210, 987],\n",
       " [4950306, 988],\n",
       " [4952146, 989],\n",
       " [4970445, 990],\n",
       " [4973404, 991],\n",
       " [4973764, 992],\n",
       " [4979975, 993],\n",
       " [4983313, 994],\n",
       " [4996567, 995],\n",
       " [4996672, 996],\n",
       " [5008531, 997],\n",
       " [5008834, 998],\n",
       " [5009281, 999],\n",
       " [5010438, 1000],\n",
       " ...]"
      ]
     },
     "execution_count": 15,
     "metadata": {},
     "output_type": "execute_result"
    }
   ],
   "source": [
    "movie_indices"
   ]
  },
  {
   "cell_type": "markdown",
   "metadata": {},
   "source": [
    "`class collections.dequeue([iterable[, maxlen]])`\n",
    "Returns a new deque object initialized left to right (using append()) with data from iterable."
   ]
  },
  {
   "cell_type": "code",
   "execution_count": 16,
   "metadata": {},
   "outputs": [],
   "source": [
    "# Shift the movie_indices by one to get start and endpoints of all movies\n",
    "shifted_movie_indices = deque(movie_indices)\n",
    "shifted_movie_indices.rotate(-1)\n"
   ]
  },
  {
   "cell_type": "code",
   "execution_count": 17,
   "metadata": {},
   "outputs": [
    {
     "name": "stdout",
     "output_type": "stream",
     "text": [
      "[136 / 4499: 3.023]\n",
      "[312 / 4499: 6.935]\n",
      "[527 / 4499: 11.714]\n",
      "[740 / 4499: 16.448]\n",
      "[917 / 4499: 20.382]\n",
      "[1081 / 4499: 24.028]\n",
      "[1274 / 4499: 28.317]\n",
      "[1471 / 4499: 32.696]\n",
      "[1670 / 4499: 37.119]\n",
      "[1878 / 4499: 41.743]\n",
      "[2091 / 4499: 46.477]\n",
      "[2311 / 4499: 51.367]\n",
      "[2527 / 4499: 56.168]\n",
      "[2752 / 4499: 61.169]\n",
      "[2974 / 4499: 66.104]\n",
      "[3194 / 4499: 70.994]\n",
      "[3408 / 4499: 75.750]\n",
      "[3621 / 4499: 80.485]\n",
      "[3835 / 4499: 85.241]\n",
      "[4051 / 4499: 90.042]\n",
      "[4270 / 4499: 94.910]\n",
      "[4490 / 4499: 99.800]\n",
      "Shape User-Ratings:  (24058262, 4)\n"
     ]
    }
   ],
   "source": [
    "import time\n",
    "\n",
    "# Gather all dataframes\n",
    "user_data = []\n",
    "\n",
    "counter = 0\n",
    "print_time = time.time() + 5\n",
    "\n",
    "# Iterate over all movies\n",
    "for (df_id_1, movie_id), (df_id_2, next_movie_id) in zip(movie_indices, shifted_movie_indices):\n",
    "    # now we have access to the start and stop indices that group\n",
    "    # together movie ratings from various users for a movie_id\n",
    "    \n",
    "    # Check if it is the last movie in the file\n",
    "    if df_id_1<df_id_2:\n",
    "        # Normal chunk of ratings\n",
    "        tmp_df = df_raw.loc[df_id_1+1:df_id_2]\n",
    "    else:\n",
    "        # Next index wrapped around indicating \n",
    "        # This is the last chunk of ratings\n",
    "        tmp_df = df_raw.loc[df_id_1+1:].copy()\n",
    "    \n",
    "    # Create movie_id column\n",
    "    tmp_df['Movie'] = movie_id\n",
    "    \n",
    "    # Append dataframe to list\n",
    "    user_data.append(tmp_df)\n",
    "    \n",
    "    counter += 1\n",
    "    \n",
    "    if time.time() > print_time:\n",
    "        print_time = time.time() + 5\n",
    "        \n",
    "        total = len(movie_indices)\n",
    "        complete = counter / total * 100\n",
    "        \n",
    "        print('[%d / %d: %.3f]'%(counter, total, complete))\n",
    "\n",
    "# Combine all dataframes\n",
    "df = pd.concat(user_data, axis=0)\n",
    "\n",
    "del user_data, df_raw, tmp_movies, tmp_df, shifted_movie_indices, movie_indices, df_id_1, movie_id, df_id_2, next_movie_id\n",
    "print('Shape User-Ratings: ', df.shape)"
   ]
  },
  {
   "cell_type": "code",
   "execution_count": 18,
   "metadata": {},
   "outputs": [
    {
     "data": {
      "text/html": [
       "<div>\n",
       "<style scoped>\n",
       "    .dataframe tbody tr th:only-of-type {\n",
       "        vertical-align: middle;\n",
       "    }\n",
       "\n",
       "    .dataframe tbody tr th {\n",
       "        vertical-align: top;\n",
       "    }\n",
       "\n",
       "    .dataframe thead th {\n",
       "        text-align: right;\n",
       "    }\n",
       "</style>\n",
       "<table border=\"1\" class=\"dataframe\">\n",
       "  <thead>\n",
       "    <tr style=\"text-align: right;\">\n",
       "      <th></th>\n",
       "      <th>User</th>\n",
       "      <th>Rating</th>\n",
       "      <th>Date</th>\n",
       "      <th>Movie</th>\n",
       "    </tr>\n",
       "  </thead>\n",
       "  <tbody>\n",
       "    <tr>\n",
       "      <th>1</th>\n",
       "      <td>1488844</td>\n",
       "      <td>3.0</td>\n",
       "      <td>2005-09-06</td>\n",
       "      <td>1</td>\n",
       "    </tr>\n",
       "    <tr>\n",
       "      <th>2</th>\n",
       "      <td>822109</td>\n",
       "      <td>5.0</td>\n",
       "      <td>2005-05-13</td>\n",
       "      <td>1</td>\n",
       "    </tr>\n",
       "    <tr>\n",
       "      <th>3</th>\n",
       "      <td>885013</td>\n",
       "      <td>4.0</td>\n",
       "      <td>2005-10-19</td>\n",
       "      <td>1</td>\n",
       "    </tr>\n",
       "    <tr>\n",
       "      <th>4</th>\n",
       "      <td>30878</td>\n",
       "      <td>4.0</td>\n",
       "      <td>2005-12-26</td>\n",
       "      <td>1</td>\n",
       "    </tr>\n",
       "    <tr>\n",
       "      <th>5</th>\n",
       "      <td>823519</td>\n",
       "      <td>3.0</td>\n",
       "      <td>2004-05-03</td>\n",
       "      <td>1</td>\n",
       "    </tr>\n",
       "    <tr>\n",
       "      <th>6</th>\n",
       "      <td>893988</td>\n",
       "      <td>3.0</td>\n",
       "      <td>2005-11-17</td>\n",
       "      <td>1</td>\n",
       "    </tr>\n",
       "    <tr>\n",
       "      <th>7</th>\n",
       "      <td>124105</td>\n",
       "      <td>4.0</td>\n",
       "      <td>2004-08-05</td>\n",
       "      <td>1</td>\n",
       "    </tr>\n",
       "    <tr>\n",
       "      <th>8</th>\n",
       "      <td>1248029</td>\n",
       "      <td>3.0</td>\n",
       "      <td>2004-04-22</td>\n",
       "      <td>1</td>\n",
       "    </tr>\n",
       "    <tr>\n",
       "      <th>9</th>\n",
       "      <td>1842128</td>\n",
       "      <td>4.0</td>\n",
       "      <td>2004-05-09</td>\n",
       "      <td>1</td>\n",
       "    </tr>\n",
       "    <tr>\n",
       "      <th>10</th>\n",
       "      <td>2238063</td>\n",
       "      <td>3.0</td>\n",
       "      <td>2005-05-11</td>\n",
       "      <td>1</td>\n",
       "    </tr>\n",
       "    <tr>\n",
       "      <th>11</th>\n",
       "      <td>1503895</td>\n",
       "      <td>4.0</td>\n",
       "      <td>2005-05-19</td>\n",
       "      <td>1</td>\n",
       "    </tr>\n",
       "    <tr>\n",
       "      <th>12</th>\n",
       "      <td>2207774</td>\n",
       "      <td>5.0</td>\n",
       "      <td>2005-06-06</td>\n",
       "      <td>1</td>\n",
       "    </tr>\n",
       "    <tr>\n",
       "      <th>13</th>\n",
       "      <td>2590061</td>\n",
       "      <td>3.0</td>\n",
       "      <td>2004-08-12</td>\n",
       "      <td>1</td>\n",
       "    </tr>\n",
       "    <tr>\n",
       "      <th>14</th>\n",
       "      <td>2442</td>\n",
       "      <td>3.0</td>\n",
       "      <td>2004-04-14</td>\n",
       "      <td>1</td>\n",
       "    </tr>\n",
       "    <tr>\n",
       "      <th>15</th>\n",
       "      <td>543865</td>\n",
       "      <td>4.0</td>\n",
       "      <td>2004-05-28</td>\n",
       "      <td>1</td>\n",
       "    </tr>\n",
       "    <tr>\n",
       "      <th>16</th>\n",
       "      <td>1209119</td>\n",
       "      <td>4.0</td>\n",
       "      <td>2004-03-23</td>\n",
       "      <td>1</td>\n",
       "    </tr>\n",
       "    <tr>\n",
       "      <th>17</th>\n",
       "      <td>804919</td>\n",
       "      <td>4.0</td>\n",
       "      <td>2004-06-10</td>\n",
       "      <td>1</td>\n",
       "    </tr>\n",
       "    <tr>\n",
       "      <th>18</th>\n",
       "      <td>1086807</td>\n",
       "      <td>3.0</td>\n",
       "      <td>2004-12-28</td>\n",
       "      <td>1</td>\n",
       "    </tr>\n",
       "    <tr>\n",
       "      <th>19</th>\n",
       "      <td>1711859</td>\n",
       "      <td>4.0</td>\n",
       "      <td>2005-05-08</td>\n",
       "      <td>1</td>\n",
       "    </tr>\n",
       "    <tr>\n",
       "      <th>20</th>\n",
       "      <td>372233</td>\n",
       "      <td>5.0</td>\n",
       "      <td>2005-11-23</td>\n",
       "      <td>1</td>\n",
       "    </tr>\n",
       "  </tbody>\n",
       "</table>\n",
       "</div>"
      ],
      "text/plain": [
       "       User  Rating        Date  Movie\n",
       "1   1488844     3.0  2005-09-06      1\n",
       "2    822109     5.0  2005-05-13      1\n",
       "3    885013     4.0  2005-10-19      1\n",
       "4     30878     4.0  2005-12-26      1\n",
       "5    823519     3.0  2004-05-03      1\n",
       "6    893988     3.0  2005-11-17      1\n",
       "7    124105     4.0  2004-08-05      1\n",
       "8   1248029     3.0  2004-04-22      1\n",
       "9   1842128     4.0  2004-05-09      1\n",
       "10  2238063     3.0  2005-05-11      1\n",
       "11  1503895     4.0  2005-05-19      1\n",
       "12  2207774     5.0  2005-06-06      1\n",
       "13  2590061     3.0  2004-08-12      1\n",
       "14     2442     3.0  2004-04-14      1\n",
       "15   543865     4.0  2004-05-28      1\n",
       "16  1209119     4.0  2004-03-23      1\n",
       "17   804919     4.0  2004-06-10      1\n",
       "18  1086807     3.0  2004-12-28      1\n",
       "19  1711859     4.0  2005-05-08      1\n",
       "20   372233     5.0  2005-11-23      1"
      ]
     },
     "execution_count": 18,
     "metadata": {},
     "output_type": "execute_result"
    }
   ],
   "source": [
    "df.head(20)"
   ]
  },
  {
   "cell_type": "markdown",
   "metadata": {
    "colab_type": "text",
    "id": "sg90OAW_zUwL"
   },
   "source": [
    "There are about 24 Million+ different rating records!"
   ]
  },
  {
   "cell_type": "markdown",
   "metadata": {
    "colab_type": "text",
    "id": "xKIrEduYz6gh"
   },
   "source": [
    "We have taken the data required for building the system and now let's do some EDA on the dataset to better understand our data"
   ]
  },
  {
   "cell_type": "markdown",
   "metadata": {
    "colab_type": "text",
    "id": "4wQzTRdm0tYg"
   },
   "source": [
    "# 4. Exploratory Data Analysis"
   ]
  },
  {
   "cell_type": "markdown",
   "metadata": {
    "colab_type": "text",
    "id": "KVaYGLc94aGm"
   },
   "source": [
    "## 4.1: When were the movies released?\n"
   ]
  },
  {
   "cell_type": "code",
   "execution_count": 19,
   "metadata": {},
   "outputs": [],
   "source": [
    "# Remove rows that have blank strings for the Year\n",
    "movie_titles = movie_titles['' != movie_titles['Year']]"
   ]
  },
  {
   "cell_type": "code",
   "execution_count": 20,
   "metadata": {
    "colab": {
     "base_uri": "https://localhost:8080/",
     "height": 374
    },
    "colab_type": "code",
    "id": "-iwB_2Cm24FL",
    "outputId": "b94a5226-9278-4579-e190-c8b20f2903c5"
   },
   "outputs": [
    {
     "data": {
      "image/png": "[encoded data removed]",
      "text/plain": [
       "<Figure size 1008x432 with 1 Axes>"
      ]
     },
     "metadata": {
      "needs_background": "light"
     },
     "output_type": "display_data"
    }
   ],
   "source": [
    "fig, ax = plt.subplots(1, 1, figsize=(14, 6))\n",
    "\n",
    "data = movie_titles['Year'].value_counts().sort_index()\n",
    "x = data.index.map(int)\n",
    "y = data.values\n",
    "\n",
    "sns.barplot(x, y)\n",
    "xmin, xmax = plt.xlim()\n",
    "xtick_labels = [x[0]] + list(x[10:-10:10]) + [x[-1]]\n",
    "plt.xticks(ticks=np.linspace(xmin, xmax, 10), labels=xtick_labels);"
   ]
  },
  {
   "cell_type": "markdown",
   "metadata": {
    "colab_type": "text",
    "id": "lJ2mWAym5rBL"
   },
   "source": [
    "Many movies on Netflix have been released in this millennial. Whether Netflix prefers young movies or there are no old movies left can not be deduced from this plot.\n",
    "The decline for the rightmost point is probably caused by an incomplete last year."
   ]
  },
  {
   "cell_type": "markdown",
   "metadata": {
    "colab_type": "text",
    "id": "QACzcP3w4z6j"
   },
   "source": [
    "## Q 4.2: How are The Ratings Distributed?\n",
    "\n",
    "__Your Turn:__ Build the visualization for rating distributions similar to the previous plot.\n"
   ]
  },
  {
   "cell_type": "code",
   "execution_count": 21,
   "metadata": {
    "colab": {
     "base_uri": "https://localhost:8080/",
     "height": 385
    },
    "colab_type": "code",
    "id": "16Mvv0w124FP",
    "outputId": "b9643de6-3b43-4826-ef57-744fde784404"
   },
   "outputs": [
    {
     "data": {
      "text/html": [
       "<div>\n",
       "<style scoped>\n",
       "    .dataframe tbody tr th:only-of-type {\n",
       "        vertical-align: middle;\n",
       "    }\n",
       "\n",
       "    .dataframe tbody tr th {\n",
       "        vertical-align: top;\n",
       "    }\n",
       "\n",
       "    .dataframe thead th {\n",
       "        text-align: right;\n",
       "    }\n",
       "</style>\n",
       "<table border=\"1\" class=\"dataframe\">\n",
       "  <thead>\n",
       "    <tr style=\"text-align: right;\">\n",
       "      <th></th>\n",
       "      <th>Year</th>\n",
       "      <th>Name</th>\n",
       "    </tr>\n",
       "    <tr>\n",
       "      <th>Id</th>\n",
       "      <th></th>\n",
       "      <th></th>\n",
       "    </tr>\n",
       "  </thead>\n",
       "  <tbody>\n",
       "    <tr>\n",
       "      <th>1</th>\n",
       "      <td>2003.0</td>\n",
       "      <td>Dinosaur Planet</td>\n",
       "    </tr>\n",
       "    <tr>\n",
       "      <th>2</th>\n",
       "      <td>2004.0</td>\n",
       "      <td>Isle of Man TT 2004 Review</td>\n",
       "    </tr>\n",
       "    <tr>\n",
       "      <th>3</th>\n",
       "      <td>1997.0</td>\n",
       "      <td>Character</td>\n",
       "    </tr>\n",
       "    <tr>\n",
       "      <th>4</th>\n",
       "      <td>1994.0</td>\n",
       "      <td>Paula Abdul's Get Up &amp; Dance</td>\n",
       "    </tr>\n",
       "    <tr>\n",
       "      <th>5</th>\n",
       "      <td>2004.0</td>\n",
       "      <td>The Rise and Fall of ECW</td>\n",
       "    </tr>\n",
       "  </tbody>\n",
       "</table>\n",
       "</div>"
      ],
      "text/plain": [
       "      Year                          Name\n",
       "Id                                      \n",
       "1   2003.0               Dinosaur Planet\n",
       "2   2004.0    Isle of Man TT 2004 Review\n",
       "3   1997.0                     Character\n",
       "4   1994.0  Paula Abdul's Get Up & Dance\n",
       "5   2004.0      The Rise and Fall of ECW"
      ]
     },
     "execution_count": 21,
     "metadata": {},
     "output_type": "execute_result"
    }
   ],
   "source": [
    "movie_titles.head()"
   ]
  },
  {
   "cell_type": "code",
   "execution_count": 22,
   "metadata": {},
   "outputs": [
    {
     "data": {
      "text/html": [
       "<div>\n",
       "<style scoped>\n",
       "    .dataframe tbody tr th:only-of-type {\n",
       "        vertical-align: middle;\n",
       "    }\n",
       "\n",
       "    .dataframe tbody tr th {\n",
       "        vertical-align: top;\n",
       "    }\n",
       "\n",
       "    .dataframe thead th {\n",
       "        text-align: right;\n",
       "    }\n",
       "</style>\n",
       "<table border=\"1\" class=\"dataframe\">\n",
       "  <thead>\n",
       "    <tr style=\"text-align: right;\">\n",
       "      <th></th>\n",
       "      <th>User</th>\n",
       "      <th>Rating</th>\n",
       "      <th>Date</th>\n",
       "      <th>Movie</th>\n",
       "    </tr>\n",
       "  </thead>\n",
       "  <tbody>\n",
       "    <tr>\n",
       "      <th>1</th>\n",
       "      <td>1488844</td>\n",
       "      <td>3.0</td>\n",
       "      <td>2005-09-06</td>\n",
       "      <td>1</td>\n",
       "    </tr>\n",
       "    <tr>\n",
       "      <th>2</th>\n",
       "      <td>822109</td>\n",
       "      <td>5.0</td>\n",
       "      <td>2005-05-13</td>\n",
       "      <td>1</td>\n",
       "    </tr>\n",
       "    <tr>\n",
       "      <th>3</th>\n",
       "      <td>885013</td>\n",
       "      <td>4.0</td>\n",
       "      <td>2005-10-19</td>\n",
       "      <td>1</td>\n",
       "    </tr>\n",
       "    <tr>\n",
       "      <th>4</th>\n",
       "      <td>30878</td>\n",
       "      <td>4.0</td>\n",
       "      <td>2005-12-26</td>\n",
       "      <td>1</td>\n",
       "    </tr>\n",
       "    <tr>\n",
       "      <th>5</th>\n",
       "      <td>823519</td>\n",
       "      <td>3.0</td>\n",
       "      <td>2004-05-03</td>\n",
       "      <td>1</td>\n",
       "    </tr>\n",
       "  </tbody>\n",
       "</table>\n",
       "</div>"
      ],
      "text/plain": [
       "      User  Rating        Date  Movie\n",
       "1  1488844     3.0  2005-09-06      1\n",
       "2   822109     5.0  2005-05-13      1\n",
       "3   885013     4.0  2005-10-19      1\n",
       "4    30878     4.0  2005-12-26      1\n",
       "5   823519     3.0  2004-05-03      1"
      ]
     },
     "execution_count": 22,
     "metadata": {},
     "output_type": "execute_result"
    }
   ],
   "source": [
    "df.head()"
   ]
  },
  {
   "cell_type": "code",
   "execution_count": 23,
   "metadata": {},
   "outputs": [],
   "source": [
    "counts = df['Rating'].value_counts().sort_index()"
   ]
  },
  {
   "cell_type": "code",
   "execution_count": 24,
   "metadata": {},
   "outputs": [],
   "source": [
    "total_counts = np.sum(counts.values)"
   ]
  },
  {
   "cell_type": "code",
   "execution_count": 25,
   "metadata": {},
   "outputs": [
    {
     "data": {
      "text/plain": [
       "<AxesSubplot:>"
      ]
     },
     "execution_count": 25,
     "metadata": {},
     "output_type": "execute_result"
    },
    {
     "data": {
      "image/png": "[encoded data removed]",
      "text/plain": [
       "<Figure size 432x288 with 1 Axes>"
      ]
     },
     "metadata": {
      "needs_background": "light"
     },
     "output_type": "display_data"
    }
   ],
   "source": [
    "x = counts.index.map(int)\n",
    "y = counts.values / total_counts * 100.0\n",
    "\n",
    "sns.barplot(x, y)"
   ]
  },
  {
   "cell_type": "markdown",
   "metadata": {
    "colab_type": "text",
    "id": "Pn5uhmcu5xCE"
   },
   "source": [
    "Netflix movies rarely have a rating lower than three. Most ratings have between three and four stars.\n",
    "The distribution is probably biased, since only people liking the movies proceed to be customers and others presumably will leave the platform."
   ]
  },
  {
   "cell_type": "markdown",
   "metadata": {
    "colab_type": "text",
    "id": "PQwkKk935eRl"
   },
   "source": [
    "## 4.3: Visualize the Distribution of Number of Movie Ratings \n",
    "\n",
    "This is to understand how many movies (y-axis) are receiving specific number of movie ratings (x-axis)"
   ]
  },
  {
   "cell_type": "code",
   "execution_count": 26,
   "metadata": {},
   "outputs": [
    {
     "data": {
      "text/plain": [
       "Movie\n",
       "1        547\n",
       "2        145\n",
       "3       2012\n",
       "4        142\n",
       "5       1140\n",
       "        ... \n",
       "4495     614\n",
       "4496    9519\n",
       "4497     714\n",
       "4498     269\n",
       "4499     428\n",
       "Name: Rating, Length: 4499, dtype: int64"
      ]
     },
     "execution_count": 26,
     "metadata": {},
     "output_type": "execute_result"
    }
   ],
   "source": [
    "df.groupby('Movie')['Rating'].count()"
   ]
  },
  {
   "cell_type": "code",
   "execution_count": 27,
   "metadata": {
    "colab": {
     "base_uri": "https://localhost:8080/",
     "height": 388
    },
    "colab_type": "code",
    "id": "yatEt4eE24FS",
    "outputId": "ca1767f5-2bf8-407a-e232-26e44bac8d2d"
   },
   "outputs": [
    {
     "data": {
      "image/png": "[encoded data removed]",
      "text/plain": [
       "<Figure size 1008x432 with 2 Axes>"
      ]
     },
     "metadata": {
      "needs_background": "light"
     },
     "output_type": "display_data"
    }
   ],
   "source": [
    "fig, ax = plt.subplots(1, 2, figsize=(14, 6))\n",
    "\n",
    "data = df.groupby('Movie')['Rating'].count()\n",
    "sns.distplot(data[data  < 10000], kde=False, ax=ax[0]);\n",
    "sns.distplot(data[data  > 10000], kde=False, ax=ax[1]);"
   ]
  },
  {
   "cell_type": "markdown",
   "metadata": {},
   "source": [
    "This just says that most movies get few number of users who actually rate it"
   ]
  },
  {
   "cell_type": "markdown",
   "metadata": {
    "colab_type": "text",
    "id": "lS5we5r4-nyV"
   },
   "source": [
    "## Q 4.4: Visualize the Distribution of Number of User Ratings \n",
    "\n",
    "This is to understand how many users (y-axis) are giving specific number of movie ratings (x-axis)\n",
    "\n",
    "__Your Turn:__ Try to find out an optimal threshold as in the previous example to split the data to form two understandable subplots!"
   ]
  },
  {
   "cell_type": "code",
   "execution_count": 28,
   "metadata": {},
   "outputs": [],
   "source": [
    "counts = df.groupby('User')['Rating'].count()"
   ]
  },
  {
   "cell_type": "code",
   "execution_count": 29,
   "metadata": {},
   "outputs": [
    {
     "data": {
      "text/plain": [
       "<AxesSubplot:xlabel='Rating'>"
      ]
     },
     "execution_count": 29,
     "metadata": {},
     "output_type": "execute_result"
    },
    {
     "data": {
      "image/png": "[encoded data removed]",
      "text/plain": [
       "<Figure size 1008x432 with 3 Axes>"
      ]
     },
     "metadata": {
      "needs_background": "light"
     },
     "output_type": "display_data"
    }
   ],
   "source": [
    "fig, ax = plt.subplots(1, 3, figsize=(14, 6))\n",
    "\n",
    "div = 100\n",
    "\n",
    "sns.distplot(counts[counts <  100], kde=False, ax=ax[0])\n",
    "sns.distplot(counts[(100 <= counts) & (counts < 1000)], kde=False, ax=ax[1])\n",
    "sns.distplot(counts[1000 <= counts], kde=False, ax=ax[2])"
   ]
  },
  {
   "cell_type": "markdown",
   "metadata": {
    "colab_type": "text",
    "id": "EMOY1tG75i24"
   },
   "source": [
    "The ratings per movie as well as the ratings per user both have nearly a perfect exponential decay. Only very few movies/users have many ratings."
   ]
  },
  {
   "cell_type": "markdown",
   "metadata": {
    "colab_type": "text",
    "id": "p5S7Q14L_CL1"
   },
   "source": [
    "# 5. Dimensionality Reduction & Filtering"
   ]
  },
  {
   "cell_type": "markdown",
   "metadata": {
    "colab_type": "text",
    "id": "h5YZwbcH7LzU"
   },
   "source": [
    "## Filter Sparse Movies And Users\n",
    "\n",
    "To reduce the dimensionality of the dataset I am filtering rarely rated movies and rarely rating users out.\n"
   ]
  },
  {
   "cell_type": "code",
   "execution_count": 30,
   "metadata": {},
   "outputs": [],
   "source": [
    "# Get list of movies with more than 1000 ratings\n",
    "min_movie_ratings = 1000\n",
    "filter_movies = df['Movie'].value_counts() > min_movie_ratings\n",
    "filter_movies = filter_movies[filter_movies].index.tolist()"
   ]
  },
  {
   "cell_type": "code",
   "execution_count": 31,
   "metadata": {},
   "outputs": [],
   "source": [
    "# Get list of users with more than 100 ratings\n",
    "min_user_ratings = 200\n",
    "filter_users = df['User'].value_counts() > min_user_ratings\n",
    "filter_users = filter_users[filter_users].index.tolist()"
   ]
  },
  {
   "cell_type": "code",
   "execution_count": 32,
   "metadata": {},
   "outputs": [],
   "source": [
    "# Use the lists to filter the data\n",
    "movie_mask = df['Movie'].isin(filter_movies)\n",
    "user_mask = df['User'].isin(filter_users)\n",
    "\n",
    "mask = movie_mask & user_mask\n",
    "\n",
    "df_filtered = df[mask]\n",
    "\n",
    "del filter_movies, filter_users, min_movie_ratings, min_user_ratings, movie_mask, user_mask, mask"
   ]
  },
  {
   "cell_type": "code",
   "execution_count": 33,
   "metadata": {},
   "outputs": [
    {
     "name": "stdout",
     "output_type": "stream",
     "text": [
      "Filtered df shape:  (5930952, 4)\n",
      "Un-filte df shape:  (24058262, 4)\n"
     ]
    }
   ],
   "source": [
    "print('Filtered df shape: ', df_filtered.shape)\n",
    "print('Un-filte df shape: ', df.shape)"
   ]
  },
  {
   "cell_type": "markdown",
   "metadata": {
    "colab_type": "text",
    "id": "9GQ4JmM67TYQ"
   },
   "source": [
    "After filtering sparse movies and users about 5.9M rating records are present."
   ]
  },
  {
   "cell_type": "markdown",
   "metadata": {
    "colab_type": "text",
    "id": "EI1CoJP9_kbF"
   },
   "source": [
    "# 6. Create Train and Test Datasets\n",
    "\n",
    "Do note this will be used for the statistical method based models and collaborative filtering.\n",
    "\n",
    "For content based filtering it is more of a model which recommends movies rather than predicting ratings and for the hybrid model we will need to recreate the train and test datasets later since we need to create a subset of movies-users-ratings which have movie text descriptions."
   ]
  },
  {
   "cell_type": "markdown",
   "metadata": {
    "colab_type": "text",
    "id": "G7LX0sob7a2Z"
   },
   "source": [
    "## Create Train and Test datasets"
   ]
  },
  {
   "cell_type": "code",
   "execution_count": 34,
   "metadata": {},
   "outputs": [],
   "source": [
    "# Shuffle DataFrame\n",
    "df_filtered = df_filtered.drop('Date', axis=1).sample(frac=1).reset_index(drop=True)"
   ]
  },
  {
   "cell_type": "code",
   "execution_count": 35,
   "metadata": {},
   "outputs": [
    {
     "data": {
      "text/plain": [
       "(5930952, 3)"
      ]
     },
     "execution_count": 35,
     "metadata": {},
     "output_type": "execute_result"
    }
   ],
   "source": [
    "df_filtered.shape"
   ]
  },
  {
   "cell_type": "code",
   "execution_count": 36,
   "metadata": {},
   "outputs": [
    {
     "data": {
      "text/html": [
       "<div>\n",
       "<style scoped>\n",
       "    .dataframe tbody tr th:only-of-type {\n",
       "        vertical-align: middle;\n",
       "    }\n",
       "\n",
       "    .dataframe tbody tr th {\n",
       "        vertical-align: top;\n",
       "    }\n",
       "\n",
       "    .dataframe thead th {\n",
       "        text-align: right;\n",
       "    }\n",
       "</style>\n",
       "<table border=\"1\" class=\"dataframe\">\n",
       "  <thead>\n",
       "    <tr style=\"text-align: right;\">\n",
       "      <th></th>\n",
       "      <th>User</th>\n",
       "      <th>Rating</th>\n",
       "      <th>Movie</th>\n",
       "    </tr>\n",
       "  </thead>\n",
       "  <tbody>\n",
       "    <tr>\n",
       "      <th>0</th>\n",
       "      <td>1240094</td>\n",
       "      <td>2.0</td>\n",
       "      <td>2457</td>\n",
       "    </tr>\n",
       "    <tr>\n",
       "      <th>1</th>\n",
       "      <td>508852</td>\n",
       "      <td>1.0</td>\n",
       "      <td>3264</td>\n",
       "    </tr>\n",
       "    <tr>\n",
       "      <th>2</th>\n",
       "      <td>406365</td>\n",
       "      <td>4.0</td>\n",
       "      <td>2254</td>\n",
       "    </tr>\n",
       "    <tr>\n",
       "      <th>3</th>\n",
       "      <td>1248029</td>\n",
       "      <td>3.0</td>\n",
       "      <td>3433</td>\n",
       "    </tr>\n",
       "    <tr>\n",
       "      <th>4</th>\n",
       "      <td>2509840</td>\n",
       "      <td>4.0</td>\n",
       "      <td>3323</td>\n",
       "    </tr>\n",
       "  </tbody>\n",
       "</table>\n",
       "</div>"
      ],
      "text/plain": [
       "      User  Rating  Movie\n",
       "0  1240094     2.0   2457\n",
       "1   508852     1.0   3264\n",
       "2   406365     4.0   2254\n",
       "3  1248029     3.0   3433\n",
       "4  2509840     4.0   3323"
      ]
     },
     "execution_count": 36,
     "metadata": {},
     "output_type": "execute_result"
    }
   ],
   "source": [
    "df_filtered.head(5)"
   ]
  },
  {
   "cell_type": "code",
   "execution_count": 37,
   "metadata": {},
   "outputs": [],
   "source": [
    "# Testingsize\n",
    "n = 100000\n",
    "\n",
    "df_train = df_filtered.iloc[:n]\n",
    "df_test  = df_filtered.iloc[n:]"
   ]
  },
  {
   "cell_type": "code",
   "execution_count": 38,
   "metadata": {},
   "outputs": [
    {
     "name": "stdout",
     "output_type": "stream",
     "text": [
      "train size:  (100000, 3)\n",
      "test  size:  (5830952, 3)\n"
     ]
    }
   ],
   "source": [
    "print('train size: ', df_train.shape)\n",
    "print('test  size: ', df_test.shape)"
   ]
  },
  {
   "cell_type": "markdown",
   "metadata": {
    "colab_type": "text",
    "id": "JjQjPE9-76iP"
   },
   "source": [
    "The train set will be used to train all models and the test set ensures we can compare model performance on unseen data using the RMSE metric."
   ]
  },
  {
   "cell_type": "markdown",
   "metadata": {
    "colab_type": "text",
    "id": "ufn47cGh_wNC"
   },
   "source": [
    "# 7. Transformation"
   ]
  },
  {
   "cell_type": "markdown",
   "metadata": {
    "colab_type": "text",
    "id": "mWkzhX-a792R"
   },
   "source": [
    "### Q 7.1: Transform The User-Movie-Ratings Data Frame to User-Movie Matrix"
   ]
  },
  {
   "cell_type": "markdown",
   "metadata": {
    "colab_type": "text",
    "id": "qDeuv70i8NMQ"
   },
   "source": [
    "A large, sparse matrix will be created in this step. Each row will represent a user and its ratings and the columns are the movies.\n",
    "\n",
    "The movies already rated by users are the non-empty values in the matrix.\n",
    "\n",
    "Empty values are unrated movies and the main objective is to estimate the empty values to help our users.\n",
    "\n",
    "\n",
    "__Your turn:__ Create the User-Movie matrix leveraging the __`pivot_table()`__ function from pandas.\n",
    "\n",
    "Fill in the blanks in the code below by referencing the __`pivot_table()`__ function and invoking it on __`df_train`__. Feel free to check out the documentation.\n",
    "\n",
    "Remember, rows should be users, columns should be movies and the values in the matrix should be the movie ratings. All these should be available in the __`df_train`__ dataframe."
   ]
  },
  {
   "cell_type": "code",
   "execution_count": 39,
   "metadata": {},
   "outputs": [],
   "source": [
    "df_p = df_train.pivot_table(index='User', columns='Movie')"
   ]
  },
  {
   "cell_type": "code",
   "execution_count": 40,
   "metadata": {},
   "outputs": [
    {
     "data": {
      "text/plain": [
       "(20520, 1741)"
      ]
     },
     "execution_count": 40,
     "metadata": {},
     "output_type": "execute_result"
    }
   ],
   "source": [
    "df_p.shape"
   ]
  },
  {
   "cell_type": "code",
   "execution_count": 41,
   "metadata": {},
   "outputs": [
    {
     "data": {
      "text/html": [
       "<div>\n",
       "<style scoped>\n",
       "    .dataframe tbody tr th:only-of-type {\n",
       "        vertical-align: middle;\n",
       "    }\n",
       "\n",
       "    .dataframe tbody tr th {\n",
       "        vertical-align: top;\n",
       "    }\n",
       "\n",
       "    .dataframe thead tr th {\n",
       "        text-align: left;\n",
       "    }\n",
       "\n",
       "    .dataframe thead tr:last-of-type th {\n",
       "        text-align: right;\n",
       "    }\n",
       "</style>\n",
       "<table border=\"1\" class=\"dataframe\">\n",
       "  <thead>\n",
       "    <tr>\n",
       "      <th></th>\n",
       "      <th colspan=\"21\" halign=\"left\">Rating</th>\n",
       "    </tr>\n",
       "    <tr>\n",
       "      <th>Movie</th>\n",
       "      <th>3</th>\n",
       "      <th>5</th>\n",
       "      <th>6</th>\n",
       "      <th>8</th>\n",
       "      <th>16</th>\n",
       "      <th>17</th>\n",
       "      <th>18</th>\n",
       "      <th>24</th>\n",
       "      <th>25</th>\n",
       "      <th>26</th>\n",
       "      <th>...</th>\n",
       "      <th>4482</th>\n",
       "      <th>4483</th>\n",
       "      <th>4484</th>\n",
       "      <th>4485</th>\n",
       "      <th>4488</th>\n",
       "      <th>4489</th>\n",
       "      <th>4490</th>\n",
       "      <th>4492</th>\n",
       "      <th>4493</th>\n",
       "      <th>4496</th>\n",
       "    </tr>\n",
       "    <tr>\n",
       "      <th>User</th>\n",
       "      <th></th>\n",
       "      <th></th>\n",
       "      <th></th>\n",
       "      <th></th>\n",
       "      <th></th>\n",
       "      <th></th>\n",
       "      <th></th>\n",
       "      <th></th>\n",
       "      <th></th>\n",
       "      <th></th>\n",
       "      <th></th>\n",
       "      <th></th>\n",
       "      <th></th>\n",
       "      <th></th>\n",
       "      <th></th>\n",
       "      <th></th>\n",
       "      <th></th>\n",
       "      <th></th>\n",
       "      <th></th>\n",
       "      <th></th>\n",
       "      <th></th>\n",
       "    </tr>\n",
       "  </thead>\n",
       "  <tbody>\n",
       "    <tr>\n",
       "      <th>1000079</th>\n",
       "      <td>NaN</td>\n",
       "      <td>NaN</td>\n",
       "      <td>NaN</td>\n",
       "      <td>NaN</td>\n",
       "      <td>NaN</td>\n",
       "      <td>NaN</td>\n",
       "      <td>NaN</td>\n",
       "      <td>NaN</td>\n",
       "      <td>NaN</td>\n",
       "      <td>NaN</td>\n",
       "      <td>...</td>\n",
       "      <td>NaN</td>\n",
       "      <td>NaN</td>\n",
       "      <td>NaN</td>\n",
       "      <td>NaN</td>\n",
       "      <td>NaN</td>\n",
       "      <td>NaN</td>\n",
       "      <td>NaN</td>\n",
       "      <td>NaN</td>\n",
       "      <td>NaN</td>\n",
       "      <td>NaN</td>\n",
       "    </tr>\n",
       "    <tr>\n",
       "      <th>1000192</th>\n",
       "      <td>NaN</td>\n",
       "      <td>NaN</td>\n",
       "      <td>NaN</td>\n",
       "      <td>NaN</td>\n",
       "      <td>NaN</td>\n",
       "      <td>NaN</td>\n",
       "      <td>NaN</td>\n",
       "      <td>NaN</td>\n",
       "      <td>NaN</td>\n",
       "      <td>NaN</td>\n",
       "      <td>...</td>\n",
       "      <td>NaN</td>\n",
       "      <td>NaN</td>\n",
       "      <td>NaN</td>\n",
       "      <td>NaN</td>\n",
       "      <td>NaN</td>\n",
       "      <td>NaN</td>\n",
       "      <td>NaN</td>\n",
       "      <td>NaN</td>\n",
       "      <td>NaN</td>\n",
       "      <td>NaN</td>\n",
       "    </tr>\n",
       "    <tr>\n",
       "      <th>1000301</th>\n",
       "      <td>NaN</td>\n",
       "      <td>NaN</td>\n",
       "      <td>NaN</td>\n",
       "      <td>NaN</td>\n",
       "      <td>NaN</td>\n",
       "      <td>NaN</td>\n",
       "      <td>NaN</td>\n",
       "      <td>NaN</td>\n",
       "      <td>NaN</td>\n",
       "      <td>NaN</td>\n",
       "      <td>...</td>\n",
       "      <td>NaN</td>\n",
       "      <td>NaN</td>\n",
       "      <td>NaN</td>\n",
       "      <td>NaN</td>\n",
       "      <td>NaN</td>\n",
       "      <td>NaN</td>\n",
       "      <td>NaN</td>\n",
       "      <td>NaN</td>\n",
       "      <td>NaN</td>\n",
       "      <td>NaN</td>\n",
       "    </tr>\n",
       "    <tr>\n",
       "      <th>1000387</th>\n",
       "      <td>NaN</td>\n",
       "      <td>NaN</td>\n",
       "      <td>NaN</td>\n",
       "      <td>NaN</td>\n",
       "      <td>NaN</td>\n",
       "      <td>NaN</td>\n",
       "      <td>NaN</td>\n",
       "      <td>NaN</td>\n",
       "      <td>NaN</td>\n",
       "      <td>NaN</td>\n",
       "      <td>...</td>\n",
       "      <td>NaN</td>\n",
       "      <td>NaN</td>\n",
       "      <td>NaN</td>\n",
       "      <td>NaN</td>\n",
       "      <td>NaN</td>\n",
       "      <td>NaN</td>\n",
       "      <td>NaN</td>\n",
       "      <td>NaN</td>\n",
       "      <td>NaN</td>\n",
       "      <td>NaN</td>\n",
       "    </tr>\n",
       "    <tr>\n",
       "      <th>1000410</th>\n",
       "      <td>NaN</td>\n",
       "      <td>NaN</td>\n",
       "      <td>NaN</td>\n",
       "      <td>NaN</td>\n",
       "      <td>NaN</td>\n",
       "      <td>NaN</td>\n",
       "      <td>NaN</td>\n",
       "      <td>NaN</td>\n",
       "      <td>NaN</td>\n",
       "      <td>NaN</td>\n",
       "      <td>...</td>\n",
       "      <td>NaN</td>\n",
       "      <td>NaN</td>\n",
       "      <td>NaN</td>\n",
       "      <td>NaN</td>\n",
       "      <td>NaN</td>\n",
       "      <td>NaN</td>\n",
       "      <td>NaN</td>\n",
       "      <td>NaN</td>\n",
       "      <td>NaN</td>\n",
       "      <td>NaN</td>\n",
       "    </tr>\n",
       "  </tbody>\n",
       "</table>\n",
       "<p>5 rows × 1741 columns</p>\n",
       "</div>"
      ],
      "text/plain": [
       "        Rating                                               ...            \\\n",
       "Movie     3    5    6    8    16   17   18   24   25   26    ... 4482 4483   \n",
       "User                                                         ...             \n",
       "1000079    NaN  NaN  NaN  NaN  NaN  NaN  NaN  NaN  NaN  NaN  ...  NaN  NaN   \n",
       "1000192    NaN  NaN  NaN  NaN  NaN  NaN  NaN  NaN  NaN  NaN  ...  NaN  NaN   \n",
       "1000301    NaN  NaN  NaN  NaN  NaN  NaN  NaN  NaN  NaN  NaN  ...  NaN  NaN   \n",
       "1000387    NaN  NaN  NaN  NaN  NaN  NaN  NaN  NaN  NaN  NaN  ...  NaN  NaN   \n",
       "1000410    NaN  NaN  NaN  NaN  NaN  NaN  NaN  NaN  NaN  NaN  ...  NaN  NaN   \n",
       "\n",
       "                                                 \n",
       "Movie   4484 4485 4488 4489 4490 4492 4493 4496  \n",
       "User                                             \n",
       "1000079  NaN  NaN  NaN  NaN  NaN  NaN  NaN  NaN  \n",
       "1000192  NaN  NaN  NaN  NaN  NaN  NaN  NaN  NaN  \n",
       "1000301  NaN  NaN  NaN  NaN  NaN  NaN  NaN  NaN  \n",
       "1000387  NaN  NaN  NaN  NaN  NaN  NaN  NaN  NaN  \n",
       "1000410  NaN  NaN  NaN  NaN  NaN  NaN  NaN  NaN  \n",
       "\n",
       "[5 rows x 1741 columns]"
      ]
     },
     "execution_count": 41,
     "metadata": {},
     "output_type": "execute_result"
    }
   ],
   "source": [
    "df_p.head()"
   ]
  },
  {
   "cell_type": "markdown",
   "metadata": {
    "colab_type": "text",
    "id": "ojO2T5Ti_4TG"
   },
   "source": [
    "## 8. Building Recommendation Systems"
   ]
  },
  {
   "cell_type": "markdown",
   "metadata": {
    "colab_type": "text",
    "id": "cOrqqL3KDn9L"
   },
   "source": [
    "## 8.1(a): Global Recommendation Systems (Mean Rating)\n",
    "\n",
    "Computing the mean rating for all movies creates a ranking. The recommendation will be the same for all users and can be used if there is no information on the user.\n",
    "Variations of this approach can be separate rankings for each country/year/gender/... and to use them individually to recommend movies/items to the user.\n",
    "\n",
    "It has to be noted that this approach is biased and favours movies with fewer ratings, since large numbers of ratings tend to be less extreme in its mean ratings."
   ]
  },
  {
   "cell_type": "markdown",
   "metadata": {
    "colab_type": "text",
    "id": "zlIuNnXxONlb"
   },
   "source": [
    "### Additional Hint\n",
    "\n",
    "Predict model performance: [mean_squared_error](https://scikit-learn.org/stable/modules/generated/sklearn.metrics.mean_squared_error.html)"
   ]
  },
  {
   "cell_type": "code",
   "execution_count": 42,
   "metadata": {},
   "outputs": [],
   "source": [
    "ratings_mean = df_p.mean(axis=0).sort_values(ascending=False).rename('Rating-Mean').to_frame()"
   ]
  },
  {
   "cell_type": "code",
   "execution_count": 43,
   "metadata": {},
   "outputs": [
    {
     "data": {
      "text/html": [
       "<div>\n",
       "<style scoped>\n",
       "    .dataframe tbody tr th:only-of-type {\n",
       "        vertical-align: middle;\n",
       "    }\n",
       "\n",
       "    .dataframe tbody tr th {\n",
       "        vertical-align: top;\n",
       "    }\n",
       "\n",
       "    .dataframe thead th {\n",
       "        text-align: right;\n",
       "    }\n",
       "</style>\n",
       "<table border=\"1\" class=\"dataframe\">\n",
       "  <thead>\n",
       "    <tr style=\"text-align: right;\">\n",
       "      <th></th>\n",
       "      <th></th>\n",
       "      <th>Rating-Mean</th>\n",
       "    </tr>\n",
       "    <tr>\n",
       "      <th></th>\n",
       "      <th>Movie</th>\n",
       "      <th></th>\n",
       "    </tr>\n",
       "  </thead>\n",
       "  <tbody>\n",
       "    <tr>\n",
       "      <th rowspan=\"5\" valign=\"top\">Rating</th>\n",
       "      <th>4340</th>\n",
       "      <td>5.000000</td>\n",
       "    </tr>\n",
       "    <tr>\n",
       "      <th>4449</th>\n",
       "      <td>4.666667</td>\n",
       "    </tr>\n",
       "    <tr>\n",
       "      <th>1660</th>\n",
       "      <td>4.500000</td>\n",
       "    </tr>\n",
       "    <tr>\n",
       "      <th>325</th>\n",
       "      <td>4.500000</td>\n",
       "    </tr>\n",
       "    <tr>\n",
       "      <th>1947</th>\n",
       "      <td>4.500000</td>\n",
       "    </tr>\n",
       "  </tbody>\n",
       "</table>\n",
       "</div>"
      ],
      "text/plain": [
       "              Rating-Mean\n",
       "       Movie             \n",
       "Rating 4340      5.000000\n",
       "       4449      4.666667\n",
       "       1660      4.500000\n",
       "       325       4.500000\n",
       "       1947      4.500000"
      ]
     },
     "execution_count": 43,
     "metadata": {},
     "output_type": "execute_result"
    }
   ],
   "source": [
    "ratings_mean.head()"
   ]
  },
  {
   "cell_type": "code",
   "execution_count": 44,
   "metadata": {},
   "outputs": [],
   "source": [
    "ratings_count = df_p.count(axis=0).sort_values(ascending=False).rename('Rating-Freq').to_frame()"
   ]
  },
  {
   "cell_type": "code",
   "execution_count": 45,
   "metadata": {},
   "outputs": [
    {
     "data": {
      "text/html": [
       "<div>\n",
       "<style scoped>\n",
       "    .dataframe tbody tr th:only-of-type {\n",
       "        vertical-align: middle;\n",
       "    }\n",
       "\n",
       "    .dataframe tbody tr th {\n",
       "        vertical-align: top;\n",
       "    }\n",
       "\n",
       "    .dataframe thead th {\n",
       "        text-align: right;\n",
       "    }\n",
       "</style>\n",
       "<table border=\"1\" class=\"dataframe\">\n",
       "  <thead>\n",
       "    <tr style=\"text-align: right;\">\n",
       "      <th></th>\n",
       "      <th></th>\n",
       "      <th>Rating-Freq</th>\n",
       "    </tr>\n",
       "    <tr>\n",
       "      <th></th>\n",
       "      <th>Movie</th>\n",
       "      <th></th>\n",
       "    </tr>\n",
       "  </thead>\n",
       "  <tbody>\n",
       "    <tr>\n",
       "      <th rowspan=\"5\" valign=\"top\">Rating</th>\n",
       "      <th>1905</th>\n",
       "      <td>362</td>\n",
       "    </tr>\n",
       "    <tr>\n",
       "      <th>2372</th>\n",
       "      <td>328</td>\n",
       "    </tr>\n",
       "    <tr>\n",
       "      <th>2152</th>\n",
       "      <td>316</td>\n",
       "    </tr>\n",
       "    <tr>\n",
       "      <th>571</th>\n",
       "      <td>309</td>\n",
       "    </tr>\n",
       "    <tr>\n",
       "      <th>4306</th>\n",
       "      <td>306</td>\n",
       "    </tr>\n",
       "  </tbody>\n",
       "</table>\n",
       "</div>"
      ],
      "text/plain": [
       "              Rating-Freq\n",
       "       Movie             \n",
       "Rating 1905           362\n",
       "       2372           328\n",
       "       2152           316\n",
       "       571            309\n",
       "       4306           306"
      ]
     },
     "execution_count": 45,
     "metadata": {},
     "output_type": "execute_result"
    }
   ],
   "source": [
    "ratings_count.head()"
   ]
  },
  {
   "cell_type": "code",
   "execution_count": 46,
   "metadata": {},
   "outputs": [
    {
     "data": {
      "text/plain": [
       "Year       1973.0\n",
       "Name    Maitresse\n",
       "Name: 4239, dtype: object"
      ]
     },
     "execution_count": 46,
     "metadata": {},
     "output_type": "execute_result"
    }
   ],
   "source": [
    "movie_titles.iloc[4238]"
   ]
  },
  {
   "cell_type": "code",
   "execution_count": 47,
   "metadata": {},
   "outputs": [],
   "source": [
    "# combine the aggregated dataframes\n",
    "combined_df = ratings_mean.join(ratings_count).join(movie_titles, on='Movie')"
   ]
  },
  {
   "cell_type": "code",
   "execution_count": 48,
   "metadata": {},
   "outputs": [
    {
     "data": {
      "text/html": [
       "<div>\n",
       "<style scoped>\n",
       "    .dataframe tbody tr th:only-of-type {\n",
       "        vertical-align: middle;\n",
       "    }\n",
       "\n",
       "    .dataframe tbody tr th {\n",
       "        vertical-align: top;\n",
       "    }\n",
       "\n",
       "    .dataframe thead th {\n",
       "        text-align: right;\n",
       "    }\n",
       "</style>\n",
       "<table border=\"1\" class=\"dataframe\">\n",
       "  <thead>\n",
       "    <tr style=\"text-align: right;\">\n",
       "      <th></th>\n",
       "      <th></th>\n",
       "      <th>Rating-Mean</th>\n",
       "      <th>Rating-Freq</th>\n",
       "      <th>Year</th>\n",
       "      <th>Name</th>\n",
       "    </tr>\n",
       "    <tr>\n",
       "      <th></th>\n",
       "      <th>Movie</th>\n",
       "      <th></th>\n",
       "      <th></th>\n",
       "      <th></th>\n",
       "      <th></th>\n",
       "    </tr>\n",
       "  </thead>\n",
       "  <tbody>\n",
       "    <tr>\n",
       "      <th rowspan=\"5\" valign=\"top\">Rating</th>\n",
       "      <th>4340</th>\n",
       "      <td>5.000000</td>\n",
       "      <td>3</td>\n",
       "      <td>2000.0</td>\n",
       "      <td>Longitude</td>\n",
       "    </tr>\n",
       "    <tr>\n",
       "      <th>4449</th>\n",
       "      <td>4.666667</td>\n",
       "      <td>3</td>\n",
       "      <td>2002.0</td>\n",
       "      <td>The Inspector Lynley Mysteries: For the Sake o...</td>\n",
       "    </tr>\n",
       "    <tr>\n",
       "      <th>1660</th>\n",
       "      <td>4.500000</td>\n",
       "      <td>16</td>\n",
       "      <td>2000.0</td>\n",
       "      <td>SpongeBob SquarePants: Season 2</td>\n",
       "    </tr>\n",
       "    <tr>\n",
       "      <th>325</th>\n",
       "      <td>4.500000</td>\n",
       "      <td>2</td>\n",
       "      <td>2004.0</td>\n",
       "      <td>Ghosts of Rwanda: Frontline</td>\n",
       "    </tr>\n",
       "    <tr>\n",
       "      <th>1947</th>\n",
       "      <td>4.500000</td>\n",
       "      <td>24</td>\n",
       "      <td>2002.0</td>\n",
       "      <td>Gilmore Girls: Season 3</td>\n",
       "    </tr>\n",
       "  </tbody>\n",
       "</table>\n",
       "</div>"
      ],
      "text/plain": [
       "              Rating-Mean  Rating-Freq    Year  \\\n",
       "       Movie                                     \n",
       "Rating 4340      5.000000            3  2000.0   \n",
       "       4449      4.666667            3  2002.0   \n",
       "       1660      4.500000           16  2000.0   \n",
       "       325       4.500000            2  2004.0   \n",
       "       1947      4.500000           24  2002.0   \n",
       "\n",
       "                                                           Name  \n",
       "       Movie                                                     \n",
       "Rating 4340                                           Longitude  \n",
       "       4449   The Inspector Lynley Mysteries: For the Sake o...  \n",
       "       1660                     SpongeBob SquarePants: Season 2  \n",
       "       325                          Ghosts of Rwanda: Frontline  \n",
       "       1947                             Gilmore Girls: Season 3  "
      ]
     },
     "execution_count": 48,
     "metadata": {},
     "output_type": "execute_result"
    }
   ],
   "source": [
    "combined_df.head(5)"
   ]
  },
  {
   "cell_type": "code",
   "execution_count": 49,
   "metadata": {},
   "outputs": [
    {
     "data": {
      "text/html": [
       "<div>\n",
       "<style scoped>\n",
       "    .dataframe tbody tr th:only-of-type {\n",
       "        vertical-align: middle;\n",
       "    }\n",
       "\n",
       "    .dataframe tbody tr th {\n",
       "        vertical-align: top;\n",
       "    }\n",
       "\n",
       "    .dataframe thead th {\n",
       "        text-align: right;\n",
       "    }\n",
       "</style>\n",
       "<table border=\"1\" class=\"dataframe\">\n",
       "  <thead>\n",
       "    <tr style=\"text-align: right;\">\n",
       "      <th></th>\n",
       "      <th></th>\n",
       "      <th>Rating-Mean</th>\n",
       "      <th>Rating-Freq</th>\n",
       "      <th>Year</th>\n",
       "      <th>Name</th>\n",
       "    </tr>\n",
       "    <tr>\n",
       "      <th></th>\n",
       "      <th>Movie</th>\n",
       "      <th></th>\n",
       "      <th></th>\n",
       "      <th></th>\n",
       "      <th></th>\n",
       "    </tr>\n",
       "  </thead>\n",
       "  <tbody>\n",
       "    <tr>\n",
       "      <th rowspan=\"11\" valign=\"top\">Rating</th>\n",
       "      <th>3290</th>\n",
       "      <td>4.402844</td>\n",
       "      <td>211</td>\n",
       "      <td>1974.0</td>\n",
       "      <td>The Godfather Part II</td>\n",
       "    </tr>\n",
       "    <tr>\n",
       "      <th>2172</th>\n",
       "      <td>4.396040</td>\n",
       "      <td>101</td>\n",
       "      <td>1991.0</td>\n",
       "      <td>The Simpsons: Season 3</td>\n",
       "    </tr>\n",
       "    <tr>\n",
       "      <th>3962</th>\n",
       "      <td>4.371134</td>\n",
       "      <td>291</td>\n",
       "      <td>2003.0</td>\n",
       "      <td>Finding Nemo (Widescreen)</td>\n",
       "    </tr>\n",
       "    <tr>\n",
       "      <th>2452</th>\n",
       "      <td>4.369338</td>\n",
       "      <td>287</td>\n",
       "      <td>2001.0</td>\n",
       "      <td>Lord of the Rings: The Fellowship of the Ring</td>\n",
       "    </tr>\n",
       "    <tr>\n",
       "      <th>4306</th>\n",
       "      <td>4.307190</td>\n",
       "      <td>306</td>\n",
       "      <td>1999.0</td>\n",
       "      <td>The Sixth Sense</td>\n",
       "    </tr>\n",
       "    <tr>\n",
       "      <th>...</th>\n",
       "      <td>...</td>\n",
       "      <td>...</td>\n",
       "      <td>...</td>\n",
       "      <td>...</td>\n",
       "    </tr>\n",
       "    <tr>\n",
       "      <th>3085</th>\n",
       "      <td>2.714286</td>\n",
       "      <td>147</td>\n",
       "      <td>2000.0</td>\n",
       "      <td>Little Nicky</td>\n",
       "    </tr>\n",
       "    <tr>\n",
       "      <th>1975</th>\n",
       "      <td>2.703540</td>\n",
       "      <td>226</td>\n",
       "      <td>2000.0</td>\n",
       "      <td>Hollow Man</td>\n",
       "    </tr>\n",
       "    <tr>\n",
       "      <th>1289</th>\n",
       "      <td>2.580000</td>\n",
       "      <td>150</td>\n",
       "      <td>1990.0</td>\n",
       "      <td>Look Who's Talking Too</td>\n",
       "    </tr>\n",
       "    <tr>\n",
       "      <th>2400</th>\n",
       "      <td>2.471545</td>\n",
       "      <td>123</td>\n",
       "      <td>1992.0</td>\n",
       "      <td>Home Alone 2: Lost in New York</td>\n",
       "    </tr>\n",
       "    <tr>\n",
       "      <th>2675</th>\n",
       "      <td>2.272000</td>\n",
       "      <td>125</td>\n",
       "      <td>2002.0</td>\n",
       "      <td>Solaris</td>\n",
       "    </tr>\n",
       "  </tbody>\n",
       "</table>\n",
       "<p>338 rows × 4 columns</p>\n",
       "</div>"
      ],
      "text/plain": [
       "              Rating-Mean  Rating-Freq    Year  \\\n",
       "       Movie                                     \n",
       "Rating 3290      4.402844          211  1974.0   \n",
       "       2172      4.396040          101  1991.0   \n",
       "       3962      4.371134          291  2003.0   \n",
       "       2452      4.369338          287  2001.0   \n",
       "       4306      4.307190          306  1999.0   \n",
       "...                   ...          ...     ...   \n",
       "       3085      2.714286          147  2000.0   \n",
       "       1975      2.703540          226  2000.0   \n",
       "       1289      2.580000          150  1990.0   \n",
       "       2400      2.471545          123  1992.0   \n",
       "       2675      2.272000          125  2002.0   \n",
       "\n",
       "                                                       Name  \n",
       "       Movie                                                 \n",
       "Rating 3290                           The Godfather Part II  \n",
       "       2172                          The Simpsons: Season 3  \n",
       "       3962                       Finding Nemo (Widescreen)  \n",
       "       2452   Lord of the Rings: The Fellowship of the Ring  \n",
       "       4306                                 The Sixth Sense  \n",
       "...                                                     ...  \n",
       "       3085                                    Little Nicky  \n",
       "       1975                                      Hollow Man  \n",
       "       1289                          Look Who's Talking Too  \n",
       "       2400                  Home Alone 2: Lost in New York  \n",
       "       2675                                         Solaris  \n",
       "\n",
       "[338 rows x 4 columns]"
      ]
     },
     "execution_count": 49,
     "metadata": {},
     "output_type": "execute_result"
    }
   ],
   "source": [
    "combined_df[combined_df['Rating-Freq'] > 100]"
   ]
  },
  {
   "cell_type": "code",
   "execution_count": 50,
   "metadata": {},
   "outputs": [],
   "source": [
    "ratings_mean = ratings_mean.reset_index().set_index('Movie').drop(columns='level_0')"
   ]
  },
  {
   "cell_type": "code",
   "execution_count": 51,
   "metadata": {},
   "outputs": [
    {
     "data": {
      "text/plain": [
       "Rating-Mean    0\n",
       "dtype: int64"
      ]
     },
     "execution_count": 51,
     "metadata": {},
     "output_type": "execute_result"
    }
   ],
   "source": [
    "ratings_mean.isnull().sum(axis=0)"
   ]
  },
  {
   "cell_type": "code",
   "execution_count": 52,
   "metadata": {},
   "outputs": [
    {
     "data": {
      "text/plain": [
       "User      0\n",
       "Rating    0\n",
       "Movie     0\n",
       "dtype: int64"
      ]
     },
     "execution_count": 52,
     "metadata": {},
     "output_type": "execute_result"
    }
   ],
   "source": [
    "df_test.isnull().sum(axis=0)"
   ]
  },
  {
   "cell_type": "code",
   "execution_count": 53,
   "metadata": {},
   "outputs": [],
   "source": [
    "predictions_df = df_train.set_index('Movie').join(ratings_mean, on='Movie')"
   ]
  },
  {
   "cell_type": "code",
   "execution_count": 54,
   "metadata": {
    "colab": {
     "base_uri": "https://localhost:8080/",
     "height": 34
    },
    "colab_type": "code",
    "id": "9W2txAub24Fs",
    "outputId": "ef0d3bfd-859d-4596-a465-9b17504a1b65"
   },
   "outputs": [
    {
     "name": "stdout",
     "output_type": "stream",
     "text": [
      "The RMSE Value for the Mean Rating Recommender: 0.9988508327253743\n"
     ]
    }
   ],
   "source": [
    "# Compute RMSE\n",
    "y_true = predictions_df['Rating']\n",
    "y_pred = predictions_df['Rating-Mean']\n",
    "\n",
    "rmse = np.sqrt(mean_squared_error(y_true=y_true, y_pred=y_pred))\n",
    "print(\"The RMSE Value for the Mean Rating Recommender:\", rmse)"
   ]
  },
  {
   "cell_type": "code",
   "execution_count": 55,
   "metadata": {
    "colab": {
     "base_uri": "https://localhost:8080/",
     "height": 373
    },
    "colab_type": "code",
    "id": "xda52K1m24Fu",
    "outputId": "a537ffcc-dc45-458b-9d2c-b0ed262d3103"
   },
   "outputs": [
    {
     "data": {
      "text/html": [
       "<div>\n",
       "<style scoped>\n",
       "    .dataframe tbody tr th:only-of-type {\n",
       "        vertical-align: middle;\n",
       "    }\n",
       "\n",
       "    .dataframe tbody tr th {\n",
       "        vertical-align: top;\n",
       "    }\n",
       "\n",
       "    .dataframe thead th {\n",
       "        text-align: right;\n",
       "    }\n",
       "</style>\n",
       "<table border=\"1\" class=\"dataframe\">\n",
       "  <thead>\n",
       "    <tr style=\"text-align: right;\">\n",
       "      <th></th>\n",
       "      <th></th>\n",
       "      <th>Name</th>\n",
       "      <th>Rating-Mean</th>\n",
       "    </tr>\n",
       "    <tr>\n",
       "      <th></th>\n",
       "      <th>Movie</th>\n",
       "      <th></th>\n",
       "      <th></th>\n",
       "    </tr>\n",
       "  </thead>\n",
       "  <tbody>\n",
       "    <tr>\n",
       "      <th rowspan=\"10\" valign=\"top\">Rating</th>\n",
       "      <th>4340</th>\n",
       "      <td>Longitude</td>\n",
       "      <td>5.000000</td>\n",
       "    </tr>\n",
       "    <tr>\n",
       "      <th>4449</th>\n",
       "      <td>The Inspector Lynley Mysteries: For the Sake o...</td>\n",
       "      <td>4.666667</td>\n",
       "    </tr>\n",
       "    <tr>\n",
       "      <th>1660</th>\n",
       "      <td>SpongeBob SquarePants: Season 2</td>\n",
       "      <td>4.500000</td>\n",
       "    </tr>\n",
       "    <tr>\n",
       "      <th>325</th>\n",
       "      <td>Ghosts of Rwanda: Frontline</td>\n",
       "      <td>4.500000</td>\n",
       "    </tr>\n",
       "    <tr>\n",
       "      <th>1947</th>\n",
       "      <td>Gilmore Girls: Season 3</td>\n",
       "      <td>4.500000</td>\n",
       "    </tr>\n",
       "    <tr>\n",
       "      <th>3057</th>\n",
       "      <td>UFC 43: Ultimate Fighting Championship: Meltdown</td>\n",
       "      <td>4.500000</td>\n",
       "    </tr>\n",
       "    <tr>\n",
       "      <th>2102</th>\n",
       "      <td>The Simpsons: Season 6</td>\n",
       "      <td>4.500000</td>\n",
       "    </tr>\n",
       "    <tr>\n",
       "      <th>3546</th>\n",
       "      <td>Speed Racer</td>\n",
       "      <td>4.500000</td>\n",
       "    </tr>\n",
       "    <tr>\n",
       "      <th>3965</th>\n",
       "      <td>Red Dwarf: Series 5</td>\n",
       "      <td>4.500000</td>\n",
       "    </tr>\n",
       "    <tr>\n",
       "      <th>2893</th>\n",
       "      <td>The Little Rascals</td>\n",
       "      <td>4.500000</td>\n",
       "    </tr>\n",
       "  </tbody>\n",
       "</table>\n",
       "</div>"
      ],
      "text/plain": [
       "                                                           Name  Rating-Mean\n",
       "       Movie                                                                \n",
       "Rating 4340                                           Longitude     5.000000\n",
       "       4449   The Inspector Lynley Mysteries: For the Sake o...     4.666667\n",
       "       1660                     SpongeBob SquarePants: Season 2     4.500000\n",
       "       325                          Ghosts of Rwanda: Frontline     4.500000\n",
       "       1947                             Gilmore Girls: Season 3     4.500000\n",
       "       3057    UFC 43: Ultimate Fighting Championship: Meltdown     4.500000\n",
       "       2102                              The Simpsons: Season 6     4.500000\n",
       "       3546                                         Speed Racer     4.500000\n",
       "       3965                                 Red Dwarf: Series 5     4.500000\n",
       "       2893                                  The Little Rascals     4.500000"
      ]
     },
     "execution_count": 55,
     "metadata": {},
     "output_type": "execute_result"
    }
   ],
   "source": [
    "# View top ten rated movies\n",
    "combined_df[['Name', 'Rating-Mean']].head(10)"
   ]
  },
  {
   "cell_type": "markdown",
   "metadata": {
    "colab_type": "text",
    "id": "iFalvivYD1Is"
   },
   "source": [
    "## Q 8.1(b): Global Recommendation Systems (Weighted Rating)\n",
    "\n",
    "To tackle the problem of the unstable mean with few ratings e.g. IDMb uses a weighted rating. Many good ratings outweigh few in this algorithm.\n",
    "\n",
    "### Hint:\n",
    "\n",
    "Weighted Rating Formula\n",
    "\n",
    "weighted rating (𝑊𝑅)=(𝑣/(𝑣+𝑚))𝑅+(𝑚/(𝑣+𝑚))𝐶\n",
    "\n",
    "where:\n",
    "\n",
    "*𝑅* = average for the movie (mean) = (Rating)\n",
    "\n",
    "*𝑣* = number of votes for the movie = (votes)\n",
    "\n",
    "*𝑚* = minimum votes required \n",
    "\n",
    "*𝐶* = the mean vote across the whole report \n",
    "\n",
    "__Your Turn:__ Fill in the necessary code snippets below to build and test the model\n"
   ]
  },
  {
   "cell_type": "code",
   "execution_count": 56,
   "metadata": {},
   "outputs": [
    {
     "data": {
      "text/html": [
       "<div>\n",
       "<style scoped>\n",
       "    .dataframe tbody tr th:only-of-type {\n",
       "        vertical-align: middle;\n",
       "    }\n",
       "\n",
       "    .dataframe tbody tr th {\n",
       "        vertical-align: top;\n",
       "    }\n",
       "\n",
       "    .dataframe thead tr th {\n",
       "        text-align: left;\n",
       "    }\n",
       "\n",
       "    .dataframe thead tr:last-of-type th {\n",
       "        text-align: right;\n",
       "    }\n",
       "</style>\n",
       "<table border=\"1\" class=\"dataframe\">\n",
       "  <thead>\n",
       "    <tr>\n",
       "      <th></th>\n",
       "      <th colspan=\"21\" halign=\"left\">Rating</th>\n",
       "    </tr>\n",
       "    <tr>\n",
       "      <th>Movie</th>\n",
       "      <th>3</th>\n",
       "      <th>5</th>\n",
       "      <th>6</th>\n",
       "      <th>8</th>\n",
       "      <th>16</th>\n",
       "      <th>17</th>\n",
       "      <th>18</th>\n",
       "      <th>24</th>\n",
       "      <th>25</th>\n",
       "      <th>26</th>\n",
       "      <th>...</th>\n",
       "      <th>4482</th>\n",
       "      <th>4483</th>\n",
       "      <th>4484</th>\n",
       "      <th>4485</th>\n",
       "      <th>4488</th>\n",
       "      <th>4489</th>\n",
       "      <th>4490</th>\n",
       "      <th>4492</th>\n",
       "      <th>4493</th>\n",
       "      <th>4496</th>\n",
       "    </tr>\n",
       "    <tr>\n",
       "      <th>User</th>\n",
       "      <th></th>\n",
       "      <th></th>\n",
       "      <th></th>\n",
       "      <th></th>\n",
       "      <th></th>\n",
       "      <th></th>\n",
       "      <th></th>\n",
       "      <th></th>\n",
       "      <th></th>\n",
       "      <th></th>\n",
       "      <th></th>\n",
       "      <th></th>\n",
       "      <th></th>\n",
       "      <th></th>\n",
       "      <th></th>\n",
       "      <th></th>\n",
       "      <th></th>\n",
       "      <th></th>\n",
       "      <th></th>\n",
       "      <th></th>\n",
       "      <th></th>\n",
       "    </tr>\n",
       "  </thead>\n",
       "  <tbody>\n",
       "    <tr>\n",
       "      <th>1000079</th>\n",
       "      <td>NaN</td>\n",
       "      <td>NaN</td>\n",
       "      <td>NaN</td>\n",
       "      <td>NaN</td>\n",
       "      <td>NaN</td>\n",
       "      <td>NaN</td>\n",
       "      <td>NaN</td>\n",
       "      <td>NaN</td>\n",
       "      <td>NaN</td>\n",
       "      <td>NaN</td>\n",
       "      <td>...</td>\n",
       "      <td>NaN</td>\n",
       "      <td>NaN</td>\n",
       "      <td>NaN</td>\n",
       "      <td>NaN</td>\n",
       "      <td>NaN</td>\n",
       "      <td>NaN</td>\n",
       "      <td>NaN</td>\n",
       "      <td>NaN</td>\n",
       "      <td>NaN</td>\n",
       "      <td>NaN</td>\n",
       "    </tr>\n",
       "    <tr>\n",
       "      <th>1000192</th>\n",
       "      <td>NaN</td>\n",
       "      <td>NaN</td>\n",
       "      <td>NaN</td>\n",
       "      <td>NaN</td>\n",
       "      <td>NaN</td>\n",
       "      <td>NaN</td>\n",
       "      <td>NaN</td>\n",
       "      <td>NaN</td>\n",
       "      <td>NaN</td>\n",
       "      <td>NaN</td>\n",
       "      <td>...</td>\n",
       "      <td>NaN</td>\n",
       "      <td>NaN</td>\n",
       "      <td>NaN</td>\n",
       "      <td>NaN</td>\n",
       "      <td>NaN</td>\n",
       "      <td>NaN</td>\n",
       "      <td>NaN</td>\n",
       "      <td>NaN</td>\n",
       "      <td>NaN</td>\n",
       "      <td>NaN</td>\n",
       "    </tr>\n",
       "    <tr>\n",
       "      <th>1000301</th>\n",
       "      <td>NaN</td>\n",
       "      <td>NaN</td>\n",
       "      <td>NaN</td>\n",
       "      <td>NaN</td>\n",
       "      <td>NaN</td>\n",
       "      <td>NaN</td>\n",
       "      <td>NaN</td>\n",
       "      <td>NaN</td>\n",
       "      <td>NaN</td>\n",
       "      <td>NaN</td>\n",
       "      <td>...</td>\n",
       "      <td>NaN</td>\n",
       "      <td>NaN</td>\n",
       "      <td>NaN</td>\n",
       "      <td>NaN</td>\n",
       "      <td>NaN</td>\n",
       "      <td>NaN</td>\n",
       "      <td>NaN</td>\n",
       "      <td>NaN</td>\n",
       "      <td>NaN</td>\n",
       "      <td>NaN</td>\n",
       "    </tr>\n",
       "    <tr>\n",
       "      <th>1000387</th>\n",
       "      <td>NaN</td>\n",
       "      <td>NaN</td>\n",
       "      <td>NaN</td>\n",
       "      <td>NaN</td>\n",
       "      <td>NaN</td>\n",
       "      <td>NaN</td>\n",
       "      <td>NaN</td>\n",
       "      <td>NaN</td>\n",
       "      <td>NaN</td>\n",
       "      <td>NaN</td>\n",
       "      <td>...</td>\n",
       "      <td>NaN</td>\n",
       "      <td>NaN</td>\n",
       "      <td>NaN</td>\n",
       "      <td>NaN</td>\n",
       "      <td>NaN</td>\n",
       "      <td>NaN</td>\n",
       "      <td>NaN</td>\n",
       "      <td>NaN</td>\n",
       "      <td>NaN</td>\n",
       "      <td>NaN</td>\n",
       "    </tr>\n",
       "    <tr>\n",
       "      <th>1000410</th>\n",
       "      <td>NaN</td>\n",
       "      <td>NaN</td>\n",
       "      <td>NaN</td>\n",
       "      <td>NaN</td>\n",
       "      <td>NaN</td>\n",
       "      <td>NaN</td>\n",
       "      <td>NaN</td>\n",
       "      <td>NaN</td>\n",
       "      <td>NaN</td>\n",
       "      <td>NaN</td>\n",
       "      <td>...</td>\n",
       "      <td>NaN</td>\n",
       "      <td>NaN</td>\n",
       "      <td>NaN</td>\n",
       "      <td>NaN</td>\n",
       "      <td>NaN</td>\n",
       "      <td>NaN</td>\n",
       "      <td>NaN</td>\n",
       "      <td>NaN</td>\n",
       "      <td>NaN</td>\n",
       "      <td>NaN</td>\n",
       "    </tr>\n",
       "  </tbody>\n",
       "</table>\n",
       "<p>5 rows × 1741 columns</p>\n",
       "</div>"
      ],
      "text/plain": [
       "        Rating                                               ...            \\\n",
       "Movie     3    5    6    8    16   17   18   24   25   26    ... 4482 4483   \n",
       "User                                                         ...             \n",
       "1000079    NaN  NaN  NaN  NaN  NaN  NaN  NaN  NaN  NaN  NaN  ...  NaN  NaN   \n",
       "1000192    NaN  NaN  NaN  NaN  NaN  NaN  NaN  NaN  NaN  NaN  ...  NaN  NaN   \n",
       "1000301    NaN  NaN  NaN  NaN  NaN  NaN  NaN  NaN  NaN  NaN  ...  NaN  NaN   \n",
       "1000387    NaN  NaN  NaN  NaN  NaN  NaN  NaN  NaN  NaN  NaN  ...  NaN  NaN   \n",
       "1000410    NaN  NaN  NaN  NaN  NaN  NaN  NaN  NaN  NaN  NaN  ...  NaN  NaN   \n",
       "\n",
       "                                                 \n",
       "Movie   4484 4485 4488 4489 4490 4492 4493 4496  \n",
       "User                                             \n",
       "1000079  NaN  NaN  NaN  NaN  NaN  NaN  NaN  NaN  \n",
       "1000192  NaN  NaN  NaN  NaN  NaN  NaN  NaN  NaN  \n",
       "1000301  NaN  NaN  NaN  NaN  NaN  NaN  NaN  NaN  \n",
       "1000387  NaN  NaN  NaN  NaN  NaN  NaN  NaN  NaN  \n",
       "1000410  NaN  NaN  NaN  NaN  NaN  NaN  NaN  NaN  \n",
       "\n",
       "[5 rows x 1741 columns]"
      ]
     },
     "execution_count": 56,
     "metadata": {},
     "output_type": "execute_result"
    }
   ],
   "source": [
    "df_p.head()"
   ]
  },
  {
   "cell_type": "code",
   "execution_count": 57,
   "metadata": {},
   "outputs": [
    {
     "data": {
      "text/plain": [
       "Rating    3.4636\n",
       "dtype: float64"
      ]
     },
     "execution_count": 57,
     "metadata": {},
     "output_type": "execute_result"
    }
   ],
   "source": [
    "df_p.stack().mean()"
   ]
  },
  {
   "cell_type": "code",
   "execution_count": 58,
   "metadata": {},
   "outputs": [
    {
     "data": {
      "text/plain": [
       "3.4636"
      ]
     },
     "execution_count": 58,
     "metadata": {},
     "output_type": "execute_result"
    }
   ],
   "source": [
    "total_ratings = df_p.notna().sum(axis=0).sum()\n",
    "\n",
    "sum_of_all_ratings = df_p.sum(axis=0).sum()\n",
    "\n",
    "mean_rating = sum_of_all_ratings / total_ratings\n",
    "\n",
    "mean_rating"
   ]
  },
  {
   "cell_type": "code",
   "execution_count": 59,
   "metadata": {},
   "outputs": [
    {
     "data": {
      "text/plain": [
       "array([3.16666667, 3.55555556, 3.28571429, ..., 2.34782609, 3.46875   ,\n",
       "       3.55769231])"
      ]
     },
     "execution_count": 59,
     "metadata": {},
     "output_type": "execute_result"
    }
   ],
   "source": [
    "df_p.mean(axis=0).values"
   ]
  },
  {
   "cell_type": "code",
   "execution_count": 60,
   "metadata": {},
   "outputs": [
    {
     "data": {
      "text/plain": [
       "        Movie\n",
       "Rating  3        3.166667\n",
       "        5        3.555556\n",
       "        6        3.285714\n",
       "        8        3.179487\n",
       "        16       3.076923\n",
       "                   ...   \n",
       "        4489     2.785714\n",
       "        4490     3.215686\n",
       "        4492     2.347826\n",
       "        4493     3.468750\n",
       "        4496     3.557692\n",
       "Length: 1741, dtype: float64"
      ]
     },
     "execution_count": 60,
     "metadata": {},
     "output_type": "execute_result"
    }
   ],
   "source": [
    "mean_ratings_by_movie = df_p.sum(axis=0) / df_p.notna().sum(axis=0)\n",
    "mean_ratings_by_movie"
   ]
  },
  {
   "cell_type": "code",
   "execution_count": 61,
   "metadata": {},
   "outputs": [
    {
     "data": {
      "text/plain": [
       "        Movie\n",
       "Rating  3        12\n",
       "        5         9\n",
       "        6         7\n",
       "        8        39\n",
       "        16       26\n",
       "                 ..\n",
       "        4489     14\n",
       "        4490     51\n",
       "        4492     46\n",
       "        4493     32\n",
       "        4496     52\n",
       "Length: 1741, dtype: int64"
      ]
     },
     "execution_count": 61,
     "metadata": {},
     "output_type": "execute_result"
    }
   ],
   "source": [
    "num_ratings_by_movie = df_p.count()\n",
    "num_ratings_by_movie"
   ]
  },
  {
   "cell_type": "code",
   "execution_count": 62,
   "metadata": {
    "colab": {},
    "colab_type": "code",
    "id": "GVfj7TPz24Fz"
   },
   "outputs": [],
   "source": [
    "# Number of minimum votes to be considered\n",
    "m = 1000\n",
    "\n",
    "# Mean rating for all movies\n",
    "C = df_p.stack().mean()[0]\n",
    "\n",
    "# Mean rating for all movies separately\n",
    "R = df_p.mean(axis=0).values\n",
    "\n",
    "# Rating freqency for all movies separately\n",
    "v = df_p.count().values"
   ]
  },
  {
   "cell_type": "code",
   "execution_count": 63,
   "metadata": {
    "colab": {},
    "colab_type": "code",
    "id": "Ntm_D7Yl24F1"
   },
   "outputs": [
    {
     "data": {
      "text/plain": [
       "array([3.46007905, 3.46442022, 3.46236346, ..., 3.41453155, 3.46375969,\n",
       "       3.46825095])"
      ]
     },
     "execution_count": 63,
     "metadata": {},
     "output_type": "execute_result"
    }
   ],
   "source": [
    "# Weighted formula to compute the weighted rating\n",
    "weighted_score = (v/(v+m))*R + (m/(v+m))*C\n",
    "\n",
    "weighted_score"
   ]
  },
  {
   "cell_type": "code",
   "execution_count": 64,
   "metadata": {},
   "outputs": [
    {
     "data": {
      "text/html": [
       "<div>\n",
       "<style scoped>\n",
       "    .dataframe tbody tr th:only-of-type {\n",
       "        vertical-align: middle;\n",
       "    }\n",
       "\n",
       "    .dataframe tbody tr th {\n",
       "        vertical-align: top;\n",
       "    }\n",
       "\n",
       "    .dataframe thead tr th {\n",
       "        text-align: left;\n",
       "    }\n",
       "\n",
       "    .dataframe thead tr:last-of-type th {\n",
       "        text-align: right;\n",
       "    }\n",
       "</style>\n",
       "<table border=\"1\" class=\"dataframe\">\n",
       "  <thead>\n",
       "    <tr>\n",
       "      <th></th>\n",
       "      <th colspan=\"21\" halign=\"left\">Rating</th>\n",
       "    </tr>\n",
       "    <tr>\n",
       "      <th>Movie</th>\n",
       "      <th>3</th>\n",
       "      <th>5</th>\n",
       "      <th>6</th>\n",
       "      <th>8</th>\n",
       "      <th>16</th>\n",
       "      <th>17</th>\n",
       "      <th>18</th>\n",
       "      <th>24</th>\n",
       "      <th>25</th>\n",
       "      <th>26</th>\n",
       "      <th>...</th>\n",
       "      <th>4482</th>\n",
       "      <th>4483</th>\n",
       "      <th>4484</th>\n",
       "      <th>4485</th>\n",
       "      <th>4488</th>\n",
       "      <th>4489</th>\n",
       "      <th>4490</th>\n",
       "      <th>4492</th>\n",
       "      <th>4493</th>\n",
       "      <th>4496</th>\n",
       "    </tr>\n",
       "    <tr>\n",
       "      <th>User</th>\n",
       "      <th></th>\n",
       "      <th></th>\n",
       "      <th></th>\n",
       "      <th></th>\n",
       "      <th></th>\n",
       "      <th></th>\n",
       "      <th></th>\n",
       "      <th></th>\n",
       "      <th></th>\n",
       "      <th></th>\n",
       "      <th></th>\n",
       "      <th></th>\n",
       "      <th></th>\n",
       "      <th></th>\n",
       "      <th></th>\n",
       "      <th></th>\n",
       "      <th></th>\n",
       "      <th></th>\n",
       "      <th></th>\n",
       "      <th></th>\n",
       "      <th></th>\n",
       "    </tr>\n",
       "  </thead>\n",
       "  <tbody>\n",
       "    <tr>\n",
       "      <th>1000079</th>\n",
       "      <td>NaN</td>\n",
       "      <td>NaN</td>\n",
       "      <td>NaN</td>\n",
       "      <td>NaN</td>\n",
       "      <td>NaN</td>\n",
       "      <td>NaN</td>\n",
       "      <td>NaN</td>\n",
       "      <td>NaN</td>\n",
       "      <td>NaN</td>\n",
       "      <td>NaN</td>\n",
       "      <td>...</td>\n",
       "      <td>NaN</td>\n",
       "      <td>NaN</td>\n",
       "      <td>NaN</td>\n",
       "      <td>NaN</td>\n",
       "      <td>NaN</td>\n",
       "      <td>NaN</td>\n",
       "      <td>NaN</td>\n",
       "      <td>NaN</td>\n",
       "      <td>NaN</td>\n",
       "      <td>NaN</td>\n",
       "    </tr>\n",
       "  </tbody>\n",
       "</table>\n",
       "<p>1 rows × 1741 columns</p>\n",
       "</div>"
      ],
      "text/plain": [
       "        Rating                                               ...            \\\n",
       "Movie     3    5    6    8    16   17   18   24   25   26    ... 4482 4483   \n",
       "User                                                         ...             \n",
       "1000079    NaN  NaN  NaN  NaN  NaN  NaN  NaN  NaN  NaN  NaN  ...  NaN  NaN   \n",
       "\n",
       "                                                 \n",
       "Movie   4484 4485 4488 4489 4490 4492 4493 4496  \n",
       "User                                             \n",
       "1000079  NaN  NaN  NaN  NaN  NaN  NaN  NaN  NaN  \n",
       "\n",
       "[1 rows x 1741 columns]"
      ]
     },
     "execution_count": 64,
     "metadata": {},
     "output_type": "execute_result"
    }
   ],
   "source": [
    "df_p.head(1)"
   ]
  },
  {
   "cell_type": "code",
   "execution_count": 65,
   "metadata": {},
   "outputs": [
    {
     "data": {
      "text/html": [
       "<div>\n",
       "<style scoped>\n",
       "    .dataframe tbody tr th:only-of-type {\n",
       "        vertical-align: middle;\n",
       "    }\n",
       "\n",
       "    .dataframe tbody tr th {\n",
       "        vertical-align: top;\n",
       "    }\n",
       "\n",
       "    .dataframe thead th {\n",
       "        text-align: right;\n",
       "    }\n",
       "</style>\n",
       "<table border=\"1\" class=\"dataframe\">\n",
       "  <thead>\n",
       "    <tr style=\"text-align: right;\">\n",
       "      <th></th>\n",
       "      <th>WeightedRating</th>\n",
       "    </tr>\n",
       "    <tr>\n",
       "      <th>Movie</th>\n",
       "      <th></th>\n",
       "    </tr>\n",
       "  </thead>\n",
       "  <tbody>\n",
       "    <tr>\n",
       "      <th>3</th>\n",
       "      <td>3.460079</td>\n",
       "    </tr>\n",
       "    <tr>\n",
       "      <th>5</th>\n",
       "      <td>3.464420</td>\n",
       "    </tr>\n",
       "    <tr>\n",
       "      <th>6</th>\n",
       "      <td>3.462363</td>\n",
       "    </tr>\n",
       "    <tr>\n",
       "      <th>8</th>\n",
       "      <td>3.452936</td>\n",
       "    </tr>\n",
       "    <tr>\n",
       "      <th>16</th>\n",
       "      <td>3.453801</td>\n",
       "    </tr>\n",
       "    <tr>\n",
       "      <th>...</th>\n",
       "      <td>...</td>\n",
       "    </tr>\n",
       "    <tr>\n",
       "      <th>4489</th>\n",
       "      <td>3.454241</td>\n",
       "    </tr>\n",
       "    <tr>\n",
       "      <th>4490</th>\n",
       "      <td>3.451570</td>\n",
       "    </tr>\n",
       "    <tr>\n",
       "      <th>4492</th>\n",
       "      <td>3.414532</td>\n",
       "    </tr>\n",
       "    <tr>\n",
       "      <th>4493</th>\n",
       "      <td>3.463760</td>\n",
       "    </tr>\n",
       "    <tr>\n",
       "      <th>4496</th>\n",
       "      <td>3.468251</td>\n",
       "    </tr>\n",
       "  </tbody>\n",
       "</table>\n",
       "<p>1741 rows × 1 columns</p>\n",
       "</div>"
      ],
      "text/plain": [
       "       WeightedRating\n",
       "Movie                \n",
       "3            3.460079\n",
       "5            3.464420\n",
       "6            3.462363\n",
       "8            3.452936\n",
       "16           3.453801\n",
       "...               ...\n",
       "4489         3.454241\n",
       "4490         3.451570\n",
       "4492         3.414532\n",
       "4493         3.463760\n",
       "4496         3.468251\n",
       "\n",
       "[1741 rows x 1 columns]"
      ]
     },
     "execution_count": 65,
     "metadata": {},
     "output_type": "execute_result"
    }
   ],
   "source": [
    "# convert weighted_score into a dataframe\n",
    "weighted_mean = pd.DataFrame(weighted_score.reshape(1,-1))\n",
    "weighted_mean.columns = df_p.columns\n",
    "weighted_mean = weighted_mean.T\n",
    "\n",
    "weighted_mean = weighted_mean.reset_index().set_index('Movie').drop(columns='level_0')\n",
    "\n",
    "weighted_mean.columns = ['WeightedRating']\n",
    "\n",
    "weighted_mean"
   ]
  },
  {
   "cell_type": "code",
   "execution_count": 66,
   "metadata": {},
   "outputs": [],
   "source": [
    "# Combine the aggregated dataframes (wighted_mean & movie_titles)\n",
    "combined_df = weighted_mean.join(movie_titles)"
   ]
  },
  {
   "cell_type": "code",
   "execution_count": 67,
   "metadata": {
    "colab": {
     "base_uri": "https://localhost:8080/",
     "height": 225
    },
    "colab_type": "code",
    "id": "YQe4smBk24F3",
    "outputId": "4d1e39ef-72ef-414a-a235-8d0883aa9e00"
   },
   "outputs": [
    {
     "data": {
      "text/html": [
       "<div>\n",
       "<style scoped>\n",
       "    .dataframe tbody tr th:only-of-type {\n",
       "        vertical-align: middle;\n",
       "    }\n",
       "\n",
       "    .dataframe tbody tr th {\n",
       "        vertical-align: top;\n",
       "    }\n",
       "\n",
       "    .dataframe thead th {\n",
       "        text-align: right;\n",
       "    }\n",
       "</style>\n",
       "<table border=\"1\" class=\"dataframe\">\n",
       "  <thead>\n",
       "    <tr style=\"text-align: right;\">\n",
       "      <th></th>\n",
       "      <th>WeightedRating</th>\n",
       "      <th>Year</th>\n",
       "      <th>Name</th>\n",
       "    </tr>\n",
       "    <tr>\n",
       "      <th>Movie</th>\n",
       "      <th></th>\n",
       "      <th></th>\n",
       "      <th></th>\n",
       "    </tr>\n",
       "  </thead>\n",
       "  <tbody>\n",
       "    <tr>\n",
       "      <th>3962</th>\n",
       "      <td>3.668164</td>\n",
       "      <td>2003.0</td>\n",
       "      <td>Finding Nemo (Widescreen)</td>\n",
       "    </tr>\n",
       "    <tr>\n",
       "      <th>2452</th>\n",
       "      <td>3.665579</td>\n",
       "      <td>2001.0</td>\n",
       "      <td>Lord of the Rings: The Fellowship of the Ring</td>\n",
       "    </tr>\n",
       "    <tr>\n",
       "      <th>4306</th>\n",
       "      <td>3.661256</td>\n",
       "      <td>1999.0</td>\n",
       "      <td>The Sixth Sense</td>\n",
       "    </tr>\n",
       "    <tr>\n",
       "      <th>2862</th>\n",
       "      <td>3.652502</td>\n",
       "      <td>1991.0</td>\n",
       "      <td>The Silence of the Lambs</td>\n",
       "    </tr>\n",
       "    <tr>\n",
       "      <th>1905</th>\n",
       "      <td>3.646549</td>\n",
       "      <td>2003.0</td>\n",
       "      <td>Pirates of the Caribbean: The Curse of the Bla...</td>\n",
       "    </tr>\n",
       "    <tr>\n",
       "      <th>3290</th>\n",
       "      <td>3.627250</td>\n",
       "      <td>1974.0</td>\n",
       "      <td>The Godfather Part II</td>\n",
       "    </tr>\n",
       "    <tr>\n",
       "      <th>3938</th>\n",
       "      <td>3.623227</td>\n",
       "      <td>2004.0</td>\n",
       "      <td>Shrek 2</td>\n",
       "    </tr>\n",
       "    <tr>\n",
       "      <th>2782</th>\n",
       "      <td>3.622639</td>\n",
       "      <td>1995.0</td>\n",
       "      <td>Braveheart</td>\n",
       "    </tr>\n",
       "    <tr>\n",
       "      <th>3605</th>\n",
       "      <td>3.610070</td>\n",
       "      <td>1939.0</td>\n",
       "      <td>The Wizard of Oz: Collector's Edition</td>\n",
       "    </tr>\n",
       "    <tr>\n",
       "      <th>3079</th>\n",
       "      <td>3.583824</td>\n",
       "      <td>1994.0</td>\n",
       "      <td>The Lion King: Special Edition</td>\n",
       "    </tr>\n",
       "  </tbody>\n",
       "</table>\n",
       "</div>"
      ],
      "text/plain": [
       "       WeightedRating    Year  \\\n",
       "Movie                           \n",
       "3962         3.668164  2003.0   \n",
       "2452         3.665579  2001.0   \n",
       "4306         3.661256  1999.0   \n",
       "2862         3.652502  1991.0   \n",
       "1905         3.646549  2003.0   \n",
       "3290         3.627250  1974.0   \n",
       "3938         3.623227  2004.0   \n",
       "2782         3.622639  1995.0   \n",
       "3605         3.610070  1939.0   \n",
       "3079         3.583824  1994.0   \n",
       "\n",
       "                                                    Name  \n",
       "Movie                                                     \n",
       "3962                           Finding Nemo (Widescreen)  \n",
       "2452       Lord of the Rings: The Fellowship of the Ring  \n",
       "4306                                     The Sixth Sense  \n",
       "2862                            The Silence of the Lambs  \n",
       "1905   Pirates of the Caribbean: The Curse of the Bla...  \n",
       "3290                               The Godfather Part II  \n",
       "3938                                             Shrek 2  \n",
       "2782                                          Braveheart  \n",
       "3605               The Wizard of Oz: Collector's Edition  \n",
       "3079                      The Lion King: Special Edition  "
      ]
     },
     "execution_count": 67,
     "metadata": {},
     "output_type": "execute_result"
    }
   ],
   "source": [
    "combined_df.sort_values('WeightedRating', ascending=False).head(10)"
   ]
  },
  {
   "cell_type": "code",
   "execution_count": 68,
   "metadata": {},
   "outputs": [],
   "source": [
    "predictions_df = df_train.set_index('Movie').join(ratings_mean, on='Movie')"
   ]
  },
  {
   "cell_type": "code",
   "execution_count": 69,
   "metadata": {},
   "outputs": [
    {
     "data": {
      "text/html": [
       "<div>\n",
       "<style scoped>\n",
       "    .dataframe tbody tr th:only-of-type {\n",
       "        vertical-align: middle;\n",
       "    }\n",
       "\n",
       "    .dataframe tbody tr th {\n",
       "        vertical-align: top;\n",
       "    }\n",
       "\n",
       "    .dataframe thead th {\n",
       "        text-align: right;\n",
       "    }\n",
       "</style>\n",
       "<table border=\"1\" class=\"dataframe\">\n",
       "  <thead>\n",
       "    <tr style=\"text-align: right;\">\n",
       "      <th></th>\n",
       "      <th>WeightedRating</th>\n",
       "    </tr>\n",
       "    <tr>\n",
       "      <th>Movie</th>\n",
       "      <th></th>\n",
       "    </tr>\n",
       "  </thead>\n",
       "  <tbody>\n",
       "    <tr>\n",
       "      <th>3</th>\n",
       "      <td>3.460079</td>\n",
       "    </tr>\n",
       "    <tr>\n",
       "      <th>5</th>\n",
       "      <td>3.464420</td>\n",
       "    </tr>\n",
       "    <tr>\n",
       "      <th>6</th>\n",
       "      <td>3.462363</td>\n",
       "    </tr>\n",
       "    <tr>\n",
       "      <th>8</th>\n",
       "      <td>3.452936</td>\n",
       "    </tr>\n",
       "    <tr>\n",
       "      <th>16</th>\n",
       "      <td>3.453801</td>\n",
       "    </tr>\n",
       "    <tr>\n",
       "      <th>...</th>\n",
       "      <td>...</td>\n",
       "    </tr>\n",
       "    <tr>\n",
       "      <th>4489</th>\n",
       "      <td>3.454241</td>\n",
       "    </tr>\n",
       "    <tr>\n",
       "      <th>4490</th>\n",
       "      <td>3.451570</td>\n",
       "    </tr>\n",
       "    <tr>\n",
       "      <th>4492</th>\n",
       "      <td>3.414532</td>\n",
       "    </tr>\n",
       "    <tr>\n",
       "      <th>4493</th>\n",
       "      <td>3.463760</td>\n",
       "    </tr>\n",
       "    <tr>\n",
       "      <th>4496</th>\n",
       "      <td>3.468251</td>\n",
       "    </tr>\n",
       "  </tbody>\n",
       "</table>\n",
       "<p>1741 rows × 1 columns</p>\n",
       "</div>"
      ],
      "text/plain": [
       "       WeightedRating\n",
       "Movie                \n",
       "3            3.460079\n",
       "5            3.464420\n",
       "6            3.462363\n",
       "8            3.452936\n",
       "16           3.453801\n",
       "...               ...\n",
       "4489         3.454241\n",
       "4490         3.451570\n",
       "4492         3.414532\n",
       "4493         3.463760\n",
       "4496         3.468251\n",
       "\n",
       "[1741 rows x 1 columns]"
      ]
     },
     "execution_count": 69,
     "metadata": {},
     "output_type": "execute_result"
    }
   ],
   "source": [
    "weighted_mean"
   ]
  },
  {
   "cell_type": "code",
   "execution_count": 70,
   "metadata": {},
   "outputs": [],
   "source": [
    "predictions_df = df_test.set_index('Movie').join(weighted_mean)"
   ]
  },
  {
   "cell_type": "code",
   "execution_count": 74,
   "metadata": {},
   "outputs": [
    {
     "data": {
      "text/plain": [
       "User                0\n",
       "Rating              0\n",
       "WeightedRating    185\n",
       "dtype: int64"
      ]
     },
     "execution_count": 74,
     "metadata": {},
     "output_type": "execute_result"
    }
   ],
   "source": [
    "predictions_df.isnull().sum(axis=0)"
   ]
  },
  {
   "cell_type": "code",
   "execution_count": 72,
   "metadata": {},
   "outputs": [
    {
     "data": {
      "text/html": [
       "<div>\n",
       "<style scoped>\n",
       "    .dataframe tbody tr th:only-of-type {\n",
       "        vertical-align: middle;\n",
       "    }\n",
       "\n",
       "    .dataframe tbody tr th {\n",
       "        vertical-align: top;\n",
       "    }\n",
       "\n",
       "    .dataframe thead th {\n",
       "        text-align: right;\n",
       "    }\n",
       "</style>\n",
       "<table border=\"1\" class=\"dataframe\">\n",
       "  <thead>\n",
       "    <tr style=\"text-align: right;\">\n",
       "      <th></th>\n",
       "      <th>User</th>\n",
       "      <th>Rating</th>\n",
       "      <th>WeightedRating</th>\n",
       "    </tr>\n",
       "    <tr>\n",
       "      <th>Movie</th>\n",
       "      <th></th>\n",
       "      <th></th>\n",
       "      <th></th>\n",
       "    </tr>\n",
       "  </thead>\n",
       "  <tbody>\n",
       "    <tr>\n",
       "      <th>3</th>\n",
       "      <td>1825647</td>\n",
       "      <td>4.0</td>\n",
       "      <td>3.460079</td>\n",
       "    </tr>\n",
       "    <tr>\n",
       "      <th>3</th>\n",
       "      <td>2005487</td>\n",
       "      <td>1.0</td>\n",
       "      <td>3.460079</td>\n",
       "    </tr>\n",
       "    <tr>\n",
       "      <th>3</th>\n",
       "      <td>2203182</td>\n",
       "      <td>3.0</td>\n",
       "      <td>3.460079</td>\n",
       "    </tr>\n",
       "    <tr>\n",
       "      <th>3</th>\n",
       "      <td>341649</td>\n",
       "      <td>3.0</td>\n",
       "      <td>3.460079</td>\n",
       "    </tr>\n",
       "    <tr>\n",
       "      <th>3</th>\n",
       "      <td>2613654</td>\n",
       "      <td>4.0</td>\n",
       "      <td>3.460079</td>\n",
       "    </tr>\n",
       "  </tbody>\n",
       "</table>\n",
       "</div>"
      ],
      "text/plain": [
       "          User  Rating  WeightedRating\n",
       "Movie                                 \n",
       "3      1825647     4.0        3.460079\n",
       "3      2005487     1.0        3.460079\n",
       "3      2203182     3.0        3.460079\n",
       "3       341649     3.0        3.460079\n",
       "3      2613654     4.0        3.460079"
      ]
     },
     "execution_count": 72,
     "metadata": {},
     "output_type": "execute_result"
    }
   ],
   "source": [
    "predictions_df.head()"
   ]
  },
  {
   "cell_type": "code",
   "execution_count": 76,
   "metadata": {
    "colab": {
     "base_uri": "https://localhost:8080/",
     "height": 225
    },
    "colab_type": "code",
    "id": "jMd68xuj24F5",
    "outputId": "948409a5-b235-4892-912a-3ec8b70f841d"
   },
   "outputs": [
    {
     "data": {
      "text/html": [
       "<div>\n",
       "<style scoped>\n",
       "    .dataframe tbody tr th:only-of-type {\n",
       "        vertical-align: middle;\n",
       "    }\n",
       "\n",
       "    .dataframe tbody tr th {\n",
       "        vertical-align: top;\n",
       "    }\n",
       "\n",
       "    .dataframe thead th {\n",
       "        text-align: right;\n",
       "    }\n",
       "</style>\n",
       "<table border=\"1\" class=\"dataframe\">\n",
       "  <thead>\n",
       "    <tr style=\"text-align: right;\">\n",
       "      <th></th>\n",
       "      <th>User</th>\n",
       "      <th>Rating</th>\n",
       "      <th>WeightedRating</th>\n",
       "    </tr>\n",
       "    <tr>\n",
       "      <th>Movie</th>\n",
       "      <th></th>\n",
       "      <th></th>\n",
       "      <th></th>\n",
       "    </tr>\n",
       "  </thead>\n",
       "  <tbody>\n",
       "    <tr>\n",
       "      <th>3</th>\n",
       "      <td>1825647</td>\n",
       "      <td>4.0</td>\n",
       "      <td>3.460079</td>\n",
       "    </tr>\n",
       "    <tr>\n",
       "      <th>3</th>\n",
       "      <td>2005487</td>\n",
       "      <td>1.0</td>\n",
       "      <td>3.460079</td>\n",
       "    </tr>\n",
       "    <tr>\n",
       "      <th>3</th>\n",
       "      <td>2203182</td>\n",
       "      <td>3.0</td>\n",
       "      <td>3.460079</td>\n",
       "    </tr>\n",
       "    <tr>\n",
       "      <th>3</th>\n",
       "      <td>341649</td>\n",
       "      <td>3.0</td>\n",
       "      <td>3.460079</td>\n",
       "    </tr>\n",
       "    <tr>\n",
       "      <th>3</th>\n",
       "      <td>2613654</td>\n",
       "      <td>4.0</td>\n",
       "      <td>3.460079</td>\n",
       "    </tr>\n",
       "  </tbody>\n",
       "</table>\n",
       "</div>"
      ],
      "text/plain": [
       "          User  Rating  WeightedRating\n",
       "Movie                                 \n",
       "3      1825647     4.0        3.460079\n",
       "3      2005487     1.0        3.460079\n",
       "3      2203182     3.0        3.460079\n",
       "3       341649     3.0        3.460079\n",
       "3      2613654     4.0        3.460079"
      ]
     },
     "execution_count": 76,
     "metadata": {},
     "output_type": "execute_result"
    }
   ],
   "source": [
    "# Join labels and predictions based on mean movie rating\n",
    "predictions_df = predictions_df.dropna(axis=0)\n",
    "predictions_df.head(5)"
   ]
  },
  {
   "cell_type": "code",
   "execution_count": 77,
   "metadata": {
    "colab": {
     "base_uri": "https://localhost:8080/",
     "height": 34
    },
    "colab_type": "code",
    "id": "HdCxHIO424F8",
    "outputId": "e8369ec9-e022-4b66-cd55-256ee1f5ff62"
   },
   "outputs": [
    {
     "name": "stdout",
     "output_type": "stream",
     "text": [
      "The RMSE Value for the Weighted-Mean Rating Recommender: 1.0641687991025348\n"
     ]
    }
   ],
   "source": [
    "# Compute RMSE\n",
    "y_true = predictions_df['Rating']\n",
    "y_pred = predictions_df['WeightedRating']\n",
    "\n",
    "rmse = np.sqrt(mean_squared_error(y_true=y_true, y_pred=y_pred))\n",
    "print(\"The RMSE Value for the Weighted-Mean Rating Recommender:\", rmse)"
   ]
  },
  {
   "cell_type": "code",
   "execution_count": 80,
   "metadata": {
    "colab": {
     "base_uri": "https://localhost:8080/",
     "height": 373
    },
    "colab_type": "code",
    "id": "gt1Q5Mh124F-",
    "outputId": "1e61eb00-d5a9-4265-9b80-579b21be655c"
   },
   "outputs": [
    {
     "data": {
      "text/html": [
       "<div>\n",
       "<style scoped>\n",
       "    .dataframe tbody tr th:only-of-type {\n",
       "        vertical-align: middle;\n",
       "    }\n",
       "\n",
       "    .dataframe tbody tr th {\n",
       "        vertical-align: top;\n",
       "    }\n",
       "\n",
       "    .dataframe thead th {\n",
       "        text-align: right;\n",
       "    }\n",
       "</style>\n",
       "<table border=\"1\" class=\"dataframe\">\n",
       "  <thead>\n",
       "    <tr style=\"text-align: right;\">\n",
       "      <th></th>\n",
       "      <th>WeightedRating</th>\n",
       "      <th>Year</th>\n",
       "      <th>Name</th>\n",
       "    </tr>\n",
       "    <tr>\n",
       "      <th>Movie</th>\n",
       "      <th></th>\n",
       "      <th></th>\n",
       "      <th></th>\n",
       "    </tr>\n",
       "  </thead>\n",
       "  <tbody>\n",
       "    <tr>\n",
       "      <th>3962</th>\n",
       "      <td>3.668164</td>\n",
       "      <td>2003.0</td>\n",
       "      <td>Finding Nemo (Widescreen)</td>\n",
       "    </tr>\n",
       "    <tr>\n",
       "      <th>2452</th>\n",
       "      <td>3.665579</td>\n",
       "      <td>2001.0</td>\n",
       "      <td>Lord of the Rings: The Fellowship of the Ring</td>\n",
       "    </tr>\n",
       "    <tr>\n",
       "      <th>4306</th>\n",
       "      <td>3.661256</td>\n",
       "      <td>1999.0</td>\n",
       "      <td>The Sixth Sense</td>\n",
       "    </tr>\n",
       "    <tr>\n",
       "      <th>2862</th>\n",
       "      <td>3.652502</td>\n",
       "      <td>1991.0</td>\n",
       "      <td>The Silence of the Lambs</td>\n",
       "    </tr>\n",
       "    <tr>\n",
       "      <th>1905</th>\n",
       "      <td>3.646549</td>\n",
       "      <td>2003.0</td>\n",
       "      <td>Pirates of the Caribbean: The Curse of the Bla...</td>\n",
       "    </tr>\n",
       "    <tr>\n",
       "      <th>3290</th>\n",
       "      <td>3.627250</td>\n",
       "      <td>1974.0</td>\n",
       "      <td>The Godfather Part II</td>\n",
       "    </tr>\n",
       "    <tr>\n",
       "      <th>3938</th>\n",
       "      <td>3.623227</td>\n",
       "      <td>2004.0</td>\n",
       "      <td>Shrek 2</td>\n",
       "    </tr>\n",
       "    <tr>\n",
       "      <th>2782</th>\n",
       "      <td>3.622639</td>\n",
       "      <td>1995.0</td>\n",
       "      <td>Braveheart</td>\n",
       "    </tr>\n",
       "    <tr>\n",
       "      <th>3605</th>\n",
       "      <td>3.610070</td>\n",
       "      <td>1939.0</td>\n",
       "      <td>The Wizard of Oz: Collector's Edition</td>\n",
       "    </tr>\n",
       "    <tr>\n",
       "      <th>3079</th>\n",
       "      <td>3.583824</td>\n",
       "      <td>1994.0</td>\n",
       "      <td>The Lion King: Special Edition</td>\n",
       "    </tr>\n",
       "  </tbody>\n",
       "</table>\n",
       "</div>"
      ],
      "text/plain": [
       "       WeightedRating    Year  \\\n",
       "Movie                           \n",
       "3962         3.668164  2003.0   \n",
       "2452         3.665579  2001.0   \n",
       "4306         3.661256  1999.0   \n",
       "2862         3.652502  1991.0   \n",
       "1905         3.646549  2003.0   \n",
       "3290         3.627250  1974.0   \n",
       "3938         3.623227  2004.0   \n",
       "2782         3.622639  1995.0   \n",
       "3605         3.610070  1939.0   \n",
       "3079         3.583824  1994.0   \n",
       "\n",
       "                                                    Name  \n",
       "Movie                                                     \n",
       "3962                           Finding Nemo (Widescreen)  \n",
       "2452       Lord of the Rings: The Fellowship of the Ring  \n",
       "4306                                     The Sixth Sense  \n",
       "2862                            The Silence of the Lambs  \n",
       "1905   Pirates of the Caribbean: The Curse of the Bla...  \n",
       "3290                               The Godfather Part II  \n",
       "3938                                             Shrek 2  \n",
       "2782                                          Braveheart  \n",
       "3605               The Wizard of Oz: Collector's Edition  \n",
       "3079                      The Lion King: Special Edition  "
      ]
     },
     "execution_count": 80,
     "metadata": {},
     "output_type": "execute_result"
    }
   ],
   "source": [
    "# View top ten rated movies\n",
    "combined_df.sort_values('WeightedRating', ascending=False).head(10)"
   ]
  },
  {
   "cell_type": "markdown",
   "metadata": {
    "colab_type": "text",
    "id": "SXa7l21yE-eY"
   },
   "source": [
    "The variable \"m\" can be seen as regularizing parameter. Changing it determines how much weight is put onto the movies with many ratings.\n",
    "Even if there is a better ranking the RMSE decreased slightly. There is a trade-off between interpretability and predictive power."
   ]
  },
  {
   "cell_type": "markdown",
   "metadata": {
    "colab_type": "text",
    "id": "0KRZO1u_24GB"
   },
   "source": [
    "## 8.2: Content Based Recommendation Systems\n",
    "\n",
    "\n",
    "The Content-Based Recommender relies on the similarity of the items being recommended. The basic idea is that if you like an item, then you will also like a “similar” item. It generally works well when it’s easy to determine the context/properties of each item. If there is no historical data for a user or there is reliable metadata for each movie, it can be useful to compare the metadata of the movies to find similar ones.\n",
    "\n",
    "![](./images/Content-based.png)"
   ]
  },
  {
   "cell_type": "markdown",
   "metadata": {
    "colab_type": "text",
    "id": "5WovG-3YFSqo"
   },
   "source": [
    "### Cosine TFIDF Movie Description Similarity"
   ]
  },
  {
   "cell_type": "markdown",
   "metadata": {
    "colab_type": "text",
    "id": "eldw_9lpNfUJ"
   },
   "source": [
    "#### TF-IDF \n",
    "\n",
    "This is a text vectorization technique which is used to determine the relative importance of a document / article / news item / movie etc.\n",
    "\n",
    "TF is simply the frequency of a word in a document. \n",
    "\n",
    "IDF is the inverse of the document frequency among the whole corpus of documents. \n",
    "\n",
    "TF-IDF is used mainly because of two reasons: Suppose we search for “the results of latest European Socccer games” on Google. It is certain that “the” will occur more frequently than “soccer games” but the relative importance of soccer games is higher than the search query point of view. \n",
    "\n",
    "In such cases, TF-IDF weighting negates the effect of high frequency words in determining the importance of an item (document).\n",
    "\n",
    "![](./images/TF-IDF-FORMULA.png)\n"
   ]
  },
  {
   "cell_type": "markdown",
   "metadata": {
    "colab_type": "text",
    "id": "Trb9DlZxOYGO"
   },
   "source": [
    "#### Cosine Similarity \n",
    "After calculating TF-IDF scores, how do we determine which items are closer to each other, rather closer to the user profile? This is accomplished using the Vector Space Model which computes the proximity based on the angle between the vectors.\n",
    "\n",
    "Consider the following example\n",
    "\n",
    "![](./images/vector-space-model.png)\n",
    "\n",
    "Sentence 2 is more likely to be using Term 2 than using Term 1. Vice-versa for Sentence 1. \n",
    "\n",
    "The method of calculating this relative measure is calculated by taking the cosine of the angle between the sentences and the terms. \n",
    "\n",
    "The ultimate reason behind using cosine is that the value of cosine will increase with decreasing value of the angle between which signifies more similarity. \n",
    "\n",
    "The vectors are length normalized after which they become vectors of length 1 and then the cosine calculation is simply the sum-product of vectors."
   ]
  },
  {
   "cell_type": "markdown",
   "metadata": {
    "colab_type": "text",
    "id": "4Cm9mjG-PSr3"
   },
   "source": [
    "In this approch we will use the movie description to create a TFIDF-matrix, which counts and weights words in all descriptions, and compute a cosine similarity between all of those sparse text-vectors. This can easily be extended to more or different features if you like.\n",
    "It is impossible for this model to compute a RMSE score, since the model does not recommend the movies directly.\n",
    "In this way it is possible to find movies closly related to each other.\n",
    "\n",
    "This approach of content based filtering can be extendend to increase the model performance by adding some more features like genres, cast, crew etc."
   ]
  },
  {
   "cell_type": "code",
   "execution_count": 82,
   "metadata": {},
   "outputs": [
    {
     "data": {
      "text/html": [
       "<div>\n",
       "<style scoped>\n",
       "    .dataframe tbody tr th:only-of-type {\n",
       "        vertical-align: middle;\n",
       "    }\n",
       "\n",
       "    .dataframe tbody tr th {\n",
       "        vertical-align: top;\n",
       "    }\n",
       "\n",
       "    .dataframe thead th {\n",
       "        text-align: right;\n",
       "    }\n",
       "</style>\n",
       "<table border=\"1\" class=\"dataframe\">\n",
       "  <thead>\n",
       "    <tr style=\"text-align: right;\">\n",
       "      <th></th>\n",
       "      <th>overview</th>\n",
       "    </tr>\n",
       "    <tr>\n",
       "      <th>original_title</th>\n",
       "      <th></th>\n",
       "    </tr>\n",
       "  </thead>\n",
       "  <tbody>\n",
       "    <tr>\n",
       "      <th>Toy Story</th>\n",
       "      <td>Led by Woody, Andy's toys live happily in his ...</td>\n",
       "    </tr>\n",
       "    <tr>\n",
       "      <th>Jumanji</th>\n",
       "      <td>When siblings Judy and Peter discover an encha...</td>\n",
       "    </tr>\n",
       "    <tr>\n",
       "      <th>Grumpier Old Men</th>\n",
       "      <td>A family wedding reignites the ancient feud be...</td>\n",
       "    </tr>\n",
       "    <tr>\n",
       "      <th>Waiting to Exhale</th>\n",
       "      <td>Cheated on, mistreated and stepped on, the wom...</td>\n",
       "    </tr>\n",
       "    <tr>\n",
       "      <th>Father of the Bride Part II</th>\n",
       "      <td>Just when George Banks has recovered from his ...</td>\n",
       "    </tr>\n",
       "    <tr>\n",
       "      <th>...</th>\n",
       "      <td>...</td>\n",
       "    </tr>\n",
       "    <tr>\n",
       "      <th>L'Homme à la tête de caoutchouc</th>\n",
       "      <td>A chemist in his laboratory places upon a tabl...</td>\n",
       "    </tr>\n",
       "    <tr>\n",
       "      <th>Le locataire diabolique</th>\n",
       "      <td>A man rents an apartment and furnishes it in r...</td>\n",
       "    </tr>\n",
       "    <tr>\n",
       "      <th>L'Homme orchestre</th>\n",
       "      <td>A band-leader has arranged seven chairs for th...</td>\n",
       "    </tr>\n",
       "    <tr>\n",
       "      <th>Maa</th>\n",
       "      <td>The bliss of a biology teacher’s family life i...</td>\n",
       "    </tr>\n",
       "    <tr>\n",
       "      <th>Robin Hood</th>\n",
       "      <td>Yet another version of the classic epic, with ...</td>\n",
       "    </tr>\n",
       "  </tbody>\n",
       "</table>\n",
       "<p>21604 rows × 1 columns</p>\n",
       "</div>"
      ],
      "text/plain": [
       "                                                                          overview\n",
       "original_title                                                                    \n",
       "Toy Story                        Led by Woody, Andy's toys live happily in his ...\n",
       "Jumanji                          When siblings Judy and Peter discover an encha...\n",
       "Grumpier Old Men                 A family wedding reignites the ancient feud be...\n",
       "Waiting to Exhale                Cheated on, mistreated and stepped on, the wom...\n",
       "Father of the Bride Part II      Just when George Banks has recovered from his ...\n",
       "...                                                                            ...\n",
       "L'Homme à la tête de caoutchouc  A chemist in his laboratory places upon a tabl...\n",
       "Le locataire diabolique          A man rents an apartment and furnishes it in r...\n",
       "L'Homme orchestre                A band-leader has arranged seven chairs for th...\n",
       "Maa                              The bliss of a biology teacher’s family life i...\n",
       "Robin Hood                       Yet another version of the classic epic, with ...\n",
       "\n",
       "[21604 rows x 1 columns]"
      ]
     },
     "execution_count": 82,
     "metadata": {},
     "output_type": "execute_result"
    }
   ],
   "source": [
    "movie_metadata"
   ]
  },
  {
   "cell_type": "code",
   "execution_count": 81,
   "metadata": {
    "colab": {
     "base_uri": "https://localhost:8080/",
     "height": 134
    },
    "colab_type": "code",
    "id": "AdEeBvSf24GE",
    "outputId": "6dfc4ef6-f4b3-45d3-e6b1-35e2132a2375"
   },
   "outputs": [
    {
     "data": {
      "text/plain": [
       "original_title\n",
       "Toy Story                      Led by Woody, Andy's toys live happily in his ...\n",
       "Jumanji                        When siblings Judy and Peter discover an encha...\n",
       "Grumpier Old Men               A family wedding reignites the ancient feud be...\n",
       "Waiting to Exhale              Cheated on, mistreated and stepped on, the wom...\n",
       "Father of the Bride Part II    Just when George Banks has recovered from his ...\n",
       "Name: overview, dtype: object"
      ]
     },
     "execution_count": 81,
     "metadata": {},
     "output_type": "execute_result"
    }
   ],
   "source": [
    "# view sample movie descriptions\n",
    "movie_metadata['overview'].head(5)"
   ]
  },
  {
   "cell_type": "code",
   "execution_count": 83,
   "metadata": {
    "colab": {},
    "colab_type": "code",
    "id": "DiiwYdQj24GG"
   },
   "outputs": [],
   "source": [
    "# Create tf-idf matrix for text comparison\n",
    "tfidf = TfidfVectorizer(stop_words='english')\n",
    "tfidf_matrix = tfidf.fit_transform(movie_metadata['overview'])"
   ]
  },
  {
   "cell_type": "code",
   "execution_count": 88,
   "metadata": {},
   "outputs": [
    {
     "data": {
      "text/plain": [
       "(21604, 1)"
      ]
     },
     "execution_count": 88,
     "metadata": {},
     "output_type": "execute_result"
    }
   ],
   "source": [
    "movie_metadata.shape"
   ]
  },
  {
   "cell_type": "code",
   "execution_count": 90,
   "metadata": {},
   "outputs": [
    {
     "data": {
      "text/plain": [
       "<21604x48083 sparse matrix of type '<class 'numpy.float64'>'\n",
       "\twith 574154 stored elements in Compressed Sparse Row format>"
      ]
     },
     "execution_count": 90,
     "metadata": {},
     "output_type": "execute_result"
    }
   ],
   "source": [
    "tfidf_matrix"
   ]
  },
  {
   "cell_type": "code",
   "execution_count": 92,
   "metadata": {},
   "outputs": [],
   "source": [
    "similarity = cosine_similarity(tfidf_matrix)"
   ]
  },
  {
   "cell_type": "code",
   "execution_count": 94,
   "metadata": {},
   "outputs": [
    {
     "data": {
      "text/plain": [
       "(21604, 21604)"
      ]
     },
     "execution_count": 94,
     "metadata": {},
     "output_type": "execute_result"
    }
   ],
   "source": [
    "similarity.shape"
   ]
  },
  {
   "cell_type": "code",
   "execution_count": 95,
   "metadata": {},
   "outputs": [],
   "source": [
    "similarity_df = pd.DataFrame(\n",
    "    similarity,\n",
    "    index=movie_metadata.index.values,\n",
    "    columns=movie_metadata.index.values\n",
    ")"
   ]
  },
  {
   "cell_type": "code",
   "execution_count": 96,
   "metadata": {},
   "outputs": [
    {
     "data": {
      "text/html": [
       "<div>\n",
       "<style scoped>\n",
       "    .dataframe tbody tr th:only-of-type {\n",
       "        vertical-align: middle;\n",
       "    }\n",
       "\n",
       "    .dataframe tbody tr th {\n",
       "        vertical-align: top;\n",
       "    }\n",
       "\n",
       "    .dataframe thead th {\n",
       "        text-align: right;\n",
       "    }\n",
       "</style>\n",
       "<table border=\"1\" class=\"dataframe\">\n",
       "  <thead>\n",
       "    <tr style=\"text-align: right;\">\n",
       "      <th></th>\n",
       "      <th>Toy Story</th>\n",
       "      <th>Jumanji</th>\n",
       "      <th>Grumpier Old Men</th>\n",
       "      <th>Waiting to Exhale</th>\n",
       "      <th>Father of the Bride Part II</th>\n",
       "      <th>Heat</th>\n",
       "      <th>Sabrina</th>\n",
       "      <th>Tom and Huck</th>\n",
       "      <th>Sudden Death</th>\n",
       "      <th>GoldenEye</th>\n",
       "      <th>...</th>\n",
       "      <th>The Final Storm</th>\n",
       "      <th>In a Heartbeat</th>\n",
       "      <th>Bloed, Zweet en Tranen</th>\n",
       "      <th>To Be Fat Like Me</th>\n",
       "      <th>Cadet Kelly</th>\n",
       "      <th>L'Homme à la tête de caoutchouc</th>\n",
       "      <th>Le locataire diabolique</th>\n",
       "      <th>L'Homme orchestre</th>\n",
       "      <th>Maa</th>\n",
       "      <th>Robin Hood</th>\n",
       "    </tr>\n",
       "  </thead>\n",
       "  <tbody>\n",
       "    <tr>\n",
       "      <th>Toy Story</th>\n",
       "      <td>1.000000</td>\n",
       "      <td>0.015385</td>\n",
       "      <td>0.000000</td>\n",
       "      <td>0.000000</td>\n",
       "      <td>0.000000</td>\n",
       "      <td>0.000000</td>\n",
       "      <td>0.000000</td>\n",
       "      <td>0.000000</td>\n",
       "      <td>0.000000</td>\n",
       "      <td>0.000000</td>\n",
       "      <td>...</td>\n",
       "      <td>0.00000</td>\n",
       "      <td>0.023356</td>\n",
       "      <td>0.000000</td>\n",
       "      <td>0.000000</td>\n",
       "      <td>0.0</td>\n",
       "      <td>0.000000</td>\n",
       "      <td>0.000000</td>\n",
       "      <td>0.00000</td>\n",
       "      <td>0.000000</td>\n",
       "      <td>0.0</td>\n",
       "    </tr>\n",
       "    <tr>\n",
       "      <th>Jumanji</th>\n",
       "      <td>0.015385</td>\n",
       "      <td>1.000000</td>\n",
       "      <td>0.046854</td>\n",
       "      <td>0.000000</td>\n",
       "      <td>0.000000</td>\n",
       "      <td>0.047646</td>\n",
       "      <td>0.000000</td>\n",
       "      <td>0.000000</td>\n",
       "      <td>0.098488</td>\n",
       "      <td>0.000000</td>\n",
       "      <td>...</td>\n",
       "      <td>0.00000</td>\n",
       "      <td>0.000000</td>\n",
       "      <td>0.000000</td>\n",
       "      <td>0.004192</td>\n",
       "      <td>0.0</td>\n",
       "      <td>0.014642</td>\n",
       "      <td>0.000000</td>\n",
       "      <td>0.00000</td>\n",
       "      <td>0.000000</td>\n",
       "      <td>0.0</td>\n",
       "    </tr>\n",
       "    <tr>\n",
       "      <th>Grumpier Old Men</th>\n",
       "      <td>0.000000</td>\n",
       "      <td>0.046854</td>\n",
       "      <td>1.000000</td>\n",
       "      <td>0.000000</td>\n",
       "      <td>0.023903</td>\n",
       "      <td>0.000000</td>\n",
       "      <td>0.000000</td>\n",
       "      <td>0.006463</td>\n",
       "      <td>0.000000</td>\n",
       "      <td>0.000000</td>\n",
       "      <td>...</td>\n",
       "      <td>0.00000</td>\n",
       "      <td>0.000000</td>\n",
       "      <td>0.000000</td>\n",
       "      <td>0.000000</td>\n",
       "      <td>0.0</td>\n",
       "      <td>0.015409</td>\n",
       "      <td>0.000000</td>\n",
       "      <td>0.00000</td>\n",
       "      <td>0.007101</td>\n",
       "      <td>0.0</td>\n",
       "    </tr>\n",
       "    <tr>\n",
       "      <th>Waiting to Exhale</th>\n",
       "      <td>0.000000</td>\n",
       "      <td>0.000000</td>\n",
       "      <td>0.000000</td>\n",
       "      <td>1.000000</td>\n",
       "      <td>0.000000</td>\n",
       "      <td>0.007417</td>\n",
       "      <td>0.000000</td>\n",
       "      <td>0.008592</td>\n",
       "      <td>0.000000</td>\n",
       "      <td>0.000000</td>\n",
       "      <td>...</td>\n",
       "      <td>0.02846</td>\n",
       "      <td>0.000000</td>\n",
       "      <td>0.000000</td>\n",
       "      <td>0.000000</td>\n",
       "      <td>0.0</td>\n",
       "      <td>0.000000</td>\n",
       "      <td>0.016324</td>\n",
       "      <td>0.00684</td>\n",
       "      <td>0.000000</td>\n",
       "      <td>0.0</td>\n",
       "    </tr>\n",
       "    <tr>\n",
       "      <th>Father of the Bride Part II</th>\n",
       "      <td>0.000000</td>\n",
       "      <td>0.000000</td>\n",
       "      <td>0.023903</td>\n",
       "      <td>0.000000</td>\n",
       "      <td>1.000000</td>\n",
       "      <td>0.000000</td>\n",
       "      <td>0.030866</td>\n",
       "      <td>0.000000</td>\n",
       "      <td>0.033213</td>\n",
       "      <td>0.000000</td>\n",
       "      <td>...</td>\n",
       "      <td>0.00000</td>\n",
       "      <td>0.000000</td>\n",
       "      <td>0.000000</td>\n",
       "      <td>0.022816</td>\n",
       "      <td>0.0</td>\n",
       "      <td>0.000000</td>\n",
       "      <td>0.000000</td>\n",
       "      <td>0.00000</td>\n",
       "      <td>0.012584</td>\n",
       "      <td>0.0</td>\n",
       "    </tr>\n",
       "    <tr>\n",
       "      <th>...</th>\n",
       "      <td>...</td>\n",
       "      <td>...</td>\n",
       "      <td>...</td>\n",
       "      <td>...</td>\n",
       "      <td>...</td>\n",
       "      <td>...</td>\n",
       "      <td>...</td>\n",
       "      <td>...</td>\n",
       "      <td>...</td>\n",
       "      <td>...</td>\n",
       "      <td>...</td>\n",
       "      <td>...</td>\n",
       "      <td>...</td>\n",
       "      <td>...</td>\n",
       "      <td>...</td>\n",
       "      <td>...</td>\n",
       "      <td>...</td>\n",
       "      <td>...</td>\n",
       "      <td>...</td>\n",
       "      <td>...</td>\n",
       "      <td>...</td>\n",
       "    </tr>\n",
       "    <tr>\n",
       "      <th>L'Homme à la tête de caoutchouc</th>\n",
       "      <td>0.000000</td>\n",
       "      <td>0.014642</td>\n",
       "      <td>0.015409</td>\n",
       "      <td>0.000000</td>\n",
       "      <td>0.000000</td>\n",
       "      <td>0.000000</td>\n",
       "      <td>0.000000</td>\n",
       "      <td>0.000000</td>\n",
       "      <td>0.000000</td>\n",
       "      <td>0.076444</td>\n",
       "      <td>...</td>\n",
       "      <td>0.00000</td>\n",
       "      <td>0.000000</td>\n",
       "      <td>0.000000</td>\n",
       "      <td>0.004332</td>\n",
       "      <td>0.0</td>\n",
       "      <td>1.000000</td>\n",
       "      <td>0.000000</td>\n",
       "      <td>0.00000</td>\n",
       "      <td>0.000000</td>\n",
       "      <td>0.0</td>\n",
       "    </tr>\n",
       "    <tr>\n",
       "      <th>Le locataire diabolique</th>\n",
       "      <td>0.000000</td>\n",
       "      <td>0.000000</td>\n",
       "      <td>0.000000</td>\n",
       "      <td>0.016324</td>\n",
       "      <td>0.000000</td>\n",
       "      <td>0.015837</td>\n",
       "      <td>0.105139</td>\n",
       "      <td>0.000000</td>\n",
       "      <td>0.000000</td>\n",
       "      <td>0.000000</td>\n",
       "      <td>...</td>\n",
       "      <td>0.00000</td>\n",
       "      <td>0.000000</td>\n",
       "      <td>0.000000</td>\n",
       "      <td>0.000000</td>\n",
       "      <td>0.0</td>\n",
       "      <td>0.000000</td>\n",
       "      <td>1.000000</td>\n",
       "      <td>0.00000</td>\n",
       "      <td>0.000000</td>\n",
       "      <td>0.0</td>\n",
       "    </tr>\n",
       "    <tr>\n",
       "      <th>L'Homme orchestre</th>\n",
       "      <td>0.000000</td>\n",
       "      <td>0.000000</td>\n",
       "      <td>0.000000</td>\n",
       "      <td>0.006840</td>\n",
       "      <td>0.000000</td>\n",
       "      <td>0.000000</td>\n",
       "      <td>0.000000</td>\n",
       "      <td>0.000000</td>\n",
       "      <td>0.000000</td>\n",
       "      <td>0.016266</td>\n",
       "      <td>...</td>\n",
       "      <td>0.00000</td>\n",
       "      <td>0.000000</td>\n",
       "      <td>0.000000</td>\n",
       "      <td>0.000000</td>\n",
       "      <td>0.0</td>\n",
       "      <td>0.000000</td>\n",
       "      <td>0.000000</td>\n",
       "      <td>1.00000</td>\n",
       "      <td>0.000000</td>\n",
       "      <td>0.0</td>\n",
       "    </tr>\n",
       "    <tr>\n",
       "      <th>Maa</th>\n",
       "      <td>0.000000</td>\n",
       "      <td>0.000000</td>\n",
       "      <td>0.007101</td>\n",
       "      <td>0.000000</td>\n",
       "      <td>0.012584</td>\n",
       "      <td>0.000000</td>\n",
       "      <td>0.000000</td>\n",
       "      <td>0.006162</td>\n",
       "      <td>0.014963</td>\n",
       "      <td>0.000000</td>\n",
       "      <td>...</td>\n",
       "      <td>0.00000</td>\n",
       "      <td>0.000000</td>\n",
       "      <td>0.013979</td>\n",
       "      <td>0.000000</td>\n",
       "      <td>0.0</td>\n",
       "      <td>0.000000</td>\n",
       "      <td>0.000000</td>\n",
       "      <td>0.00000</td>\n",
       "      <td>1.000000</td>\n",
       "      <td>0.0</td>\n",
       "    </tr>\n",
       "    <tr>\n",
       "      <th>Robin Hood</th>\n",
       "      <td>0.000000</td>\n",
       "      <td>0.000000</td>\n",
       "      <td>0.000000</td>\n",
       "      <td>0.000000</td>\n",
       "      <td>0.000000</td>\n",
       "      <td>0.000000</td>\n",
       "      <td>0.000000</td>\n",
       "      <td>0.000000</td>\n",
       "      <td>0.000000</td>\n",
       "      <td>0.000000</td>\n",
       "      <td>...</td>\n",
       "      <td>0.00000</td>\n",
       "      <td>0.000000</td>\n",
       "      <td>0.016469</td>\n",
       "      <td>0.007918</td>\n",
       "      <td>0.0</td>\n",
       "      <td>0.000000</td>\n",
       "      <td>0.000000</td>\n",
       "      <td>0.00000</td>\n",
       "      <td>0.000000</td>\n",
       "      <td>1.0</td>\n",
       "    </tr>\n",
       "  </tbody>\n",
       "</table>\n",
       "<p>21604 rows × 21604 columns</p>\n",
       "</div>"
      ],
      "text/plain": [
       "                                 Toy Story   Jumanji  Grumpier Old Men  \\\n",
       "Toy Story                         1.000000  0.015385          0.000000   \n",
       "Jumanji                           0.015385  1.000000          0.046854   \n",
       "Grumpier Old Men                  0.000000  0.046854          1.000000   \n",
       "Waiting to Exhale                 0.000000  0.000000          0.000000   \n",
       "Father of the Bride Part II       0.000000  0.000000          0.023903   \n",
       "...                                    ...       ...               ...   \n",
       "L'Homme à la tête de caoutchouc   0.000000  0.014642          0.015409   \n",
       "Le locataire diabolique           0.000000  0.000000          0.000000   \n",
       "L'Homme orchestre                 0.000000  0.000000          0.000000   \n",
       "Maa                               0.000000  0.000000          0.007101   \n",
       "Robin Hood                        0.000000  0.000000          0.000000   \n",
       "\n",
       "                                 Waiting to Exhale  \\\n",
       "Toy Story                                 0.000000   \n",
       "Jumanji                                   0.000000   \n",
       "Grumpier Old Men                          0.000000   \n",
       "Waiting to Exhale                         1.000000   \n",
       "Father of the Bride Part II               0.000000   \n",
       "...                                            ...   \n",
       "L'Homme à la tête de caoutchouc           0.000000   \n",
       "Le locataire diabolique                   0.016324   \n",
       "L'Homme orchestre                         0.006840   \n",
       "Maa                                       0.000000   \n",
       "Robin Hood                                0.000000   \n",
       "\n",
       "                                 Father of the Bride Part II      Heat  \\\n",
       "Toy Story                                           0.000000  0.000000   \n",
       "Jumanji                                             0.000000  0.047646   \n",
       "Grumpier Old Men                                    0.023903  0.000000   \n",
       "Waiting to Exhale                                   0.000000  0.007417   \n",
       "Father of the Bride Part II                         1.000000  0.000000   \n",
       "...                                                      ...       ...   \n",
       "L'Homme à la tête de caoutchouc                     0.000000  0.000000   \n",
       "Le locataire diabolique                             0.000000  0.015837   \n",
       "L'Homme orchestre                                   0.000000  0.000000   \n",
       "Maa                                                 0.012584  0.000000   \n",
       "Robin Hood                                          0.000000  0.000000   \n",
       "\n",
       "                                  Sabrina  Tom and Huck  Sudden Death  \\\n",
       "Toy Story                        0.000000      0.000000      0.000000   \n",
       "Jumanji                          0.000000      0.000000      0.098488   \n",
       "Grumpier Old Men                 0.000000      0.006463      0.000000   \n",
       "Waiting to Exhale                0.000000      0.008592      0.000000   \n",
       "Father of the Bride Part II      0.030866      0.000000      0.033213   \n",
       "...                                   ...           ...           ...   \n",
       "L'Homme à la tête de caoutchouc  0.000000      0.000000      0.000000   \n",
       "Le locataire diabolique          0.105139      0.000000      0.000000   \n",
       "L'Homme orchestre                0.000000      0.000000      0.000000   \n",
       "Maa                              0.000000      0.006162      0.014963   \n",
       "Robin Hood                       0.000000      0.000000      0.000000   \n",
       "\n",
       "                                 GoldenEye  ...  The Final Storm  \\\n",
       "Toy Story                         0.000000  ...          0.00000   \n",
       "Jumanji                           0.000000  ...          0.00000   \n",
       "Grumpier Old Men                  0.000000  ...          0.00000   \n",
       "Waiting to Exhale                 0.000000  ...          0.02846   \n",
       "Father of the Bride Part II       0.000000  ...          0.00000   \n",
       "...                                    ...  ...              ...   \n",
       "L'Homme à la tête de caoutchouc   0.076444  ...          0.00000   \n",
       "Le locataire diabolique           0.000000  ...          0.00000   \n",
       "L'Homme orchestre                 0.016266  ...          0.00000   \n",
       "Maa                               0.000000  ...          0.00000   \n",
       "Robin Hood                        0.000000  ...          0.00000   \n",
       "\n",
       "                                 In a Heartbeat  Bloed, Zweet en Tranen  \\\n",
       "Toy Story                              0.023356                0.000000   \n",
       "Jumanji                                0.000000                0.000000   \n",
       "Grumpier Old Men                       0.000000                0.000000   \n",
       "Waiting to Exhale                      0.000000                0.000000   \n",
       "Father of the Bride Part II            0.000000                0.000000   \n",
       "...                                         ...                     ...   \n",
       "L'Homme à la tête de caoutchouc        0.000000                0.000000   \n",
       "Le locataire diabolique                0.000000                0.000000   \n",
       "L'Homme orchestre                      0.000000                0.000000   \n",
       "Maa                                    0.000000                0.013979   \n",
       "Robin Hood                             0.000000                0.016469   \n",
       "\n",
       "                                 To Be Fat Like Me  Cadet Kelly  \\\n",
       "Toy Story                                 0.000000          0.0   \n",
       "Jumanji                                   0.004192          0.0   \n",
       "Grumpier Old Men                          0.000000          0.0   \n",
       "Waiting to Exhale                         0.000000          0.0   \n",
       "Father of the Bride Part II               0.022816          0.0   \n",
       "...                                            ...          ...   \n",
       "L'Homme à la tête de caoutchouc           0.004332          0.0   \n",
       "Le locataire diabolique                   0.000000          0.0   \n",
       "L'Homme orchestre                         0.000000          0.0   \n",
       "Maa                                       0.000000          0.0   \n",
       "Robin Hood                                0.007918          0.0   \n",
       "\n",
       "                                 L'Homme à la tête de caoutchouc  \\\n",
       "Toy Story                                               0.000000   \n",
       "Jumanji                                                 0.014642   \n",
       "Grumpier Old Men                                        0.015409   \n",
       "Waiting to Exhale                                       0.000000   \n",
       "Father of the Bride Part II                             0.000000   \n",
       "...                                                          ...   \n",
       "L'Homme à la tête de caoutchouc                         1.000000   \n",
       "Le locataire diabolique                                 0.000000   \n",
       "L'Homme orchestre                                       0.000000   \n",
       "Maa                                                     0.000000   \n",
       "Robin Hood                                              0.000000   \n",
       "\n",
       "                                 Le locataire diabolique  L'Homme orchestre  \\\n",
       "Toy Story                                       0.000000            0.00000   \n",
       "Jumanji                                         0.000000            0.00000   \n",
       "Grumpier Old Men                                0.000000            0.00000   \n",
       "Waiting to Exhale                               0.016324            0.00684   \n",
       "Father of the Bride Part II                     0.000000            0.00000   \n",
       "...                                                  ...                ...   \n",
       "L'Homme à la tête de caoutchouc                 0.000000            0.00000   \n",
       "Le locataire diabolique                         1.000000            0.00000   \n",
       "L'Homme orchestre                               0.000000            1.00000   \n",
       "Maa                                             0.000000            0.00000   \n",
       "Robin Hood                                      0.000000            0.00000   \n",
       "\n",
       "                                      Maa  Robin Hood  \n",
       "Toy Story                        0.000000         0.0  \n",
       "Jumanji                          0.000000         0.0  \n",
       "Grumpier Old Men                 0.007101         0.0  \n",
       "Waiting to Exhale                0.000000         0.0  \n",
       "Father of the Bride Part II      0.012584         0.0  \n",
       "...                                   ...         ...  \n",
       "L'Homme à la tête de caoutchouc  0.000000         0.0  \n",
       "Le locataire diabolique          0.000000         0.0  \n",
       "L'Homme orchestre                0.000000         0.0  \n",
       "Maa                              1.000000         0.0  \n",
       "Robin Hood                       0.000000         1.0  \n",
       "\n",
       "[21604 rows x 21604 columns]"
      ]
     },
     "execution_count": 96,
     "metadata": {},
     "output_type": "execute_result"
    }
   ],
   "source": [
    "similarity_df"
   ]
  },
  {
   "cell_type": "code",
   "execution_count": 98,
   "metadata": {},
   "outputs": [],
   "source": [
    "movie_list = similarity_df.columns.values"
   ]
  },
  {
   "cell_type": "code",
   "execution_count": 99,
   "metadata": {},
   "outputs": [],
   "source": [
    "movie = 'Batman Begins'\n",
    "\n",
    "top_n = 10\n",
    "\n",
    "movie_sim = similarity_df[similarity_df.index == movie].values[0]"
   ]
  },
  {
   "cell_type": "code",
   "execution_count": 106,
   "metadata": {},
   "outputs": [
    {
     "name": "stdout",
     "output_type": "stream",
     "text": [
      "Batman Unmasked: The Psychology of the Dark Knight\n",
      "Batman: The Dark Knight Returns, Part 1\n",
      "Batman: Bad Blood\n",
      "Batman: Year One\n",
      "Batman: Under the Red Hood\n",
      "Batman Beyond: The Movie\n",
      "Batman Forever\n",
      "Batman: Mask of the Phantasm\n",
      "Batman & Bill\n",
      "Batman\n"
     ]
    }
   ],
   "source": [
    "sorted_movie_ids = np.argsort(movie_sim)[::-1]\n",
    "\n",
    "print('\\n'.join(movie_list[sorted_movie_ids][1:top_n+1]))"
   ]
  },
  {
   "cell_type": "markdown",
   "metadata": {
    "colab_type": "text",
    "id": "50vzONVBqkTu"
   },
   "source": [
    "__Your turn:__ Create a function as defined below, __`content_movie_recommender()`__ which can take in sample movie names and print a list of top N recommended movies"
   ]
  },
  {
   "cell_type": "code",
   "execution_count": 114,
   "metadata": {},
   "outputs": [
    {
     "data": {
      "text/plain": [
       "array(['Iron Man & Captain America: Heroes United',\n",
       "       'Captain America: The First Avenger', 'Team Thor',\n",
       "       'Education for Death', 'Captain America: The Winter Soldier',\n",
       "       '49th Parallel', 'Ultimate Avengers', 'Philadelphia Experiment II',\n",
       "       'Vice Versa', 'The Lair of the White Worm'], dtype=object)"
      ]
     },
     "execution_count": 114,
     "metadata": {},
     "output_type": "execute_result"
    }
   ],
   "source": []
  },
  {
   "cell_type": "code",
   "execution_count": 116,
   "metadata": {
    "colab": {},
    "colab_type": "code",
    "id": "t5cyFCvp24GT"
   },
   "outputs": [],
   "source": [
    "def content_movie_recommender(input_movie, similarity_database=similarity_df, movie_database_list=movie_list, top_n=10):\n",
    "    return [\n",
    "        movie_database_list[\n",
    "            np.argsort(\n",
    "                similarity_database[similarity_database.index==movie].values[0]\n",
    "            )[::-1]\n",
    "        ][1:top_n+1]\n",
    "    \n",
    "        for movie in input_movie\n",
    "    ]\n"
   ]
  },
  {
   "cell_type": "markdown",
   "metadata": {
    "colab_type": "text",
    "id": "gR0sKcxIqxql"
   },
   "source": [
    "__Your turn:__ Test your function below on the given sample movies"
   ]
  },
  {
   "cell_type": "code",
   "execution_count": 118,
   "metadata": {
    "colab": {
     "base_uri": "https://localhost:8080/",
     "height": 571
    },
    "colab_type": "code",
    "id": "L0tUINS_24GV",
    "outputId": "f08f8eba-2b5e-41af-f0df-ad80821019a1"
   },
   "outputs": [
    {
     "data": {
      "text/plain": [
       "[array(['Iron Man & Captain America: Heroes United',\n",
       "        'Captain America: The First Avenger', 'Team Thor',\n",
       "        'Education for Death', 'Captain America: The Winter Soldier',\n",
       "        '49th Parallel', 'Ultimate Avengers', 'Philadelphia Experiment II',\n",
       "        'Vice Versa', 'The Lair of the White Worm',\n",
       "        \"Will Ferrell: You're Welcome America - A Final Night with George W. Bush\",\n",
       "        '國產凌凌漆', '36 Hours', 'ヤッターマン',\n",
       "        'Indiana Jones and the Kingdom of the Crystal Skull', 'Белый тигр',\n",
       "        'Cornered', 'The Ghost Ship', 'Where the Red Fern Grows', 'Mask'],\n",
       "       dtype=object),\n",
       " array(['Terminator 2: Judgment Day', 'Terminator Salvation',\n",
       "        'Terminator 3: Rise of the Machines', 'Silent House', 'They Wait',\n",
       "        'Another World', 'Teenage Caveman', 'Appleseed Alpha', 'Respire',\n",
       "        'Just Married', 'Paradise', 'The Book of Eli', '僕の彼女はサイボーグ',\n",
       "        'Steel Dawn', 'Dans ton sommeil', \"Elle s'appelait Sarah\",\n",
       "        'Beyond Borders', 'The Heart is Deceitful Above All Things',\n",
       "        '13Hrs', 'Labyrinth'], dtype=object),\n",
       " array(['Exorcist II: The Heretic', 'Domestic Disturbance',\n",
       "        'Damien: Omen II', 'The Exorcist III', 'Like Sunday, Like Rain',\n",
       "        'People Like Us', 'Quand on a 17 Ans', \"Don't Knock Twice\",\n",
       "        'Zero Day', 'Brick Mansions', 'Graceland', 'That Night',\n",
       "        'Dial a Prayer', 'House of Mortal Sin',\n",
       "        'The Wind That Shakes the Barley', 'The Girl in the Park',\n",
       "        'Alice Sweet Alice', 'Ismael', 'W Imię...', 'Adaptation.'],\n",
       "       dtype=object),\n",
       " array(['The Hunger Games: Catching Fire',\n",
       "        'The Hunger Games: Mockingjay - Part 2',\n",
       "        'Last Train from Gun Hill', 'The Hunger Games',\n",
       "        'Will Success Spoil Rock Hunter?', 'Circumstance', 'Man of Steel',\n",
       "        'The Amityville Horror', 'Pregnancy Pact', 'Bananas',\n",
       "        'Torremolinos 73',\n",
       "        'For Greater Glory - The True Story of Cristiada', 'Celda 211',\n",
       "        'Lean On Me', 'Batman Begins', 'Schneider vs. Bax',\n",
       "        'Beautiful Boy', 'Helter Skelter', 'Newtown', 'White House Down'],\n",
       "       dtype=object),\n",
       " array(['Book of Shadows: Blair Witch 2', 'Freakonomics',\n",
       "        'Le Bal des actrices', 'Greystone Park', 'Willow Creek',\n",
       "        'Addio zio Tom', 'The Conspiracy', 'A Haunted House',\n",
       "        'Tonight She Comes', 'Curse of the Blair Witch', 'Mama',\n",
       "        'The Kid Stays in the Picture', 'The Cabin in the Woods',\n",
       "        'The Apple', 'Life in a Day', 'The Summit', 'The Family Fang',\n",
       "        'Oktyabr', 'Phoenix Forgotten', 'I girasoli'], dtype=object)]"
      ]
     },
     "execution_count": 118,
     "metadata": {},
     "output_type": "execute_result"
    }
   ],
   "source": [
    "sample_movies = ['Captain America', 'The Terminator', 'The Exorcist', \n",
    "                 'The Hunger Games: Mockingjay - Part 1', 'The Blair Witch Project']\n",
    "                 \n",
    "content_movie_recommender(sample_movies, top_n=20)"
   ]
  },
  {
   "cell_type": "markdown",
   "metadata": {
    "colab_type": "text",
    "id": "r3fofy8frA2k"
   },
   "source": [
    "## 8.3: Collaborative filtering Recommendation Systems"
   ]
  },
  {
   "cell_type": "markdown",
   "metadata": {
    "colab_type": "text",
    "id": "j9Su_sBArKWX"
   },
   "source": [
    "### Collaborative Filtering\n",
    "Primarily recommends content to you based on inputs or actions from other people(say your friends).\n",
    "![collaborative filtering](./images/collaborative-filtering.png)\n",
    "\n"
   ]
  },
  {
   "cell_type": "markdown",
   "metadata": {
    "colab_type": "text",
    "id": "YxRJfswzrN5A"
   },
   "source": [
    "### What is the intuition behind this?\n",
    "\n",
    "*   **Personal tastes are correlated**\n",
    "\n",
    "\n",
    "        1.   If Alice and Bob both like X and Alice likes Y then Bob is more likely to like Y\n",
    "        2.   especially (perhaps) if Bob knows Alice"
   ]
  },
  {
   "cell_type": "markdown",
   "metadata": {
    "colab_type": "text",
    "id": "TUoI6lh6rSlG"
   },
   "source": [
    "Types of Collaborative Filtering:\n",
    "\n",
    "\n",
    "1.   Neighborhood methods\n",
    "2.   Matrix Factorization (Latent Factor) methods\n",
    "\n"
   ]
  },
  {
   "cell_type": "markdown",
   "metadata": {
    "colab_type": "text",
    "id": "23PnmU-FraW8"
   },
   "source": [
    "Assume you dont have users. Rather you have users' characterisics and properties(as shown in image).![Latent Factor method](https://miro.medium.com/max/876/1*AQEx38Wdo5H0WTSjRfAWtA.png)\n",
    "\n",
    "For example, a person who is brave-hearted is more likely to be interested in dark, horrific movies rather than someone who is soft and compassionate.\n",
    "* ^This is just an example(not in any literal sense)"
   ]
  },
  {
   "cell_type": "markdown",
   "metadata": {
    "colab_type": "text",
    "id": "fidNZWZXrdmt"
   },
   "source": [
    "So, once you have the properties and characteristics of each user, we call them as lower-dimensional features of the users. Similarly, we can have lower-dimensional features for movies(say its 10% action, 20% romance ...)\n",
    "\n",
    "With these features, we represent users and movies in a low dimensional space describing their properties. **This is called as the latent space.**\n",
    "\n",
    "We then recommend a movie based on its proximity to the user in the latent space."
   ]
  },
  {
   "cell_type": "markdown",
   "metadata": {
    "colab_type": "text",
    "id": "InGsgab1rhVT"
   },
   "source": [
    "### The problem:\n",
    "\n",
    "The problem we try to address here is the rating prediction problem. \n",
    "Say, we try to guess how much Alice would rate a movie and suggest those movies that we think Alice will rate higher."
   ]
  },
  {
   "cell_type": "markdown",
   "metadata": {
    "colab_type": "text",
    "id": "NUDZRCzhrijy"
   },
   "source": [
    "### Interesting...But, how do we predict how much Alice would rate a movie?\n",
    "\n",
    " The data we have is a rating history: ratings of users for items in the interval [1,5]. We can put all this data into a sparse matrix called R:\n",
    " \n",
    " $R = \n",
    " \\begin{pmatrix}\n",
    "  3 & ? &? \\\\ \n",
    "  ? & 4 & 5 \\\\\n",
    "  ? & ? & 2 \\\\\n",
    "  2 & 3 & ?\n",
    " \\end{pmatrix}\n",
    " \\begin{matrix}\n",
    "  Alice \\\\ \n",
    "  Bob \\\\\n",
    "  Chand \\\\\n",
    "  Deb\n",
    " \\end{matrix}\n",
    " $\n",
    "\n",
    " Each row of the matrix corresponds to a given user, and each column corresponds to a given item. For instance here, Alice has rated the first movie with a rating of 3, and Chand has rated the third item with a rating of 2.\n",
    "\n",
    " The matrix R is sparse (more than 99% of the entries are missing), and our goal is to predict the missing entries, i.e. predict the ?.\n"
   ]
  },
  {
   "cell_type": "markdown",
   "metadata": {
    "colab_type": "text",
    "id": "i_MeURMvrniQ"
   },
   "source": [
    "### Anatomy of the Rating matrix: LATENT SPACE\n",
    "Before predicting ratings, lets step back and understand the latent space more! \\\\\n",
    " In this Rating matrix, Rows represent Users and Columns represent Movies.\n",
    " $R = \n",
    "  \\begin{pmatrix}\n",
    "  --Alice-- \\\\ \n",
    "  --Bob-- \\\\\n",
    "  --Chand-- \\\\\n",
    "  --Deb--\n",
    " \\end{pmatrix}\n",
    " $\n",
    "\n",
    " In latent space(low dimensional features - fanatics), for instance, Alice could be defined as a little bit of an action fan, a little bit of a comedy fan, a lot of a romance fan, etc. As for Bob, he could be more keen on action movies:\n",
    "\n",
    "```\n",
    "Alice = 10% Action fan + 10% Comedy fan + 50% Romance fan + ⋯ \\\\\n",
    "Bob = 50% Action fan + 30% Comedy fan + 10% Romance fan + ⋯ \\\\\n",
    ": \\\\\n",
    "Zoe = ⋯\n",
    "```\n",
    "\n",
    "What would happen if we transposed our rating matrix? Instead of having users in the rows, we would now have movies, defined as their ratings.\n",
    "\n",
    "$\n",
    "R ^ T = \n",
    "  \\begin{pmatrix}\n",
    "  --Avengers-- \\\\ \n",
    "  --Matrix-- \\\\\n",
    "  --Inception-- \\\\\n",
    "  --Sherlock--\n",
    " \\end{pmatrix}\n",
    "$\n",
    "\n",
    "In the latent space, we will associate a semantic meaning behind each of the  movies, and these semantic meanings(say movie characteristics) can build back all of our original movies."
   ]
  },
  {
   "cell_type": "markdown",
   "metadata": {
    "colab_type": "text",
    "id": "vZ_r91x1rr65"
   },
   "source": [
    "### EXAMPLE\n",
    "In the below example, we convert users and movies to vectors(embeddings) and do dot-product to predict R\n",
    "\n",
    "user vector - U \\\\\n",
    "movies vector - V \\\\\n",
    "$\n",
    "R = U.V\n",
    "$"
   ]
  },
  {
   "cell_type": "markdown",
   "metadata": {
    "colab_type": "text",
    "id": "_Ynl-aVuf3Dy"
   },
   "source": [
    "### Additional hints:\n",
    "\n",
    "use dataframe map - [map](https://pandas.pydata.org/pandas-docs/stable/reference/api/pandas.Series.map.html)\n",
    "\n",
    "Create tensor - [Input](https://www.tensorflow.org/api_docs/python/tf/keras/Input#view-aliases)\n",
    "\n",
    "Create Embedding - [Embedding](https://www.tensorflow.org/api_docs/python/tf/keras/layers/Embedding)\n",
    "\n",
    "Dot product - [Dot](https://www.tensorflow.org/api_docs/python/tf/keras/layers/Dot)\n",
    "\n",
    "Fit model : \n",
    "[fit](https://www.tensorflow.org/api_docs/python/tf/keras/Model#fit)\n",
    "\n",
    "Measure Performance: [mean_squared_error](https://scikit-learn.org/stable/modules/generated/sklearn.metrics.mean_squared_error.html)"
   ]
  },
  {
   "cell_type": "markdown",
   "metadata": {
    "colab_type": "text",
    "id": "wpPZfOrDs-Qs"
   },
   "source": [
    "### Q8.3: Building a Deep Learning Matrix Factorization based Collaborative Filtering Recommendation System\n",
    "\n",
    "__Your Turn:__ Fill in the necessary blank code snippets in the following sections to train your own DL collaborative  filtering system\n",
    "\n",
    "#### Create Configuration Parameters"
   ]
  },
  {
   "cell_type": "code",
   "execution_count": 125,
   "metadata": {},
   "outputs": [
    {
     "data": {
      "text/html": [
       "<div>\n",
       "<style scoped>\n",
       "    .dataframe tbody tr th:only-of-type {\n",
       "        vertical-align: middle;\n",
       "    }\n",
       "\n",
       "    .dataframe tbody tr th {\n",
       "        vertical-align: top;\n",
       "    }\n",
       "\n",
       "    .dataframe thead th {\n",
       "        text-align: right;\n",
       "    }\n",
       "</style>\n",
       "<table border=\"1\" class=\"dataframe\">\n",
       "  <thead>\n",
       "    <tr style=\"text-align: right;\">\n",
       "      <th></th>\n",
       "      <th>User</th>\n",
       "      <th>Rating</th>\n",
       "      <th>Movie</th>\n",
       "    </tr>\n",
       "  </thead>\n",
       "  <tbody>\n",
       "    <tr>\n",
       "      <th>0</th>\n",
       "      <td>1240094</td>\n",
       "      <td>2.0</td>\n",
       "      <td>2457</td>\n",
       "    </tr>\n",
       "    <tr>\n",
       "      <th>1</th>\n",
       "      <td>508852</td>\n",
       "      <td>1.0</td>\n",
       "      <td>3264</td>\n",
       "    </tr>\n",
       "    <tr>\n",
       "      <th>2</th>\n",
       "      <td>406365</td>\n",
       "      <td>4.0</td>\n",
       "      <td>2254</td>\n",
       "    </tr>\n",
       "    <tr>\n",
       "      <th>3</th>\n",
       "      <td>1248029</td>\n",
       "      <td>3.0</td>\n",
       "      <td>3433</td>\n",
       "    </tr>\n",
       "    <tr>\n",
       "      <th>4</th>\n",
       "      <td>2509840</td>\n",
       "      <td>4.0</td>\n",
       "      <td>3323</td>\n",
       "    </tr>\n",
       "  </tbody>\n",
       "</table>\n",
       "</div>"
      ],
      "text/plain": [
       "      User  Rating  Movie\n",
       "0  1240094     2.0   2457\n",
       "1   508852     1.0   3264\n",
       "2   406365     4.0   2254\n",
       "3  1248029     3.0   3433\n",
       "4  2509840     4.0   3323"
      ]
     },
     "execution_count": 125,
     "metadata": {},
     "output_type": "execute_result"
    }
   ],
   "source": [
    "df_filtered.head()"
   ]
  },
  {
   "cell_type": "code",
   "execution_count": 126,
   "metadata": {
    "colab": {},
    "colab_type": "code",
    "id": "AUz12Y_Z24Gh"
   },
   "outputs": [],
   "source": [
    "# Create user and movie-id mapping to convert to numbers\n",
    "user_id_mapping  = {id:i for i, id in enumerate(df_filtered['User' ].unique())}\n",
    "movie_id_mapping = {id:i for i, id in enumerate(df_filtered['Movie'].unique())}"
   ]
  },
  {
   "cell_type": "code",
   "execution_count": 127,
   "metadata": {
    "colab": {},
    "colab_type": "code",
    "id": "4vjVBUM724Gj"
   },
   "outputs": [],
   "source": [
    "# use dataframe map function to map users & movies to mapped ids based on above mapping\n",
    "train_user_data  = df_train['User' ].map(user_id_mapping)\n",
    "train_movie_data = df_train['Movie'].map(movie_id_mapping)"
   ]
  },
  {
   "cell_type": "code",
   "execution_count": 130,
   "metadata": {
    "colab": {},
    "colab_type": "code",
    "id": "_lpKylKD24Gl"
   },
   "outputs": [],
   "source": [
    "# do the same for test data\n",
    "test_user_data  = df_test['User' ].map(user_id_mapping)\n",
    "test_movie_data = df_test['Movie'].map(movie_id_mapping)"
   ]
  },
  {
   "cell_type": "code",
   "execution_count": 144,
   "metadata": {
    "colab": {},
    "colab_type": "code",
    "id": "GME8vJLp24Gn"
   },
   "outputs": [],
   "source": [
    "# Get input variable-sizes\n",
    "users = len(user_id_mapping)\n",
    "movies = len(movie_id_mapping)\n",
    "embedding_size = 100"
   ]
  },
  {
   "cell_type": "code",
   "execution_count": 145,
   "metadata": {},
   "outputs": [
    {
     "data": {
      "text/plain": [
       "20828"
      ]
     },
     "execution_count": 145,
     "metadata": {},
     "output_type": "execute_result"
    }
   ],
   "source": [
    "users"
   ]
  },
  {
   "cell_type": "code",
   "execution_count": 146,
   "metadata": {},
   "outputs": [
    {
     "data": {
      "text/plain": [
       "1742"
      ]
     },
     "execution_count": 146,
     "metadata": {},
     "output_type": "execute_result"
    }
   ],
   "source": [
    "movies"
   ]
  },
  {
   "cell_type": "markdown",
   "metadata": {
    "colab_type": "text",
    "id": "enO8VNVP24Gp"
   },
   "source": [
    "#### Construct Deep Learning Model Architecture"
   ]
  },
  {
   "cell_type": "code",
   "execution_count": 147,
   "metadata": {
    "colab": {},
    "colab_type": "code",
    "id": "GSXpYgst24Gq"
   },
   "outputs": [],
   "source": [
    "# use Input() to create tensors for - 'user' and 'movie'\n",
    "user_id_input = Input(shape=(1,), name='user')\n",
    "movie_id_input = Input(shape=(1,), name='movie')"
   ]
  },
  {
   "cell_type": "code",
   "execution_count": 148,
   "metadata": {
    "colab": {},
    "colab_type": "code",
    "id": "gdV4lJri24Gs"
   },
   "outputs": [
    {
     "name": "stderr",
     "output_type": "stream",
     "text": [
      "2022-03-20 23:10:06.499419: I tensorflow/core/platform/cpu_feature_guard.cc:151] This TensorFlow binary is optimized with oneAPI Deep Neural Network Library (oneDNN) to use the following CPU instructions in performance-critical operations:  SSE4.1 SSE4.2 AVX AVX2 FMA\n",
      "To enable them in other operations, rebuild TensorFlow with the appropriate compiler flags.\n"
     ]
    }
   ],
   "source": [
    "# Create embedding layer for users \n",
    "user_embedding = Embedding(output_dim=embedding_size, \n",
    "                           input_dim=users,\n",
    "                           input_length=1, \n",
    "                           name='user_embedding')(user_id_input)\n",
    "\n",
    "\n",
    "# create embedding layer for movies just like users\n",
    "movie_embedding = Embedding(output_dim=embedding_size, \n",
    "                           input_dim=movies,\n",
    "                           input_length=1, \n",
    "                           name='movie_embedding')(movie_id_input)\n"
   ]
  },
  {
   "cell_type": "code",
   "execution_count": 149,
   "metadata": {},
   "outputs": [
    {
     "data": {
      "text/plain": [
       "<KerasTensor: shape=(None, 1, 100) dtype=float32 (created by layer 'user_embedding')>"
      ]
     },
     "execution_count": 149,
     "metadata": {},
     "output_type": "execute_result"
    }
   ],
   "source": [
    "user_embedding"
   ]
  },
  {
   "cell_type": "code",
   "execution_count": 151,
   "metadata": {
    "colab": {},
    "colab_type": "code",
    "id": "cLpdb0pu24Gu"
   },
   "outputs": [],
   "source": [
    "# Reshape the embedding layers\n",
    "user_vector = Reshape([embedding_size])(user_embedding)\n",
    "movie_vector = Reshape([embedding_size])(movie_embedding)"
   ]
  },
  {
   "cell_type": "code",
   "execution_count": 152,
   "metadata": {
    "colab": {},
    "colab_type": "code",
    "id": "S-RxXy5B24Gw"
   },
   "outputs": [],
   "source": [
    "# Compute dot-product of reshaped embedding layers as prediction\n",
    "y = Dot(1, normalize=False)([user_vector, movie_vector])"
   ]
  },
  {
   "cell_type": "code",
   "execution_count": 153,
   "metadata": {
    "colab": {
     "base_uri": "https://localhost:8080/",
     "height": 403
    },
    "colab_type": "code",
    "id": "5wWeeSfR24Gy",
    "outputId": "cc2f5e4d-e795-4514-9bf1-804cab954ff3"
   },
   "outputs": [
    {
     "name": "stdout",
     "output_type": "stream",
     "text": [
      "Model: \"model\"\n",
      "__________________________________________________________________________________________________\n",
      " Layer (type)                   Output Shape         Param #     Connected to                     \n",
      "==================================================================================================\n",
      " user (InputLayer)              [(None, 1)]          0           []                               \n",
      "                                                                                                  \n",
      " movie (InputLayer)             [(None, 1)]          0           []                               \n",
      "                                                                                                  \n",
      " user_embedding (Embedding)     (None, 1, 100)       2082800     ['user[0][0]']                   \n",
      "                                                                                                  \n",
      " movie_embedding (Embedding)    (None, 1, 100)       174200      ['movie[0][0]']                  \n",
      "                                                                                                  \n",
      " reshape_1 (Reshape)            (None, 100)          0           ['user_embedding[0][0]']         \n",
      "                                                                                                  \n",
      " reshape_2 (Reshape)            (None, 100)          0           ['movie_embedding[0][0]']        \n",
      "                                                                                                  \n",
      " dot (Dot)                      (None, 1)            0           ['reshape_1[0][0]',              \n",
      "                                                                  'reshape_2[0][0]']              \n",
      "                                                                                                  \n",
      "==================================================================================================\n",
      "Total params: 2,257,000\n",
      "Trainable params: 2,257,000\n",
      "Non-trainable params: 0\n",
      "__________________________________________________________________________________________________\n"
     ]
    }
   ],
   "source": [
    "# Setup model\n",
    "model = Model(inputs=[user_id_input, movie_id_input], outputs=y)\n",
    "model.compile(loss='mse', optimizer='adam')\n",
    "model.summary()"
   ]
  },
  {
   "cell_type": "markdown",
   "metadata": {
    "colab_type": "text",
    "id": "g0COamq25owq"
   },
   "source": [
    "#### Train and Test the Model"
   ]
  },
  {
   "cell_type": "code",
   "execution_count": 156,
   "metadata": {
    "colab": {
     "base_uri": "https://localhost:8080/",
     "height": 218
    },
    "colab_type": "code",
    "id": "nK6aBtQN24Gz",
    "outputId": "7c729304-f1aa-4e8d-a3e6-aa4a82ebfd0e"
   },
   "outputs": [
    {
     "name": "stdout",
     "output_type": "stream",
     "text": [
      "Epoch 1/10\n",
      "88/88 [==============================] - 3s 36ms/step - loss: 0.1586 - val_loss: 3.8056\n",
      "Epoch 2/10\n",
      "88/88 [==============================] - 3s 34ms/step - loss: 0.1200 - val_loss: 3.8062\n",
      "Epoch 3/10\n",
      "88/88 [==============================] - 3s 33ms/step - loss: 0.0912 - val_loss: 3.8156\n",
      "Epoch 4/10\n",
      "88/88 [==============================] - 3s 32ms/step - loss: 0.0694 - val_loss: 3.8289\n",
      "Epoch 5/10\n",
      "88/88 [==============================] - 3s 35ms/step - loss: 0.0528 - val_loss: 3.8420\n",
      "Epoch 6/10\n",
      "88/88 [==============================] - 3s 33ms/step - loss: 0.0401 - val_loss: 3.8581\n",
      "Epoch 7/10\n",
      "88/88 [==============================] - 3s 36ms/step - loss: 0.0304 - val_loss: 3.8720\n",
      "Epoch 8/10\n",
      "88/88 [==============================] - 3s 35ms/step - loss: 0.0230 - val_loss: 3.8865\n",
      "Epoch 9/10\n",
      "88/88 [==============================] - 3s 34ms/step - loss: 0.0174 - val_loss: 3.8998\n",
      "Epoch 10/10\n",
      "88/88 [==============================] - 3s 35ms/step - loss: 0.0130 - val_loss: 3.9105\n"
     ]
    },
    {
     "data": {
      "text/plain": [
       "<keras.callbacks.History at 0x7f820237f4f0>"
      ]
     },
     "execution_count": 156,
     "metadata": {},
     "output_type": "execute_result"
    }
   ],
   "source": [
    "# Fit model\n",
    "X = [train_user_data, train_movie_data]\n",
    "y = df_train['Rating']\n",
    "\n",
    "batch_size = 1024\n",
    "epochs = 10\n",
    "validation_split = 0.1\n",
    "\n",
    "model.fit(X, y,\n",
    "          batch_size=batch_size, \n",
    "          epochs=epochs,\n",
    "          validation_split=validation_split,\n",
    "          shuffle=True,\n",
    "          verbose=1)"
   ]
  },
  {
   "cell_type": "code",
   "execution_count": 157,
   "metadata": {
    "colab": {
     "base_uri": "https://localhost:8080/",
     "height": 67
    },
    "colab_type": "code",
    "id": "RZLw4PX3AUkz",
    "outputId": "36987db3-b604-400f-e419-79a61f602ef1"
   },
   "outputs": [
    {
     "name": "stdout",
     "output_type": "stream",
     "text": [
      "\n",
      "\n",
      "Testing Result With DL Matrix-Factorization: 1.8939 RMSE\n"
     ]
    }
   ],
   "source": [
    "# Test model by making predictions on test data\n",
    "y_pred = model.predict([test_user_data, test_movie_data]).ravel()\n",
    "# clip upper and lower ratings\n",
    "y_pred = list(map(lambda x: 1.0 if x < 1 else 5.0 if x > 5.0 else x, y_pred))\n",
    "# get true labels\n",
    "y_true = df_test['Rating'].values\n",
    "\n",
    "#  Compute RMSE\n",
    "rmse = np.sqrt(mean_squared_error(y_pred=y_pred, y_true=y_true))\n",
    "print('\\n\\nTesting Result With DL Matrix-Factorization: {:.4f} RMSE'.format(rmse))"
   ]
  },
  {
   "cell_type": "code",
   "execution_count": 158,
   "metadata": {
    "colab": {
     "base_uri": "https://localhost:8080/",
     "height": 639
    },
    "colab_type": "code",
    "id": "oAX4MABlCm-9",
    "outputId": "e041f405-8fe7-46ce-bcb1-d83de061de7f"
   },
   "outputs": [
    {
     "data": {
      "text/html": [
       "<div>\n",
       "<style scoped>\n",
       "    .dataframe tbody tr th:only-of-type {\n",
       "        vertical-align: middle;\n",
       "    }\n",
       "\n",
       "    .dataframe tbody tr th {\n",
       "        vertical-align: top;\n",
       "    }\n",
       "\n",
       "    .dataframe thead th {\n",
       "        text-align: right;\n",
       "    }\n",
       "</style>\n",
       "<table border=\"1\" class=\"dataframe\">\n",
       "  <thead>\n",
       "    <tr style=\"text-align: right;\">\n",
       "      <th></th>\n",
       "      <th>User ID</th>\n",
       "      <th>Movie ID</th>\n",
       "      <th>Movie Name</th>\n",
       "      <th>Predicted Rating</th>\n",
       "      <th>Actual Rating</th>\n",
       "    </tr>\n",
       "  </thead>\n",
       "  <tbody>\n",
       "    <tr>\n",
       "      <th>0</th>\n",
       "      <td>7441</td>\n",
       "      <td>426</td>\n",
       "      <td>Graveyard Shift</td>\n",
       "      <td>2.4</td>\n",
       "      <td>3.0</td>\n",
       "    </tr>\n",
       "    <tr>\n",
       "      <th>1</th>\n",
       "      <td>20520</td>\n",
       "      <td>17</td>\n",
       "      <td>Immortal Beloved</td>\n",
       "      <td>1.0</td>\n",
       "      <td>2.0</td>\n",
       "    </tr>\n",
       "    <tr>\n",
       "      <th>2</th>\n",
       "      <td>18355</td>\n",
       "      <td>1259</td>\n",
       "      <td>Journey to the Center of the Earth</td>\n",
       "      <td>1.1</td>\n",
       "      <td>4.0</td>\n",
       "    </tr>\n",
       "    <tr>\n",
       "      <th>3</th>\n",
       "      <td>14919</td>\n",
       "      <td>94</td>\n",
       "      <td>Dona Herlinda and Her Son</td>\n",
       "      <td>2.6</td>\n",
       "      <td>3.0</td>\n",
       "    </tr>\n",
       "    <tr>\n",
       "      <th>4</th>\n",
       "      <td>20521</td>\n",
       "      <td>282</td>\n",
       "      <td>If These Walls Could Talk</td>\n",
       "      <td>1.0</td>\n",
       "      <td>3.0</td>\n",
       "    </tr>\n",
       "    <tr>\n",
       "      <th>5</th>\n",
       "      <td>17781</td>\n",
       "      <td>121</td>\n",
       "      <td>Cube 2: Hypercube</td>\n",
       "      <td>1.7</td>\n",
       "      <td>2.0</td>\n",
       "    </tr>\n",
       "    <tr>\n",
       "      <th>6</th>\n",
       "      <td>512</td>\n",
       "      <td>1669</td>\n",
       "      <td>Schlock!: The Secret History of American Movies</td>\n",
       "      <td>1.9</td>\n",
       "      <td>3.0</td>\n",
       "    </tr>\n",
       "    <tr>\n",
       "      <th>7</th>\n",
       "      <td>4249</td>\n",
       "      <td>1020</td>\n",
       "      <td>Cloak &amp; Dagger</td>\n",
       "      <td>2.3</td>\n",
       "      <td>3.0</td>\n",
       "    </tr>\n",
       "    <tr>\n",
       "      <th>8</th>\n",
       "      <td>89</td>\n",
       "      <td>286</td>\n",
       "      <td>Luther Vandross: Always and Forever: An Evenin...</td>\n",
       "      <td>2.0</td>\n",
       "      <td>5.0</td>\n",
       "    </tr>\n",
       "    <tr>\n",
       "      <th>9</th>\n",
       "      <td>17967</td>\n",
       "      <td>728</td>\n",
       "      <td>Fast Food Fast Women</td>\n",
       "      <td>1.7</td>\n",
       "      <td>1.0</td>\n",
       "    </tr>\n",
       "    <tr>\n",
       "      <th>10</th>\n",
       "      <td>3426</td>\n",
       "      <td>284</td>\n",
       "      <td>The Devil's Own</td>\n",
       "      <td>3.1</td>\n",
       "      <td>5.0</td>\n",
       "    </tr>\n",
       "    <tr>\n",
       "      <th>11</th>\n",
       "      <td>8822</td>\n",
       "      <td>111</td>\n",
       "      <td>The Eye of Vichy</td>\n",
       "      <td>2.8</td>\n",
       "      <td>1.0</td>\n",
       "    </tr>\n",
       "    <tr>\n",
       "      <th>12</th>\n",
       "      <td>16630</td>\n",
       "      <td>1073</td>\n",
       "      <td>The Postman Always Rings Twice</td>\n",
       "      <td>2.7</td>\n",
       "      <td>3.0</td>\n",
       "    </tr>\n",
       "    <tr>\n",
       "      <th>13</th>\n",
       "      <td>17488</td>\n",
       "      <td>1194</td>\n",
       "      <td>Madonna: The Girlie Show: Live Down Under</td>\n",
       "      <td>1.4</td>\n",
       "      <td>4.0</td>\n",
       "    </tr>\n",
       "    <tr>\n",
       "      <th>14</th>\n",
       "      <td>7680</td>\n",
       "      <td>490</td>\n",
       "      <td>Torn Curtain</td>\n",
       "      <td>1.9</td>\n",
       "      <td>4.0</td>\n",
       "    </tr>\n",
       "    <tr>\n",
       "      <th>15</th>\n",
       "      <td>9994</td>\n",
       "      <td>694</td>\n",
       "      <td>Koma</td>\n",
       "      <td>3.0</td>\n",
       "      <td>5.0</td>\n",
       "    </tr>\n",
       "    <tr>\n",
       "      <th>16</th>\n",
       "      <td>8083</td>\n",
       "      <td>861</td>\n",
       "      <td>Tuck Everlasting</td>\n",
       "      <td>2.8</td>\n",
       "      <td>2.0</td>\n",
       "    </tr>\n",
       "    <tr>\n",
       "      <th>17</th>\n",
       "      <td>16736</td>\n",
       "      <td>477</td>\n",
       "      <td>The Beverly Hillbillies</td>\n",
       "      <td>3.1</td>\n",
       "      <td>3.0</td>\n",
       "    </tr>\n",
       "    <tr>\n",
       "      <th>18</th>\n",
       "      <td>288</td>\n",
       "      <td>166</td>\n",
       "      <td>The Chorus</td>\n",
       "      <td>2.2</td>\n",
       "      <td>3.0</td>\n",
       "    </tr>\n",
       "    <tr>\n",
       "      <th>19</th>\n",
       "      <td>4447</td>\n",
       "      <td>91</td>\n",
       "      <td>ECW: Cyberslam '99</td>\n",
       "      <td>2.7</td>\n",
       "      <td>4.0</td>\n",
       "    </tr>\n",
       "  </tbody>\n",
       "</table>\n",
       "</div>"
      ],
      "text/plain": [
       "    User ID  Movie ID                                         Movie Name  \\\n",
       "0      7441       426                                    Graveyard Shift   \n",
       "1     20520        17                                   Immortal Beloved   \n",
       "2     18355      1259                 Journey to the Center of the Earth   \n",
       "3     14919        94                          Dona Herlinda and Her Son   \n",
       "4     20521       282                          If These Walls Could Talk   \n",
       "5     17781       121                                  Cube 2: Hypercube   \n",
       "6       512      1669    Schlock!: The Secret History of American Movies   \n",
       "7      4249      1020                                     Cloak & Dagger   \n",
       "8        89       286  Luther Vandross: Always and Forever: An Evenin...   \n",
       "9     17967       728                               Fast Food Fast Women   \n",
       "10     3426       284                                    The Devil's Own   \n",
       "11     8822       111                                   The Eye of Vichy   \n",
       "12    16630      1073                     The Postman Always Rings Twice   \n",
       "13    17488      1194          Madonna: The Girlie Show: Live Down Under   \n",
       "14     7680       490                                       Torn Curtain   \n",
       "15     9994       694                                               Koma   \n",
       "16     8083       861                                   Tuck Everlasting   \n",
       "17    16736       477                            The Beverly Hillbillies   \n",
       "18      288       166                                         The Chorus   \n",
       "19     4447        91                                 ECW: Cyberslam '99   \n",
       "\n",
       "    Predicted Rating  Actual Rating  \n",
       "0                2.4            3.0  \n",
       "1                1.0            2.0  \n",
       "2                1.1            4.0  \n",
       "3                2.6            3.0  \n",
       "4                1.0            3.0  \n",
       "5                1.7            2.0  \n",
       "6                1.9            3.0  \n",
       "7                2.3            3.0  \n",
       "8                2.0            5.0  \n",
       "9                1.7            1.0  \n",
       "10               3.1            5.0  \n",
       "11               2.8            1.0  \n",
       "12               2.7            3.0  \n",
       "13               1.4            4.0  \n",
       "14               1.9            4.0  \n",
       "15               3.0            5.0  \n",
       "16               2.8            2.0  \n",
       "17               3.1            3.0  \n",
       "18               2.2            3.0  \n",
       "19               2.7            4.0  "
      ]
     },
     "execution_count": 158,
     "metadata": {},
     "output_type": "execute_result"
    }
   ],
   "source": [
    "## Let's see how our collaborative model performs by seeing the predicted and actual rating for the given user and movie pair\n",
    "results_df = pd.DataFrame({\n",
    "    'User ID': test_user_data.values,\n",
    "    'Movie ID': test_movie_data.values,\n",
    "    'Movie Name': [movie_titles['Name'].iloc[item] for item in test_movie_data],\n",
    "    'Predicted Rating': np.round(y_pred, 1),\n",
    "    'Actual Rating': y_true\n",
    "})\n",
    "\n",
    "results_df.head(20)"
   ]
  },
  {
   "cell_type": "markdown",
   "metadata": {
    "colab_type": "text",
    "id": "Gaq-sJqpc_B_"
   },
   "source": [
    "## 8.4: Hybrid Recommendation System (Content & Collaborative)\n",
    "\n",
    "One advantage of deep learning models is, that movie-metadata can easily be added to the model.\n",
    "We will tf-idf transform the short description of all movies to a sparse vector. The model will learn to reduce the dimensionality of this vector and how to combine metadata with the embedding of the user-id and the movie-id. In this way we can add any additional metadata to our own recommender.\n",
    "These kind of hybrid systems can learn how to reduce the impact of the cold start problem.\n",
    "\n",
    "Deep learning models require lots of data to train and predict. To provide our model with more data, we will include the movie metadata as well. We will do the following:\n",
    "\n",
    "\n",
    "*   Use movie metadata to combine with user and movie matrices in order to get more data\n",
    "*   Use tf-idf transform to vectorize movie metadata (Sparse Layer)\n",
    "*   Create an embedding of the metadata 512 -> 256 \n",
    "*   Combine all embeddings for movie tf-idf vectors, user and ratings to arrive at a common embedding space (256 sized embeddings per entity)\n",
    "*   Use the embeddings to train the model and get predictions on the test data\n",
    "\n",
    "\n",
    "\n",
    "\n",
    "\n"
   ]
  },
  {
   "cell_type": "markdown",
   "metadata": {
    "colab_type": "text",
    "id": "gw7fwxvQc4DV"
   },
   "source": [
    "### Additional Hints:\n",
    "\n",
    "Dense layer setup :\n",
    "[Dense](https://www.tensorflow.org/api_docs/python/tf/keras/layers/Dense#example_2)\n",
    "\n",
    "Create model using tf.keras API : \n",
    "[Model](https://www.tensorflow.org/api_docs/python/tf/keras/Model#used-in-the-notebooks)\n",
    "\n",
    "Compile model using : [Compile](https://www.tensorflow.org/api_docs/python/tf/keras/Model#compile)\n",
    "\n",
    "Fit model : \n",
    "[fit](https://www.tensorflow.org/api_docs/python/tf/keras/Model#fit)\n",
    "\n",
    "Predict accuracy: [mean_squared_error](https://scikit-learn.org/stable/modules/generated/sklearn.metrics.mean_squared_error.html)\n",
    "\n"
   ]
  },
  {
   "cell_type": "markdown",
   "metadata": {
    "colab_type": "text",
    "id": "hINM6pCk3yKz"
   },
   "source": [
    "### Q8.3: Building a Deep Learning Hybrid Recommendation System\n",
    "\n",
    "We will be building the following hybrid deep learning recommendation model as scene in the following schematic.\n",
    "\n",
    "![](./images/hybrid-dl-model.png)\n",
    "\n",
    "__Your Turn:__ Fill in the necessary blank code snippets in the following sections to train your own DL hybrid recommendation system\n",
    "\n",
    "#### Create Configuration Parameters"
   ]
  },
  {
   "cell_type": "code",
   "execution_count": 186,
   "metadata": {
    "colab": {},
    "colab_type": "code",
    "id": "QmOFI6gNZOYy"
   },
   "outputs": [],
   "source": [
    "# ceate a copy of the filtered data frame\n",
    "df_filtered_cp = df_filtered.copy(deep=True)"
   ]
  },
  {
   "cell_type": "code",
   "execution_count": 187,
   "metadata": {},
   "outputs": [
    {
     "data": {
      "text/html": [
       "<div>\n",
       "<style scoped>\n",
       "    .dataframe tbody tr th:only-of-type {\n",
       "        vertical-align: middle;\n",
       "    }\n",
       "\n",
       "    .dataframe tbody tr th {\n",
       "        vertical-align: top;\n",
       "    }\n",
       "\n",
       "    .dataframe thead th {\n",
       "        text-align: right;\n",
       "    }\n",
       "</style>\n",
       "<table border=\"1\" class=\"dataframe\">\n",
       "  <thead>\n",
       "    <tr style=\"text-align: right;\">\n",
       "      <th></th>\n",
       "      <th>User</th>\n",
       "      <th>Rating</th>\n",
       "      <th>Movie</th>\n",
       "    </tr>\n",
       "  </thead>\n",
       "  <tbody>\n",
       "    <tr>\n",
       "      <th>0</th>\n",
       "      <td>1240094</td>\n",
       "      <td>2.0</td>\n",
       "      <td>2457</td>\n",
       "    </tr>\n",
       "    <tr>\n",
       "      <th>1</th>\n",
       "      <td>508852</td>\n",
       "      <td>1.0</td>\n",
       "      <td>3264</td>\n",
       "    </tr>\n",
       "    <tr>\n",
       "      <th>2</th>\n",
       "      <td>406365</td>\n",
       "      <td>4.0</td>\n",
       "      <td>2254</td>\n",
       "    </tr>\n",
       "    <tr>\n",
       "      <th>3</th>\n",
       "      <td>1248029</td>\n",
       "      <td>3.0</td>\n",
       "      <td>3433</td>\n",
       "    </tr>\n",
       "    <tr>\n",
       "      <th>4</th>\n",
       "      <td>2509840</td>\n",
       "      <td>4.0</td>\n",
       "      <td>3323</td>\n",
       "    </tr>\n",
       "  </tbody>\n",
       "</table>\n",
       "</div>"
      ],
      "text/plain": [
       "      User  Rating  Movie\n",
       "0  1240094     2.0   2457\n",
       "1   508852     1.0   3264\n",
       "2   406365     4.0   2254\n",
       "3  1248029     3.0   3433\n",
       "4  2509840     4.0   3323"
      ]
     },
     "execution_count": 187,
     "metadata": {},
     "output_type": "execute_result"
    }
   ],
   "source": [
    "df_filtered_cp.head()"
   ]
  },
  {
   "cell_type": "code",
   "execution_count": 188,
   "metadata": {
    "colab": {},
    "colab_type": "code",
    "id": "eknbQW6mHsKN"
   },
   "outputs": [],
   "source": [
    "# Create user- & movie-id mapping\n",
    "user_id_mapping  = {id:i for i, id in enumerate(df_filtered_cp['User' ].unique())}\n",
    "movie_id_mapping = {id:i for i, id in enumerate(df_filtered_cp['Movie'].unique())}"
   ]
  },
  {
   "cell_type": "code",
   "execution_count": 189,
   "metadata": {
    "colab": {},
    "colab_type": "code",
    "id": "yLHTi2NsIEAM"
   },
   "outputs": [],
   "source": [
    "# use dataframe map function to map users & movies to mapped ids based on above mapping\n",
    "df_filtered_cp['User' ] = df_filtered_cp['User' ].map(user_id_mapping)\n",
    "df_filtered_cp['Movie'] = df_filtered_cp['Movie'].map(movie_id_mapping)"
   ]
  },
  {
   "cell_type": "code",
   "execution_count": 190,
   "metadata": {},
   "outputs": [
    {
     "data": {
      "text/html": [
       "<div>\n",
       "<style scoped>\n",
       "    .dataframe tbody tr th:only-of-type {\n",
       "        vertical-align: middle;\n",
       "    }\n",
       "\n",
       "    .dataframe tbody tr th {\n",
       "        vertical-align: top;\n",
       "    }\n",
       "\n",
       "    .dataframe thead th {\n",
       "        text-align: right;\n",
       "    }\n",
       "</style>\n",
       "<table border=\"1\" class=\"dataframe\">\n",
       "  <thead>\n",
       "    <tr style=\"text-align: right;\">\n",
       "      <th></th>\n",
       "      <th>User</th>\n",
       "      <th>Rating</th>\n",
       "      <th>Movie</th>\n",
       "    </tr>\n",
       "  </thead>\n",
       "  <tbody>\n",
       "    <tr>\n",
       "      <th>0</th>\n",
       "      <td>0</td>\n",
       "      <td>2.0</td>\n",
       "      <td>0</td>\n",
       "    </tr>\n",
       "    <tr>\n",
       "      <th>1</th>\n",
       "      <td>1</td>\n",
       "      <td>1.0</td>\n",
       "      <td>1</td>\n",
       "    </tr>\n",
       "    <tr>\n",
       "      <th>2</th>\n",
       "      <td>2</td>\n",
       "      <td>4.0</td>\n",
       "      <td>2</td>\n",
       "    </tr>\n",
       "    <tr>\n",
       "      <th>3</th>\n",
       "      <td>3</td>\n",
       "      <td>3.0</td>\n",
       "      <td>3</td>\n",
       "    </tr>\n",
       "    <tr>\n",
       "      <th>4</th>\n",
       "      <td>4</td>\n",
       "      <td>4.0</td>\n",
       "      <td>4</td>\n",
       "    </tr>\n",
       "  </tbody>\n",
       "</table>\n",
       "</div>"
      ],
      "text/plain": [
       "   User  Rating  Movie\n",
       "0     0     2.0      0\n",
       "1     1     1.0      1\n",
       "2     2     4.0      2\n",
       "3     3     3.0      3\n",
       "4     4     4.0      4"
      ]
     },
     "execution_count": 190,
     "metadata": {},
     "output_type": "execute_result"
    }
   ],
   "source": [
    "df_filtered_cp.head()"
   ]
  },
  {
   "cell_type": "markdown",
   "metadata": {
    "colab_type": "text",
    "id": "fh1Bg5Q_38mF"
   },
   "source": [
    "#### Create Movie Description Dataset (Content)"
   ]
  },
  {
   "cell_type": "code",
   "execution_count": 163,
   "metadata": {},
   "outputs": [
    {
     "data": {
      "text/html": [
       "<div>\n",
       "<style scoped>\n",
       "    .dataframe tbody tr th:only-of-type {\n",
       "        vertical-align: middle;\n",
       "    }\n",
       "\n",
       "    .dataframe tbody tr th {\n",
       "        vertical-align: top;\n",
       "    }\n",
       "\n",
       "    .dataframe thead th {\n",
       "        text-align: right;\n",
       "    }\n",
       "</style>\n",
       "<table border=\"1\" class=\"dataframe\">\n",
       "  <thead>\n",
       "    <tr style=\"text-align: right;\">\n",
       "      <th></th>\n",
       "      <th>overview</th>\n",
       "    </tr>\n",
       "    <tr>\n",
       "      <th>original_title</th>\n",
       "      <th></th>\n",
       "    </tr>\n",
       "  </thead>\n",
       "  <tbody>\n",
       "    <tr>\n",
       "      <th>Toy Story</th>\n",
       "      <td>Led by Woody, Andy's toys live happily in his ...</td>\n",
       "    </tr>\n",
       "    <tr>\n",
       "      <th>Jumanji</th>\n",
       "      <td>When siblings Judy and Peter discover an encha...</td>\n",
       "    </tr>\n",
       "    <tr>\n",
       "      <th>Grumpier Old Men</th>\n",
       "      <td>A family wedding reignites the ancient feud be...</td>\n",
       "    </tr>\n",
       "    <tr>\n",
       "      <th>Waiting to Exhale</th>\n",
       "      <td>Cheated on, mistreated and stepped on, the wom...</td>\n",
       "    </tr>\n",
       "    <tr>\n",
       "      <th>Father of the Bride Part II</th>\n",
       "      <td>Just when George Banks has recovered from his ...</td>\n",
       "    </tr>\n",
       "    <tr>\n",
       "      <th>...</th>\n",
       "      <td>...</td>\n",
       "    </tr>\n",
       "    <tr>\n",
       "      <th>L'Homme à la tête de caoutchouc</th>\n",
       "      <td>A chemist in his laboratory places upon a tabl...</td>\n",
       "    </tr>\n",
       "    <tr>\n",
       "      <th>Le locataire diabolique</th>\n",
       "      <td>A man rents an apartment and furnishes it in r...</td>\n",
       "    </tr>\n",
       "    <tr>\n",
       "      <th>L'Homme orchestre</th>\n",
       "      <td>A band-leader has arranged seven chairs for th...</td>\n",
       "    </tr>\n",
       "    <tr>\n",
       "      <th>Maa</th>\n",
       "      <td>The bliss of a biology teacher’s family life i...</td>\n",
       "    </tr>\n",
       "    <tr>\n",
       "      <th>Robin Hood</th>\n",
       "      <td>Yet another version of the classic epic, with ...</td>\n",
       "    </tr>\n",
       "  </tbody>\n",
       "</table>\n",
       "<p>21604 rows × 1 columns</p>\n",
       "</div>"
      ],
      "text/plain": [
       "                                                                          overview\n",
       "original_title                                                                    \n",
       "Toy Story                        Led by Woody, Andy's toys live happily in his ...\n",
       "Jumanji                          When siblings Judy and Peter discover an encha...\n",
       "Grumpier Old Men                 A family wedding reignites the ancient feud be...\n",
       "Waiting to Exhale                Cheated on, mistreated and stepped on, the wom...\n",
       "Father of the Bride Part II      Just when George Banks has recovered from his ...\n",
       "...                                                                            ...\n",
       "L'Homme à la tête de caoutchouc  A chemist in his laboratory places upon a tabl...\n",
       "Le locataire diabolique          A man rents an apartment and furnishes it in r...\n",
       "L'Homme orchestre                A band-leader has arranged seven chairs for th...\n",
       "Maa                              The bliss of a biology teacher’s family life i...\n",
       "Robin Hood                       Yet another version of the classic epic, with ...\n",
       "\n",
       "[21604 rows x 1 columns]"
      ]
     },
     "execution_count": 163,
     "metadata": {},
     "output_type": "execute_result"
    }
   ],
   "source": [
    "movie_metadata"
   ]
  },
  {
   "cell_type": "code",
   "execution_count": 164,
   "metadata": {},
   "outputs": [],
   "source": [
    "# Preprocess metadata\n",
    "tmp_metadata = movie_metadata.copy()\n",
    "tmp_metadata.index = tmp_metadata.index.str.lower()\n"
   ]
  },
  {
   "cell_type": "code",
   "execution_count": 166,
   "metadata": {},
   "outputs": [
    {
     "data": {
      "text/html": [
       "<div>\n",
       "<style scoped>\n",
       "    .dataframe tbody tr th:only-of-type {\n",
       "        vertical-align: middle;\n",
       "    }\n",
       "\n",
       "    .dataframe tbody tr th {\n",
       "        vertical-align: top;\n",
       "    }\n",
       "\n",
       "    .dataframe thead th {\n",
       "        text-align: right;\n",
       "    }\n",
       "</style>\n",
       "<table border=\"1\" class=\"dataframe\">\n",
       "  <thead>\n",
       "    <tr style=\"text-align: right;\">\n",
       "      <th></th>\n",
       "      <th>overview</th>\n",
       "    </tr>\n",
       "    <tr>\n",
       "      <th>original_title</th>\n",
       "      <th></th>\n",
       "    </tr>\n",
       "  </thead>\n",
       "  <tbody>\n",
       "    <tr>\n",
       "      <th>toy story</th>\n",
       "      <td>Led by Woody, Andy's toys live happily in his ...</td>\n",
       "    </tr>\n",
       "    <tr>\n",
       "      <th>jumanji</th>\n",
       "      <td>When siblings Judy and Peter discover an encha...</td>\n",
       "    </tr>\n",
       "    <tr>\n",
       "      <th>grumpier old men</th>\n",
       "      <td>A family wedding reignites the ancient feud be...</td>\n",
       "    </tr>\n",
       "    <tr>\n",
       "      <th>waiting to exhale</th>\n",
       "      <td>Cheated on, mistreated and stepped on, the wom...</td>\n",
       "    </tr>\n",
       "    <tr>\n",
       "      <th>father of the bride part ii</th>\n",
       "      <td>Just when George Banks has recovered from his ...</td>\n",
       "    </tr>\n",
       "  </tbody>\n",
       "</table>\n",
       "</div>"
      ],
      "text/plain": [
       "                                                                      overview\n",
       "original_title                                                                \n",
       "toy story                    Led by Woody, Andy's toys live happily in his ...\n",
       "jumanji                      When siblings Judy and Peter discover an encha...\n",
       "grumpier old men             A family wedding reignites the ancient feud be...\n",
       "waiting to exhale            Cheated on, mistreated and stepped on, the wom...\n",
       "father of the bride part ii  Just when George Banks has recovered from his ..."
      ]
     },
     "execution_count": 166,
     "metadata": {},
     "output_type": "execute_result"
    }
   ],
   "source": [
    "tmp_metadata.head()"
   ]
  },
  {
   "cell_type": "code",
   "execution_count": 167,
   "metadata": {},
   "outputs": [
    {
     "data": {
      "text/html": [
       "<div>\n",
       "<style scoped>\n",
       "    .dataframe tbody tr th:only-of-type {\n",
       "        vertical-align: middle;\n",
       "    }\n",
       "\n",
       "    .dataframe tbody tr th {\n",
       "        vertical-align: top;\n",
       "    }\n",
       "\n",
       "    .dataframe thead th {\n",
       "        text-align: right;\n",
       "    }\n",
       "</style>\n",
       "<table border=\"1\" class=\"dataframe\">\n",
       "  <thead>\n",
       "    <tr style=\"text-align: right;\">\n",
       "      <th></th>\n",
       "      <th>Year</th>\n",
       "      <th>Name</th>\n",
       "    </tr>\n",
       "    <tr>\n",
       "      <th>Id</th>\n",
       "      <th></th>\n",
       "      <th></th>\n",
       "    </tr>\n",
       "  </thead>\n",
       "  <tbody>\n",
       "    <tr>\n",
       "      <th>1</th>\n",
       "      <td>2003.0</td>\n",
       "      <td>Dinosaur Planet</td>\n",
       "    </tr>\n",
       "    <tr>\n",
       "      <th>2</th>\n",
       "      <td>2004.0</td>\n",
       "      <td>Isle of Man TT 2004 Review</td>\n",
       "    </tr>\n",
       "    <tr>\n",
       "      <th>3</th>\n",
       "      <td>1997.0</td>\n",
       "      <td>Character</td>\n",
       "    </tr>\n",
       "    <tr>\n",
       "      <th>4</th>\n",
       "      <td>1994.0</td>\n",
       "      <td>Paula Abdul's Get Up &amp; Dance</td>\n",
       "    </tr>\n",
       "    <tr>\n",
       "      <th>5</th>\n",
       "      <td>2004.0</td>\n",
       "      <td>The Rise and Fall of ECW</td>\n",
       "    </tr>\n",
       "  </tbody>\n",
       "</table>\n",
       "</div>"
      ],
      "text/plain": [
       "      Year                          Name\n",
       "Id                                      \n",
       "1   2003.0               Dinosaur Planet\n",
       "2   2004.0    Isle of Man TT 2004 Review\n",
       "3   1997.0                     Character\n",
       "4   1994.0  Paula Abdul's Get Up & Dance\n",
       "5   2004.0      The Rise and Fall of ECW"
      ]
     },
     "execution_count": 167,
     "metadata": {},
     "output_type": "execute_result"
    }
   ],
   "source": [
    "movie_titles.head()"
   ]
  },
  {
   "cell_type": "code",
   "execution_count": 168,
   "metadata": {},
   "outputs": [],
   "source": [
    "# Preprocess titles\n",
    "tmp_titles = movie_titles.drop('Year', axis=1).copy()\n",
    "tmp_titles = tmp_titles.reset_index().set_index('Name')\n",
    "tmp_titles.index = tmp_titles.index.str.lower()"
   ]
  },
  {
   "cell_type": "code",
   "execution_count": 172,
   "metadata": {},
   "outputs": [
    {
     "data": {
      "text/html": [
       "<div>\n",
       "<style scoped>\n",
       "    .dataframe tbody tr th:only-of-type {\n",
       "        vertical-align: middle;\n",
       "    }\n",
       "\n",
       "    .dataframe tbody tr th {\n",
       "        vertical-align: top;\n",
       "    }\n",
       "\n",
       "    .dataframe thead th {\n",
       "        text-align: right;\n",
       "    }\n",
       "</style>\n",
       "<table border=\"1\" class=\"dataframe\">\n",
       "  <thead>\n",
       "    <tr style=\"text-align: right;\">\n",
       "      <th></th>\n",
       "      <th>Id</th>\n",
       "    </tr>\n",
       "    <tr>\n",
       "      <th>Name</th>\n",
       "      <th></th>\n",
       "    </tr>\n",
       "  </thead>\n",
       "  <tbody>\n",
       "    <tr>\n",
       "      <th>dinosaur planet</th>\n",
       "      <td>1</td>\n",
       "    </tr>\n",
       "    <tr>\n",
       "      <th>isle of man tt 2004 review</th>\n",
       "      <td>2</td>\n",
       "    </tr>\n",
       "    <tr>\n",
       "      <th>character</th>\n",
       "      <td>3</td>\n",
       "    </tr>\n",
       "    <tr>\n",
       "      <th>paula abdul's get up &amp; dance</th>\n",
       "      <td>4</td>\n",
       "    </tr>\n",
       "    <tr>\n",
       "      <th>the rise and fall of ecw</th>\n",
       "      <td>5</td>\n",
       "    </tr>\n",
       "  </tbody>\n",
       "</table>\n",
       "</div>"
      ],
      "text/plain": [
       "                              Id\n",
       "Name                            \n",
       "dinosaur planet                1\n",
       "isle of man tt 2004 review     2\n",
       "character                      3\n",
       "paula abdul's get up & dance   4\n",
       "the rise and fall of ecw       5"
      ]
     },
     "execution_count": 172,
     "metadata": {},
     "output_type": "execute_result"
    }
   ],
   "source": [
    "tmp_titles.head()"
   ]
  },
  {
   "cell_type": "code",
   "execution_count": 173,
   "metadata": {},
   "outputs": [
    {
     "data": {
      "text/html": [
       "<div>\n",
       "<style scoped>\n",
       "    .dataframe tbody tr th:only-of-type {\n",
       "        vertical-align: middle;\n",
       "    }\n",
       "\n",
       "    .dataframe tbody tr th {\n",
       "        vertical-align: top;\n",
       "    }\n",
       "\n",
       "    .dataframe thead th {\n",
       "        text-align: right;\n",
       "    }\n",
       "</style>\n",
       "<table border=\"1\" class=\"dataframe\">\n",
       "  <thead>\n",
       "    <tr style=\"text-align: right;\">\n",
       "      <th></th>\n",
       "      <th>overview</th>\n",
       "    </tr>\n",
       "    <tr>\n",
       "      <th>original_title</th>\n",
       "      <th></th>\n",
       "    </tr>\n",
       "  </thead>\n",
       "  <tbody>\n",
       "    <tr>\n",
       "      <th>toy story</th>\n",
       "      <td>Led by Woody, Andy's toys live happily in his ...</td>\n",
       "    </tr>\n",
       "    <tr>\n",
       "      <th>jumanji</th>\n",
       "      <td>When siblings Judy and Peter discover an encha...</td>\n",
       "    </tr>\n",
       "    <tr>\n",
       "      <th>grumpier old men</th>\n",
       "      <td>A family wedding reignites the ancient feud be...</td>\n",
       "    </tr>\n",
       "    <tr>\n",
       "      <th>waiting to exhale</th>\n",
       "      <td>Cheated on, mistreated and stepped on, the wom...</td>\n",
       "    </tr>\n",
       "    <tr>\n",
       "      <th>father of the bride part ii</th>\n",
       "      <td>Just when George Banks has recovered from his ...</td>\n",
       "    </tr>\n",
       "  </tbody>\n",
       "</table>\n",
       "</div>"
      ],
      "text/plain": [
       "                                                                      overview\n",
       "original_title                                                                \n",
       "toy story                    Led by Woody, Andy's toys live happily in his ...\n",
       "jumanji                      When siblings Judy and Peter discover an encha...\n",
       "grumpier old men             A family wedding reignites the ancient feud be...\n",
       "waiting to exhale            Cheated on, mistreated and stepped on, the wom...\n",
       "father of the bride part ii  Just when George Banks has recovered from his ..."
      ]
     },
     "execution_count": 173,
     "metadata": {},
     "output_type": "execute_result"
    }
   ],
   "source": [
    "tmp_metadata.head()"
   ]
  },
  {
   "cell_type": "code",
   "execution_count": 175,
   "metadata": {},
   "outputs": [
    {
     "data": {
      "text/html": [
       "<div>\n",
       "<style scoped>\n",
       "    .dataframe tbody tr th:only-of-type {\n",
       "        vertical-align: middle;\n",
       "    }\n",
       "\n",
       "    .dataframe tbody tr th {\n",
       "        vertical-align: top;\n",
       "    }\n",
       "\n",
       "    .dataframe thead th {\n",
       "        text-align: right;\n",
       "    }\n",
       "</style>\n",
       "<table border=\"1\" class=\"dataframe\">\n",
       "  <thead>\n",
       "    <tr style=\"text-align: right;\">\n",
       "      <th></th>\n",
       "      <th>overview</th>\n",
       "    </tr>\n",
       "    <tr>\n",
       "      <th>Id</th>\n",
       "      <th></th>\n",
       "    </tr>\n",
       "  </thead>\n",
       "  <tbody>\n",
       "    <tr>\n",
       "      <th>7756</th>\n",
       "      <td>An ethical Baltimore defense lawyer disgusted ...</td>\n",
       "    </tr>\n",
       "    <tr>\n",
       "      <th>2945</th>\n",
       "      <td>A Hollywood songwriter goes through a mid-life...</td>\n",
       "    </tr>\n",
       "    <tr>\n",
       "      <th>3463</th>\n",
       "      <td>Bianca, a tenth grader, has never gone on a da...</td>\n",
       "    </tr>\n",
       "    <tr>\n",
       "      <th>11972</th>\n",
       "      <td>Based on the real-life Richard Speck murders, ...</td>\n",
       "    </tr>\n",
       "    <tr>\n",
       "      <th>6656</th>\n",
       "      <td>An earthquake reaching a 10.5 magnitude on the...</td>\n",
       "    </tr>\n",
       "  </tbody>\n",
       "</table>\n",
       "</div>"
      ],
      "text/plain": [
       "                                                overview\n",
       "Id                                                      \n",
       "7756   An ethical Baltimore defense lawyer disgusted ...\n",
       "2945   A Hollywood songwriter goes through a mid-life...\n",
       "3463   Bianca, a tenth grader, has never gone on a da...\n",
       "11972  Based on the real-life Richard Speck murders, ...\n",
       "6656   An earthquake reaching a 10.5 magnitude on the..."
      ]
     },
     "execution_count": 175,
     "metadata": {},
     "output_type": "execute_result"
    }
   ],
   "source": [
    "# Combine titles and metadata\n",
    "df_id_descriptions = tmp_titles.join(tmp_metadata).dropna().set_index('Id')\n",
    "df_id_descriptions.head()"
   ]
  },
  {
   "cell_type": "code",
   "execution_count": 176,
   "metadata": {
    "colab": {
     "base_uri": "https://localhost:8080/",
     "height": 242
    },
    "colab_type": "code",
    "id": "CoAHPk1SIECT",
    "outputId": "341478ef-8e00-410d-dee3-ba3c79f4b409"
   },
   "outputs": [
    {
     "name": "stdout",
     "output_type": "stream",
     "text": [
      "Movie Description DF Shape: (6890, 1)\n"
     ]
    },
    {
     "data": {
      "text/html": [
       "<div>\n",
       "<style scoped>\n",
       "    .dataframe tbody tr th:only-of-type {\n",
       "        vertical-align: middle;\n",
       "    }\n",
       "\n",
       "    .dataframe tbody tr th {\n",
       "        vertical-align: top;\n",
       "    }\n",
       "\n",
       "    .dataframe thead th {\n",
       "        text-align: right;\n",
       "    }\n",
       "</style>\n",
       "<table border=\"1\" class=\"dataframe\">\n",
       "  <thead>\n",
       "    <tr style=\"text-align: right;\">\n",
       "      <th></th>\n",
       "      <th>overview</th>\n",
       "    </tr>\n",
       "    <tr>\n",
       "      <th>Id</th>\n",
       "      <th></th>\n",
       "    </tr>\n",
       "  </thead>\n",
       "  <tbody>\n",
       "    <tr>\n",
       "      <th>8597</th>\n",
       "      <td>two troubled adolescents chronicle the events ...</td>\n",
       "    </tr>\n",
       "    <tr>\n",
       "      <th>16182</th>\n",
       "      <td>daryl zero is a private investigator. along wi...</td>\n",
       "    </tr>\n",
       "    <tr>\n",
       "      <th>15233</th>\n",
       "      <td>clear the runway for derek zoolander, vh1's th...</td>\n",
       "    </tr>\n",
       "    <tr>\n",
       "      <th>17631</th>\n",
       "      <td>in 1879, during the zulu wars, man of the peop...</td>\n",
       "    </tr>\n",
       "    <tr>\n",
       "      <th>17631</th>\n",
       "      <td>as a child, ali neuman narrowly escaped being ...</td>\n",
       "    </tr>\n",
       "  </tbody>\n",
       "</table>\n",
       "</div>"
      ],
      "text/plain": [
       "                                                overview\n",
       "Id                                                      \n",
       "8597   two troubled adolescents chronicle the events ...\n",
       "16182  daryl zero is a private investigator. along wi...\n",
       "15233  clear the runway for derek zoolander, vh1's th...\n",
       "17631  in 1879, during the zulu wars, man of the peop...\n",
       "17631  as a child, ali neuman narrowly escaped being ..."
      ]
     },
     "execution_count": 176,
     "metadata": {},
     "output_type": "execute_result"
    }
   ],
   "source": [
    "df_id_descriptions['overview'] = df_id_descriptions['overview'].str.lower()\n",
    "#del tmp_metadata,tmp_titles\n",
    "print('Movie Description DF Shape:', df_id_descriptions.shape)\n",
    "df_id_descriptions.tail()"
   ]
  },
  {
   "cell_type": "markdown",
   "metadata": {
    "colab_type": "text",
    "id": "R7__gU8E44m-"
   },
   "source": [
    "#### Create User-Rating Filtered Dataset (Collaborative)\n",
    "\n",
    "Here we filter out movie-user-ratings where movies don't have descriptions (content)"
   ]
  },
  {
   "cell_type": "code",
   "execution_count": 191,
   "metadata": {},
   "outputs": [
    {
     "data": {
      "text/html": [
       "<div>\n",
       "<style scoped>\n",
       "    .dataframe tbody tr th:only-of-type {\n",
       "        vertical-align: middle;\n",
       "    }\n",
       "\n",
       "    .dataframe tbody tr th {\n",
       "        vertical-align: top;\n",
       "    }\n",
       "\n",
       "    .dataframe thead th {\n",
       "        text-align: right;\n",
       "    }\n",
       "</style>\n",
       "<table border=\"1\" class=\"dataframe\">\n",
       "  <thead>\n",
       "    <tr style=\"text-align: right;\">\n",
       "      <th></th>\n",
       "      <th>User</th>\n",
       "      <th>Rating</th>\n",
       "      <th>Movie</th>\n",
       "    </tr>\n",
       "  </thead>\n",
       "  <tbody>\n",
       "    <tr>\n",
       "      <th>0</th>\n",
       "      <td>0</td>\n",
       "      <td>2.0</td>\n",
       "      <td>0</td>\n",
       "    </tr>\n",
       "    <tr>\n",
       "      <th>1</th>\n",
       "      <td>1</td>\n",
       "      <td>1.0</td>\n",
       "      <td>1</td>\n",
       "    </tr>\n",
       "    <tr>\n",
       "      <th>2</th>\n",
       "      <td>2</td>\n",
       "      <td>4.0</td>\n",
       "      <td>2</td>\n",
       "    </tr>\n",
       "    <tr>\n",
       "      <th>3</th>\n",
       "      <td>3</td>\n",
       "      <td>3.0</td>\n",
       "      <td>3</td>\n",
       "    </tr>\n",
       "    <tr>\n",
       "      <th>4</th>\n",
       "      <td>4</td>\n",
       "      <td>4.0</td>\n",
       "      <td>4</td>\n",
       "    </tr>\n",
       "  </tbody>\n",
       "</table>\n",
       "</div>"
      ],
      "text/plain": [
       "   User  Rating  Movie\n",
       "0     0     2.0      0\n",
       "1     1     1.0      1\n",
       "2     2     4.0      2\n",
       "3     3     3.0      3\n",
       "4     4     4.0      4"
      ]
     },
     "execution_count": 191,
     "metadata": {},
     "output_type": "execute_result"
    }
   ],
   "source": [
    "df_filtered_cp.head()"
   ]
  },
  {
   "cell_type": "code",
   "execution_count": 192,
   "metadata": {},
   "outputs": [
    {
     "data": {
      "text/plain": [
       "User      5930952\n",
       "Rating    5930952\n",
       "Movie     5930952\n",
       "dtype: int64"
      ]
     },
     "execution_count": 192,
     "metadata": {},
     "output_type": "execute_result"
    }
   ],
   "source": [
    "df_filtered_cp.notnull().sum(axis=0)"
   ]
  },
  {
   "cell_type": "code",
   "execution_count": 200,
   "metadata": {},
   "outputs": [],
   "source": [
    "df_hybrid = (df_filtered_cp\n",
    " .set_index('Movie')\n",
    " .join(df_id_descriptions)\n",
    " .dropna()\n",
    " .drop('overview', axis=1)\n",
    " .reset_index()\n",
    " .rename({'index': 'Movie'}, axis=1)\n",
    ")"
   ]
  },
  {
   "cell_type": "code",
   "execution_count": 201,
   "metadata": {},
   "outputs": [
    {
     "data": {
      "text/plain": [
       "(2267919, 3)"
      ]
     },
     "execution_count": 201,
     "metadata": {},
     "output_type": "execute_result"
    }
   ],
   "source": [
    "df_hybrid.shape"
   ]
  },
  {
   "cell_type": "code",
   "execution_count": 202,
   "metadata": {},
   "outputs": [
    {
     "data": {
      "text/html": [
       "<div>\n",
       "<style scoped>\n",
       "    .dataframe tbody tr th:only-of-type {\n",
       "        vertical-align: middle;\n",
       "    }\n",
       "\n",
       "    .dataframe tbody tr th {\n",
       "        vertical-align: top;\n",
       "    }\n",
       "\n",
       "    .dataframe thead th {\n",
       "        text-align: right;\n",
       "    }\n",
       "</style>\n",
       "<table border=\"1\" class=\"dataframe\">\n",
       "  <thead>\n",
       "    <tr style=\"text-align: right;\">\n",
       "      <th></th>\n",
       "      <th>Movie</th>\n",
       "      <th>User</th>\n",
       "      <th>Rating</th>\n",
       "    </tr>\n",
       "  </thead>\n",
       "  <tbody>\n",
       "    <tr>\n",
       "      <th>0</th>\n",
       "      <td>12</td>\n",
       "      <td>12</td>\n",
       "      <td>3.0</td>\n",
       "    </tr>\n",
       "    <tr>\n",
       "      <th>1</th>\n",
       "      <td>12</td>\n",
       "      <td>410</td>\n",
       "      <td>3.0</td>\n",
       "    </tr>\n",
       "    <tr>\n",
       "      <th>2</th>\n",
       "      <td>12</td>\n",
       "      <td>500</td>\n",
       "      <td>2.0</td>\n",
       "    </tr>\n",
       "    <tr>\n",
       "      <th>3</th>\n",
       "      <td>12</td>\n",
       "      <td>1473</td>\n",
       "      <td>1.0</td>\n",
       "    </tr>\n",
       "    <tr>\n",
       "      <th>4</th>\n",
       "      <td>12</td>\n",
       "      <td>1618</td>\n",
       "      <td>2.0</td>\n",
       "    </tr>\n",
       "  </tbody>\n",
       "</table>\n",
       "</div>"
      ],
      "text/plain": [
       "   Movie  User  Rating\n",
       "0     12    12     3.0\n",
       "1     12   410     3.0\n",
       "2     12   500     2.0\n",
       "3     12  1473     1.0\n",
       "4     12  1618     2.0"
      ]
     },
     "execution_count": 202,
     "metadata": {},
     "output_type": "execute_result"
    }
   ],
   "source": [
    "df_hybrid.head()"
   ]
  },
  {
   "cell_type": "code",
   "execution_count": 203,
   "metadata": {
    "colab": {
     "base_uri": "https://localhost:8080/",
     "height": 34
    },
    "colab_type": "code",
    "id": "j7CHcKM_JOOw",
    "outputId": "e1378ad4-6a97-4fc3-9678-f131f7664686"
   },
   "outputs": [
    {
     "data": {
      "text/plain": [
       "((1967919, 3), (300000, 3))"
      ]
     },
     "execution_count": 203,
     "metadata": {},
     "output_type": "execute_result"
    }
   ],
   "source": [
    "# Split train- & testset\n",
    "n = 300000\n",
    "df_hybrid = df_hybrid.sample(frac=1).reset_index(drop=True)\n",
    "df_hybrid_train = df_hybrid[:-n]\n",
    "df_hybrid_test = df_hybrid[-n:]\n",
    "df_hybrid_train.shape, df_hybrid_test.shape"
   ]
  },
  {
   "cell_type": "markdown",
   "metadata": {
    "colab_type": "text",
    "id": "k33OwrFO5RpF"
   },
   "source": [
    "#### Generate TFIDF Vectors for Train and Test Datasets (Movie Descriptions)"
   ]
  },
  {
   "cell_type": "code",
   "execution_count": 205,
   "metadata": {},
   "outputs": [
    {
     "data": {
      "text/html": [
       "<div>\n",
       "<style scoped>\n",
       "    .dataframe tbody tr th:only-of-type {\n",
       "        vertical-align: middle;\n",
       "    }\n",
       "\n",
       "    .dataframe tbody tr th {\n",
       "        vertical-align: top;\n",
       "    }\n",
       "\n",
       "    .dataframe thead th {\n",
       "        text-align: right;\n",
       "    }\n",
       "</style>\n",
       "<table border=\"1\" class=\"dataframe\">\n",
       "  <thead>\n",
       "    <tr style=\"text-align: right;\">\n",
       "      <th></th>\n",
       "      <th>Movie</th>\n",
       "      <th>User</th>\n",
       "      <th>Rating</th>\n",
       "    </tr>\n",
       "  </thead>\n",
       "  <tbody>\n",
       "    <tr>\n",
       "      <th>0</th>\n",
       "      <td>682</td>\n",
       "      <td>3206</td>\n",
       "      <td>1.0</td>\n",
       "    </tr>\n",
       "    <tr>\n",
       "      <th>1</th>\n",
       "      <td>87</td>\n",
       "      <td>18560</td>\n",
       "      <td>3.0</td>\n",
       "    </tr>\n",
       "    <tr>\n",
       "      <th>2</th>\n",
       "      <td>322</td>\n",
       "      <td>20131</td>\n",
       "      <td>3.0</td>\n",
       "    </tr>\n",
       "    <tr>\n",
       "      <th>3</th>\n",
       "      <td>471</td>\n",
       "      <td>16628</td>\n",
       "      <td>3.0</td>\n",
       "    </tr>\n",
       "    <tr>\n",
       "      <th>4</th>\n",
       "      <td>903</td>\n",
       "      <td>15376</td>\n",
       "      <td>3.0</td>\n",
       "    </tr>\n",
       "  </tbody>\n",
       "</table>\n",
       "</div>"
      ],
      "text/plain": [
       "   Movie   User  Rating\n",
       "0    682   3206     1.0\n",
       "1     87  18560     3.0\n",
       "2    322  20131     3.0\n",
       "3    471  16628     3.0\n",
       "4    903  15376     3.0"
      ]
     },
     "execution_count": 205,
     "metadata": {},
     "output_type": "execute_result"
    }
   ],
   "source": [
    "df_hybrid.head()"
   ]
  },
  {
   "cell_type": "code",
   "execution_count": 206,
   "metadata": {},
   "outputs": [],
   "source": [
    "tfidf = TfidfVectorizer(stop_words='english')\n",
    "tfidf_matrix = tfidf.fit_transform(df_id_descriptions['overview'])"
   ]
  },
  {
   "cell_type": "code",
   "execution_count": 209,
   "metadata": {},
   "outputs": [
    {
     "data": {
      "text/plain": [
       "<6890x24128 sparse matrix of type '<class 'numpy.float64'>'\n",
       "\twith 180316 stored elements in Compressed Sparse Row format>"
      ]
     },
     "execution_count": 209,
     "metadata": {},
     "output_type": "execute_result"
    }
   ],
   "source": [
    "tfidf_hybrid = tfidf_matrix\n",
    "tfidf_hybrid"
   ]
  },
  {
   "cell_type": "code",
   "execution_count": 210,
   "metadata": {},
   "outputs": [
    {
     "data": {
      "text/html": [
       "<div>\n",
       "<style scoped>\n",
       "    .dataframe tbody tr th:only-of-type {\n",
       "        vertical-align: middle;\n",
       "    }\n",
       "\n",
       "    .dataframe tbody tr th {\n",
       "        vertical-align: top;\n",
       "    }\n",
       "\n",
       "    .dataframe thead th {\n",
       "        text-align: right;\n",
       "    }\n",
       "</style>\n",
       "<table border=\"1\" class=\"dataframe\">\n",
       "  <thead>\n",
       "    <tr style=\"text-align: right;\">\n",
       "      <th></th>\n",
       "      <th>overview</th>\n",
       "    </tr>\n",
       "    <tr>\n",
       "      <th>Id</th>\n",
       "      <th></th>\n",
       "    </tr>\n",
       "  </thead>\n",
       "  <tbody>\n",
       "    <tr>\n",
       "      <th>7756</th>\n",
       "      <td>an ethical baltimore defense lawyer disgusted ...</td>\n",
       "    </tr>\n",
       "    <tr>\n",
       "      <th>2945</th>\n",
       "      <td>a hollywood songwriter goes through a mid-life...</td>\n",
       "    </tr>\n",
       "    <tr>\n",
       "      <th>3463</th>\n",
       "      <td>bianca, a tenth grader, has never gone on a da...</td>\n",
       "    </tr>\n",
       "    <tr>\n",
       "      <th>11972</th>\n",
       "      <td>based on the real-life richard speck murders, ...</td>\n",
       "    </tr>\n",
       "    <tr>\n",
       "      <th>6656</th>\n",
       "      <td>an earthquake reaching a 10.5 magnitude on the...</td>\n",
       "    </tr>\n",
       "  </tbody>\n",
       "</table>\n",
       "</div>"
      ],
      "text/plain": [
       "                                                overview\n",
       "Id                                                      \n",
       "7756   an ethical baltimore defense lawyer disgusted ...\n",
       "2945   a hollywood songwriter goes through a mid-life...\n",
       "3463   bianca, a tenth grader, has never gone on a da...\n",
       "11972  based on the real-life richard speck murders, ...\n",
       "6656   an earthquake reaching a 10.5 magnitude on the..."
      ]
     },
     "execution_count": 210,
     "metadata": {},
     "output_type": "execute_result"
    }
   ],
   "source": [
    "df_id_descriptions.head()"
   ]
  },
  {
   "cell_type": "code",
   "execution_count": 211,
   "metadata": {
    "colab": {},
    "colab_type": "code",
    "id": "RgxZz-0wU7-C"
   },
   "outputs": [],
   "source": [
    "# Get mapping from movie-ids to indices in tfidf-matrix\n",
    "movie_idx_mapping = {id:i for i, id in enumerate(df_id_descriptions.index)}"
   ]
  },
  {
   "cell_type": "code",
   "execution_count": 214,
   "metadata": {},
   "outputs": [
    {
     "data": {
      "text/html": [
       "<div>\n",
       "<style scoped>\n",
       "    .dataframe tbody tr th:only-of-type {\n",
       "        vertical-align: middle;\n",
       "    }\n",
       "\n",
       "    .dataframe tbody tr th {\n",
       "        vertical-align: top;\n",
       "    }\n",
       "\n",
       "    .dataframe thead th {\n",
       "        text-align: right;\n",
       "    }\n",
       "</style>\n",
       "<table border=\"1\" class=\"dataframe\">\n",
       "  <thead>\n",
       "    <tr style=\"text-align: right;\">\n",
       "      <th></th>\n",
       "      <th>Movie</th>\n",
       "      <th>User</th>\n",
       "      <th>Rating</th>\n",
       "    </tr>\n",
       "  </thead>\n",
       "  <tbody>\n",
       "    <tr>\n",
       "      <th>0</th>\n",
       "      <td>682</td>\n",
       "      <td>3206</td>\n",
       "      <td>1.0</td>\n",
       "    </tr>\n",
       "    <tr>\n",
       "      <th>1</th>\n",
       "      <td>87</td>\n",
       "      <td>18560</td>\n",
       "      <td>3.0</td>\n",
       "    </tr>\n",
       "    <tr>\n",
       "      <th>2</th>\n",
       "      <td>322</td>\n",
       "      <td>20131</td>\n",
       "      <td>3.0</td>\n",
       "    </tr>\n",
       "    <tr>\n",
       "      <th>3</th>\n",
       "      <td>471</td>\n",
       "      <td>16628</td>\n",
       "      <td>3.0</td>\n",
       "    </tr>\n",
       "    <tr>\n",
       "      <th>4</th>\n",
       "      <td>903</td>\n",
       "      <td>15376</td>\n",
       "      <td>3.0</td>\n",
       "    </tr>\n",
       "  </tbody>\n",
       "</table>\n",
       "</div>"
      ],
      "text/plain": [
       "   Movie   User  Rating\n",
       "0    682   3206     1.0\n",
       "1     87  18560     3.0\n",
       "2    322  20131     3.0\n",
       "3    471  16628     3.0\n",
       "4    903  15376     3.0"
      ]
     },
     "execution_count": 214,
     "metadata": {},
     "output_type": "execute_result"
    }
   ],
   "source": [
    "df_hybrid_train.head()"
   ]
  },
  {
   "cell_type": "code",
   "execution_count": 215,
   "metadata": {
    "colab": {
     "base_uri": "https://localhost:8080/",
     "height": 50
    },
    "colab_type": "code",
    "id": "HemfBsDqU8AL",
    "outputId": "065a5eb2-3920-4028-af05-e17bd0ee3137"
   },
   "outputs": [
    {
     "name": "stderr",
     "output_type": "stream",
     "text": [
      "100%|███████████████████████████████| 1967919/1967919 [04:28<00:00, 7329.67it/s]\n"
     ]
    },
    {
     "data": {
      "text/plain": [
       "1967919"
      ]
     },
     "execution_count": 215,
     "metadata": {},
     "output_type": "execute_result"
    }
   ],
   "source": [
    "# get train data tfidf vectors\n",
    "train_tfidf = []\n",
    "\n",
    "# Iterate over all movie-ids and save the tfidf-vectors (sparse format for memory efficiency)\n",
    "for idx in tqdm(df_hybrid_train['Movie'].values):\n",
    "    index = movie_idx_mapping[idx]\n",
    "    train_tfidf.append(tfidf_hybrid[index])\n",
    "\n",
    "len(train_tfidf)"
   ]
  },
  {
   "cell_type": "code",
   "execution_count": 216,
   "metadata": {
    "colab": {
     "base_uri": "https://localhost:8080/",
     "height": 50
    },
    "colab_type": "code",
    "id": "7AqgNsqrU8CZ",
    "outputId": "da454ca5-ae30-47cc-b865-4642069edb15"
   },
   "outputs": [
    {
     "name": "stderr",
     "output_type": "stream",
     "text": [
      "100%|█████████████████████████████████| 300000/300000 [00:41<00:00, 7166.38it/s]\n"
     ]
    },
    {
     "data": {
      "text/plain": [
       "300000"
      ]
     },
     "execution_count": 216,
     "metadata": {},
     "output_type": "execute_result"
    }
   ],
   "source": [
    "# get test data tfidf vectors\n",
    "test_tfidf = []\n",
    "\n",
    "# Iterate over all movie-ids and save the tfidf-vectors (sparse format for memory efficiency)\n",
    "for idx in tqdm(df_hybrid_test['Movie'].values):\n",
    "    index = movie_idx_mapping[idx]\n",
    "    test_tfidf.append(tfidf_hybrid[index])\n",
    "\n",
    "\n",
    "len(test_tfidf)"
   ]
  },
  {
   "cell_type": "code",
   "execution_count": 217,
   "metadata": {
    "colab": {
     "base_uri": "https://localhost:8080/",
     "height": 34
    },
    "colab_type": "code",
    "id": "3dyKQnCNdQTc",
    "outputId": "bcf2ef13-850c-4de3-e04a-f9884a085431"
   },
   "outputs": [
    {
     "data": {
      "text/plain": [
       "((1967919, 24128), (300000, 24128))"
      ]
     },
     "execution_count": 217,
     "metadata": {},
     "output_type": "execute_result"
    }
   ],
   "source": [
    "# Stack the sparse matrices\n",
    "train_tfidf = vstack(train_tfidf)\n",
    "test_tfidf  = vstack(test_tfidf)\n",
    "\n",
    "train_tfidf.shape, test_tfidf.shape"
   ]
  },
  {
   "cell_type": "code",
   "execution_count": 218,
   "metadata": {
    "colab": {
     "base_uri": "https://localhost:8080/",
     "height": 34
    },
    "colab_type": "code",
    "id": "dMI3SxfNdwNQ",
    "outputId": "454e8563-c55e-4874-87b9-793441bdc431"
   },
   "outputs": [
    {
     "data": {
      "text/plain": [
       "scipy.sparse._csr.csr_matrix"
      ]
     },
     "execution_count": 218,
     "metadata": {},
     "output_type": "execute_result"
    }
   ],
   "source": [
    "type(train_tfidf)"
   ]
  },
  {
   "cell_type": "markdown",
   "metadata": {
    "colab_type": "text",
    "id": "M4m5y7Zv5ZuK"
   },
   "source": [
    "This shows we are using sparse matrices to represent the vectors as dense vectors would typically give a out of memory error!"
   ]
  },
  {
   "cell_type": "markdown",
   "metadata": {
    "colab_type": "text",
    "id": "rCZjFT6JeIDs"
   },
   "source": [
    "#### Construct Deep Learning Model Architecture"
   ]
  },
  {
   "cell_type": "code",
   "execution_count": 219,
   "metadata": {
    "colab": {},
    "colab_type": "code",
    "id": "y_WYqzMpeJby"
   },
   "outputs": [],
   "source": [
    "# setup NN parameters\n",
    "user_embed_dim = 256\n",
    "movie_embed_dim = 256\n",
    "userid_input_shape = 1\n",
    "movieid_input_shape = 1\n",
    "tfidf_input_shape = tfidf_hybrid.shape[1]"
   ]
  },
  {
   "cell_type": "code",
   "execution_count": 220,
   "metadata": {
    "colab": {},
    "colab_type": "code",
    "id": "Ea74tynzeqGB"
   },
   "outputs": [],
   "source": [
    "# Create the input layers\n",
    "\n",
    "# user and movie input layers\n",
    "user_id_input = Input(shape=(userid_input_shape,), name='user')\n",
    "movie_id_input = Input(shape=(movieid_input_shape,), name='movie')\n",
    "\n",
    "# tfidf input layer\n",
    "tfidf_input = Input(shape=(tfidf_input_shape,), name='tfidf', sparse=True)"
   ]
  },
  {
   "cell_type": "code",
   "execution_count": 221,
   "metadata": {
    "colab": {},
    "colab_type": "code",
    "id": "zc_bGQ6ne3Cj"
   },
   "outputs": [],
   "source": [
    "# Create embeddings layers for users and movies\n",
    "\n",
    "# user embedding\n",
    "user_embedding = Embedding(output_dim=user_embed_dim,\n",
    "                           input_dim=len(user_id_mapping),\n",
    "                           input_length=userid_input_shape,\n",
    "                           name='user_embedding')(user_id_input)\n",
    "\n",
    "# movie embedding\n",
    "movie_embedding = Embedding(output_dim=movie_embed_dim,\n",
    "                           input_dim=len(movie_id_mapping),\n",
    "                           input_length=movieid_input_shape,\n",
    "                           name='movie_embedding')(movie_id_input)\n"
   ]
  },
  {
   "cell_type": "code",
   "execution_count": 222,
   "metadata": {
    "colab": {},
    "colab_type": "code",
    "id": "pm_H8CaXe3Gn"
   },
   "outputs": [],
   "source": [
    "# Dimensionality reduction with Dense layers\n",
    "tfidf_vectors = Dense(512, activation='relu')(tfidf_input)\n",
    "tfidf_vectors = Dense(256, activation='relu')(tfidf_vectors)"
   ]
  },
  {
   "cell_type": "code",
   "execution_count": 223,
   "metadata": {
    "colab": {},
    "colab_type": "code",
    "id": "rlNBswdYe3I8"
   },
   "outputs": [],
   "source": [
    "# Reshape both user and movie embedding layers\n",
    "user_vectors = Reshape([user_embed_dim])(user_embedding)\n",
    "movie_vectors = Reshape([movie_embed_dim])(movie_embedding)"
   ]
  },
  {
   "cell_type": "code",
   "execution_count": 224,
   "metadata": {
    "colab": {},
    "colab_type": "code",
    "id": "LfcefQQEe3E2"
   },
   "outputs": [],
   "source": [
    "# Concatenate all layers into one \n",
    "hybrid_layer = Concatenate()([user_vectors, movie_vectors, tfidf_vectors])"
   ]
  },
  {
   "cell_type": "code",
   "execution_count": 225,
   "metadata": {
    "colab": {},
    "colab_type": "code",
    "id": "WfZK5Dg9oxVA"
   },
   "outputs": [],
   "source": [
    "# add in dense and output layers\n",
    "dense = Dense(512, activation='relu')(hybrid_layer)\n",
    "dense = Dropout(0.2)(dense)\n",
    "output = Dense(1)(dense)"
   ]
  },
  {
   "cell_type": "code",
   "execution_count": 226,
   "metadata": {
    "colab": {
     "base_uri": "https://localhost:8080/",
     "height": 622
    },
    "colab_type": "code",
    "id": "odLeDjgzoxYA",
    "outputId": "56430bf2-ce38-43d6-f2c7-82974b41af94"
   },
   "outputs": [
    {
     "name": "stdout",
     "output_type": "stream",
     "text": [
      "Model: \"model_1\"\n",
      "__________________________________________________________________________________________________\n",
      " Layer (type)                   Output Shape         Param #     Connected to                     \n",
      "==================================================================================================\n",
      " user (InputLayer)              [(None, 1)]          0           []                               \n",
      "                                                                                                  \n",
      " movie (InputLayer)             [(None, 1)]          0           []                               \n",
      "                                                                                                  \n",
      " tfidf (InputLayer)             [(None, 24128)]      0           []                               \n",
      "                                                                                                  \n",
      " user_embedding (Embedding)     (None, 1, 256)       5331968     ['user[0][0]']                   \n",
      "                                                                                                  \n",
      " movie_embedding (Embedding)    (None, 1, 256)       445952      ['movie[0][0]']                  \n",
      "                                                                                                  \n",
      " dense (Dense)                  (None, 512)          12354048    ['tfidf[0][0]']                  \n",
      "                                                                                                  \n",
      " reshape_3 (Reshape)            (None, 256)          0           ['user_embedding[0][0]']         \n",
      "                                                                                                  \n",
      " reshape_4 (Reshape)            (None, 256)          0           ['movie_embedding[0][0]']        \n",
      "                                                                                                  \n",
      " dense_1 (Dense)                (None, 256)          131328      ['dense[0][0]']                  \n",
      "                                                                                                  \n",
      " concatenate (Concatenate)      (None, 768)          0           ['reshape_3[0][0]',              \n",
      "                                                                  'reshape_4[0][0]',              \n",
      "                                                                  'dense_1[0][0]']                \n",
      "                                                                                                  \n",
      " dense_2 (Dense)                (None, 512)          393728      ['concatenate[0][0]']            \n",
      "                                                                                                  \n",
      " dropout (Dropout)              (None, 512)          0           ['dense_2[0][0]']                \n",
      "                                                                                                  \n",
      " dense_3 (Dense)                (None, 1)            513         ['dropout[0][0]']                \n",
      "                                                                                                  \n",
      "==================================================================================================\n",
      "Total params: 18,657,537\n",
      "Trainable params: 18,657,537\n",
      "Non-trainable params: 0\n",
      "__________________________________________________________________________________________________\n"
     ]
    }
   ],
   "source": [
    "# create and view model summary\n",
    "model = Model(inputs=[user_id_input, movie_id_input, tfidf_input], outputs=output)\n",
    "model.compile(loss='mse', optimizer='adam')\n",
    "model.summary()"
   ]
  },
  {
   "cell_type": "markdown",
   "metadata": {
    "colab_type": "text",
    "id": "upDnm3r76Ivj"
   },
   "source": [
    "#### Train and Test the Model"
   ]
  },
  {
   "cell_type": "code",
   "execution_count": 229,
   "metadata": {
    "colab": {
     "base_uri": "https://localhost:8080/",
     "height": 386
    },
    "colab_type": "code",
    "id": "SmzWu6Xhoxnt",
    "outputId": "18233373-81f3-4bc1-a177-91b46e68b87f"
   },
   "outputs": [
    {
     "name": "stdout",
     "output_type": "stream",
     "text": [
      "Epoch 1/10\n"
     ]
    },
    {
     "name": "stderr",
     "output_type": "stream",
     "text": [
      "2022-03-21 00:25:51.232997: W tensorflow/core/framework/op_kernel.cc:1733] INVALID_ARGUMENT: TypeError: 'SparseTensor' object is not subscriptable\n",
      "Traceback (most recent call last):\n",
      "\n",
      "  File \"/Users/robbytong/opt/anaconda3/envs/tensorflow/lib/python3.8/site-packages/tensorflow/python/ops/script_ops.py\", line 273, in __call__\n",
      "    return func(device, token, args)\n",
      "\n",
      "  File \"/Users/robbytong/opt/anaconda3/envs/tensorflow/lib/python3.8/site-packages/tensorflow/python/ops/script_ops.py\", line 151, in __call__\n",
      "    outputs = self._call(device, args)\n",
      "\n",
      "  File \"/Users/robbytong/opt/anaconda3/envs/tensorflow/lib/python3.8/site-packages/tensorflow/python/ops/script_ops.py\", line 158, in _call\n",
      "    ret = self._func(*args)\n",
      "\n",
      "  File \"/Users/robbytong/opt/anaconda3/envs/tensorflow/lib/python3.8/site-packages/tensorflow/python/autograph/impl/api.py\", line 649, in wrapper\n",
      "    return func(*args, **kwargs)\n",
      "\n",
      "  File \"/Users/robbytong/opt/anaconda3/envs/tensorflow/lib/python3.8/site-packages/keras/engine/data_adapter.py\", line 476, in py_method\n",
      "    return [slice_array(inp) for inp in flat_inputs]\n",
      "\n",
      "  File \"/Users/robbytong/opt/anaconda3/envs/tensorflow/lib/python3.8/site-packages/keras/engine/data_adapter.py\", line 476, in <listcomp>\n",
      "    return [slice_array(inp) for inp in flat_inputs]\n",
      "\n",
      "  File \"/Users/robbytong/opt/anaconda3/envs/tensorflow/lib/python3.8/site-packages/keras/engine/data_adapter.py\", line 474, in slice_array\n",
      "    return training_utils.slice_arrays(data, ind.numpy(),\n",
      "\n",
      "  File \"/Users/robbytong/opt/anaconda3/envs/tensorflow/lib/python3.8/site-packages/keras/engine/training_utils.py\", line 47, in slice_arrays\n",
      "    entries = [[x[i:i + 1] for i in indices] for x in arrays]\n",
      "\n",
      "  File \"/Users/robbytong/opt/anaconda3/envs/tensorflow/lib/python3.8/site-packages/keras/engine/training_utils.py\", line 47, in <listcomp>\n",
      "    entries = [[x[i:i + 1] for i in indices] for x in arrays]\n",
      "\n",
      "  File \"/Users/robbytong/opt/anaconda3/envs/tensorflow/lib/python3.8/site-packages/keras/engine/training_utils.py\", line 47, in <listcomp>\n",
      "    entries = [[x[i:i + 1] for i in indices] for x in arrays]\n",
      "\n",
      "TypeError: 'SparseTensor' object is not subscriptable\n",
      "\n",
      "\n",
      "2022-03-21 00:25:51.234378: W tensorflow/core/framework/op_kernel.cc:1733] INVALID_ARGUMENT: TypeError: 'SparseTensor' object is not subscriptable\n",
      "Traceback (most recent call last):\n",
      "\n",
      "  File \"/Users/robbytong/opt/anaconda3/envs/tensorflow/lib/python3.8/site-packages/tensorflow/python/ops/script_ops.py\", line 273, in __call__\n",
      "    return func(device, token, args)\n",
      "\n",
      "  File \"/Users/robbytong/opt/anaconda3/envs/tensorflow/lib/python3.8/site-packages/tensorflow/python/ops/script_ops.py\", line 151, in __call__\n",
      "    outputs = self._call(device, args)\n",
      "\n",
      "  File \"/Users/robbytong/opt/anaconda3/envs/tensorflow/lib/python3.8/site-packages/tensorflow/python/ops/script_ops.py\", line 158, in _call\n",
      "    ret = self._func(*args)\n",
      "\n",
      "  File \"/Users/robbytong/opt/anaconda3/envs/tensorflow/lib/python3.8/site-packages/tensorflow/python/autograph/impl/api.py\", line 649, in wrapper\n",
      "    return func(*args, **kwargs)\n",
      "\n",
      "  File \"/Users/robbytong/opt/anaconda3/envs/tensorflow/lib/python3.8/site-packages/keras/engine/data_adapter.py\", line 476, in py_method\n",
      "    return [slice_array(inp) for inp in flat_inputs]\n",
      "\n",
      "  File \"/Users/robbytong/opt/anaconda3/envs/tensorflow/lib/python3.8/site-packages/keras/engine/data_adapter.py\", line 476, in <listcomp>\n",
      "    return [slice_array(inp) for inp in flat_inputs]\n",
      "\n",
      "  File \"/Users/robbytong/opt/anaconda3/envs/tensorflow/lib/python3.8/site-packages/keras/engine/data_adapter.py\", line 474, in slice_array\n",
      "    return training_utils.slice_arrays(data, ind.numpy(),\n",
      "\n",
      "  File \"/Users/robbytong/opt/anaconda3/envs/tensorflow/lib/python3.8/site-packages/keras/engine/training_utils.py\", line 47, in slice_arrays\n",
      "    entries = [[x[i:i + 1] for i in indices] for x in arrays]\n",
      "\n",
      "  File \"/Users/robbytong/opt/anaconda3/envs/tensorflow/lib/python3.8/site-packages/keras/engine/training_utils.py\", line 47, in <listcomp>\n",
      "    entries = [[x[i:i + 1] for i in ind"
     ]
    },
    {
     "ename": "InvalidArgumentError",
     "evalue": " TypeError: 'SparseTensor' object is not subscriptable\nTraceback (most recent call last):\n\n  File \"/Users/robbytong/opt/anaconda3/envs/tensorflow/lib/python3.8/site-packages/tensorflow/python/ops/script_ops.py\", line 273, in __call__\n    return func(device, token, args)\n\n  File \"/Users/robbytong/opt/anaconda3/envs/tensorflow/lib/python3.8/site-packages/tensorflow/python/ops/script_ops.py\", line 151, in __call__\n    outputs = self._call(device, args)\n\n  File \"/Users/robbytong/opt/anaconda3/envs/tensorflow/lib/python3.8/site-packages/tensorflow/python/ops/script_ops.py\", line 158, in _call\n    ret = self._func(*args)\n\n  File \"/Users/robbytong/opt/anaconda3/envs/tensorflow/lib/python3.8/site-packages/tensorflow/python/autograph/impl/api.py\", line 649, in wrapper\n    return func(*args, **kwargs)\n\n  File \"/Users/robbytong/opt/anaconda3/envs/tensorflow/lib/python3.8/site-packages/keras/engine/data_adapter.py\", line 476, in py_method\n    return [slice_array(inp) for inp in flat_inputs]\n\n  File \"/Users/robbytong/opt/anaconda3/envs/tensorflow/lib/python3.8/site-packages/keras/engine/data_adapter.py\", line 476, in <listcomp>\n    return [slice_array(inp) for inp in flat_inputs]\n\n  File \"/Users/robbytong/opt/anaconda3/envs/tensorflow/lib/python3.8/site-packages/keras/engine/data_adapter.py\", line 474, in slice_array\n    return training_utils.slice_arrays(data, ind.numpy(),\n\n  File \"/Users/robbytong/opt/anaconda3/envs/tensorflow/lib/python3.8/site-packages/keras/engine/training_utils.py\", line 47, in slice_arrays\n    entries = [[x[i:i + 1] for i in indices] for x in arrays]\n\n  File \"/Users/robbytong/opt/anaconda3/envs/tensorflow/lib/python3.8/site-packages/keras/engine/training_utils.py\", line 47, in <listcomp>\n    entries = [[x[i:i + 1] for i in indices] for x in arrays]\n\n  File \"/Users/robbytong/opt/anaconda3/envs/tensorflow/lib/python3.8/site-packages/keras/engine/training_utils.py\", line 47, in <listcomp>\n    entries = [[x[i:i + 1] for i in indices] for x in arrays]\n\nTypeError: 'SparseTensor' object is not subscriptable\n\n\n\t [[{{node EagerPyFunc}}]]\n\t [[IteratorGetNext]] [Op:__inference_train_function_556633]",
     "output_type": "error",
     "traceback": [
      "\u001b[0;31m---------------------------------------------------------------------------\u001b[0m",
      "\u001b[0;31mInvalidArgumentError\u001b[0m                      Traceback (most recent call last)",
      "Input \u001b[0;32mIn [229]\u001b[0m, in \u001b[0;36m<module>\u001b[0;34m\u001b[0m\n\u001b[1;32m      4\u001b[0m X \u001b[38;5;241m=\u001b[39m [df_hybrid_train[\u001b[38;5;124m'\u001b[39m\u001b[38;5;124mUser\u001b[39m\u001b[38;5;124m'\u001b[39m], df_hybrid_train[\u001b[38;5;124m'\u001b[39m\u001b[38;5;124mMovie\u001b[39m\u001b[38;5;124m'\u001b[39m], train_tfidf]\n\u001b[1;32m      5\u001b[0m y \u001b[38;5;241m=\u001b[39m df_hybrid_train[\u001b[38;5;124m'\u001b[39m\u001b[38;5;124mRating\u001b[39m\u001b[38;5;124m'\u001b[39m]\n\u001b[0;32m----> 6\u001b[0m \u001b[43mmodel\u001b[49m\u001b[38;5;241;43m.\u001b[39;49m\u001b[43mfit\u001b[49m\u001b[43m(\u001b[49m\u001b[43mX\u001b[49m\u001b[43m,\u001b[49m\u001b[43m \u001b[49m\u001b[43my\u001b[49m\u001b[43m,\u001b[49m\n\u001b[1;32m      7\u001b[0m \u001b[43m          \u001b[49m\u001b[43mbatch_size\u001b[49m\u001b[38;5;241;43m=\u001b[39;49m\u001b[43mbatch_size\u001b[49m\u001b[43m,\u001b[49m\u001b[43m \u001b[49m\n\u001b[1;32m      8\u001b[0m \u001b[43m          \u001b[49m\u001b[43mepochs\u001b[49m\u001b[38;5;241;43m=\u001b[39;49m\u001b[43mepochs\u001b[49m\u001b[43m,\u001b[49m\u001b[43m \u001b[49m\u001b[38;5;66;43;03m## Change the epochs to find better improved model.\u001b[39;49;00m\n\u001b[1;32m      9\u001b[0m \u001b[43m          \u001b[49m\u001b[38;5;66;43;03m#validation_split=0.1,\u001b[39;49;00m\n\u001b[1;32m     10\u001b[0m \u001b[43m          \u001b[49m\u001b[43mshuffle\u001b[49m\u001b[38;5;241;43m=\u001b[39;49m\u001b[38;5;28;43;01mTrue\u001b[39;49;00m\u001b[43m)\u001b[49m\n",
      "File \u001b[0;32m~/opt/anaconda3/envs/tensorflow/lib/python3.8/site-packages/keras/utils/traceback_utils.py:67\u001b[0m, in \u001b[0;36mfilter_traceback.<locals>.error_handler\u001b[0;34m(*args, **kwargs)\u001b[0m\n\u001b[1;32m     65\u001b[0m \u001b[38;5;28;01mexcept\u001b[39;00m \u001b[38;5;167;01mException\u001b[39;00m \u001b[38;5;28;01mas\u001b[39;00m e:  \u001b[38;5;66;03m# pylint: disable=broad-except\u001b[39;00m\n\u001b[1;32m     66\u001b[0m   filtered_tb \u001b[38;5;241m=\u001b[39m _process_traceback_frames(e\u001b[38;5;241m.\u001b[39m__traceback__)\n\u001b[0;32m---> 67\u001b[0m   \u001b[38;5;28;01mraise\u001b[39;00m e\u001b[38;5;241m.\u001b[39mwith_traceback(filtered_tb) \u001b[38;5;28;01mfrom\u001b[39;00m \u001b[38;5;28mNone\u001b[39m\n\u001b[1;32m     68\u001b[0m \u001b[38;5;28;01mfinally\u001b[39;00m:\n\u001b[1;32m     69\u001b[0m   \u001b[38;5;28;01mdel\u001b[39;00m filtered_tb\n",
      "File \u001b[0;32m~/opt/anaconda3/envs/tensorflow/lib/python3.8/site-packages/tensorflow/python/eager/execute.py:58\u001b[0m, in \u001b[0;36mquick_execute\u001b[0;34m(op_name, num_outputs, inputs, attrs, ctx, name)\u001b[0m\n\u001b[1;32m     56\u001b[0m \u001b[38;5;28;01mtry\u001b[39;00m:\n\u001b[1;32m     57\u001b[0m   ctx\u001b[38;5;241m.\u001b[39mensure_initialized()\n\u001b[0;32m---> 58\u001b[0m   tensors \u001b[38;5;241m=\u001b[39m pywrap_tfe\u001b[38;5;241m.\u001b[39mTFE_Py_Execute(ctx\u001b[38;5;241m.\u001b[39m_handle, device_name, op_name,\n\u001b[1;32m     59\u001b[0m                                       inputs, attrs, num_outputs)\n\u001b[1;32m     60\u001b[0m \u001b[38;5;28;01mexcept\u001b[39;00m core\u001b[38;5;241m.\u001b[39m_NotOkStatusException \u001b[38;5;28;01mas\u001b[39;00m e:\n\u001b[1;32m     61\u001b[0m   \u001b[38;5;28;01mif\u001b[39;00m name \u001b[38;5;129;01mis\u001b[39;00m \u001b[38;5;129;01mnot\u001b[39;00m \u001b[38;5;28;01mNone\u001b[39;00m:\n",
      "\u001b[0;31mInvalidArgumentError\u001b[0m:  TypeError: 'SparseTensor' object is not subscriptable\nTraceback (most recent call last):\n\n  File \"/Users/robbytong/opt/anaconda3/envs/tensorflow/lib/python3.8/site-packages/tensorflow/python/ops/script_ops.py\", line 273, in __call__\n    return func(device, token, args)\n\n  File \"/Users/robbytong/opt/anaconda3/envs/tensorflow/lib/python3.8/site-packages/tensorflow/python/ops/script_ops.py\", line 151, in __call__\n    outputs = self._call(device, args)\n\n  File \"/Users/robbytong/opt/anaconda3/envs/tensorflow/lib/python3.8/site-packages/tensorflow/python/ops/script_ops.py\", line 158, in _call\n    ret = self._func(*args)\n\n  File \"/Users/robbytong/opt/anaconda3/envs/tensorflow/lib/python3.8/site-packages/tensorflow/python/autograph/impl/api.py\", line 649, in wrapper\n    return func(*args, **kwargs)\n\n  File \"/Users/robbytong/opt/anaconda3/envs/tensorflow/lib/python3.8/site-packages/keras/engine/data_adapter.py\", line 476, in py_method\n    return [slice_array(inp) for inp in flat_inputs]\n\n  File \"/Users/robbytong/opt/anaconda3/envs/tensorflow/lib/python3.8/site-packages/keras/engine/data_adapter.py\", line 476, in <listcomp>\n    return [slice_array(inp) for inp in flat_inputs]\n\n  File \"/Users/robbytong/opt/anaconda3/envs/tensorflow/lib/python3.8/site-packages/keras/engine/data_adapter.py\", line 474, in slice_array\n    return training_utils.slice_arrays(data, ind.numpy(),\n\n  File \"/Users/robbytong/opt/anaconda3/envs/tensorflow/lib/python3.8/site-packages/keras/engine/training_utils.py\", line 47, in slice_arrays\n    entries = [[x[i:i + 1] for i in indices] for x in arrays]\n\n  File \"/Users/robbytong/opt/anaconda3/envs/tensorflow/lib/python3.8/site-packages/keras/engine/training_utils.py\", line 47, in <listcomp>\n    entries = [[x[i:i + 1] for i in indices] for x in arrays]\n\n  File \"/Users/robbytong/opt/anaconda3/envs/tensorflow/lib/python3.8/site-packages/keras/engine/training_utils.py\", line 47, in <listcomp>\n    entries = [[x[i:i + 1] for i in indices] for x in arrays]\n\nTypeError: 'SparseTensor' object is not subscriptable\n\n\n\t [[{{node EagerPyFunc}}]]\n\t [[IteratorGetNext]] [Op:__inference_train_function_556633]"
     ]
    },
    {
     "name": "stderr",
     "output_type": "stream",
     "text": [
      "ices] for x in arrays]\n",
      "\n",
      "  File \"/Users/robbytong/opt/anaconda3/envs/tensorflow/lib/python3.8/site-packages/keras/engine/training_utils.py\", line 47, in <listcomp>\n",
      "    entries = [[x[i:i + 1] for i in indices] for x in arrays]\n",
      "\n",
      "TypeError: 'SparseTensor' object is not subscriptable\n",
      "\n",
      "\n",
      "2022-03-21 00:25:51.236913: W tensorflow/core/framework/op_kernel.cc:1733] INVALID_ARGUMENT: TypeError: 'SparseTensor' object is not subscriptable\n",
      "Traceback (most recent call last):\n",
      "\n",
      "  File \"/Users/robbytong/opt/anaconda3/envs/tensorflow/lib/python3.8/site-packages/tensorflow/python/ops/script_ops.py\", line 273, in __call__\n",
      "    return func(device, token, args)\n",
      "\n",
      "  File \"/Users/robbytong/opt/anaconda3/envs/tensorflow/lib/python3.8/site-packages/tensorflow/python/ops/script_ops.py\", line 151, in __call__\n",
      "    outputs = self._call(device, args)\n",
      "\n",
      "  File \"/Users/robbytong/opt/anaconda3/envs/tensorflow/lib/python3.8/site-packages/tensorflow/python/ops/script_ops.py\", line 158, in _call\n",
      "    ret = self._func(*args)\n",
      "\n",
      "  File \"/Users/robbytong/opt/anaconda3/envs/tensorflow/lib/python3.8/site-packages/tensorflow/python/autograph/impl/api.py\", line 649, in wrapper\n",
      "    return func(*args, **kwargs)\n",
      "\n",
      "  File \"/Users/robbytong/opt/anaconda3/envs/tensorflow/lib/python3.8/site-packages/keras/engine/data_adapter.py\", line 476, in py_method\n",
      "    return [slice_array(inp) for inp in flat_inputs]\n",
      "\n",
      "  File \"/Users/robbytong/opt/anaconda3/envs/tensorflow/lib/python3.8/site-packages/keras/engine/data_adapter.py\", line 476, in <listcomp>\n",
      "    return [slice_array(inp) for inp in flat_inputs]\n",
      "\n",
      "  File \"/Users/robbytong/opt/anaconda3/envs/tensorflow/lib/python3.8/site-packages/keras/engine/data_adapter.py\", line 474, in slice_array\n",
      "    return training_utils.slice_arrays(data, ind.numpy(),\n",
      "\n",
      "  File \"/Users/robbytong/opt/anaconda3/envs/tensorflow/lib/python3.8/site-packages/keras/engine/training_utils.py\", line 47, in slice_arrays\n",
      "    entries = [[x[i:i + 1] for i in indices] for x in arrays]\n",
      "\n",
      "  File \"/Users/robbytong/opt/anaconda3/envs/tensorflow/lib/python3.8/site-packages/keras/engine/training_utils.py\", line 47, in <listcomp>\n",
      "    entries = [[x[i:i + 1] for i in indices] for x in arrays]\n",
      "\n",
      "  File \"/Users/robbytong/opt/anaconda3/envs/tensorflow/lib/python3.8/site-packages/keras/engine/training_utils.py\", line 47, in <listcomp>\n",
      "    entries = [[x[i:i + 1] for i in indices] for x in arrays]\n",
      "\n",
      "TypeError: 'SparseTensor' object is not subscriptable\n",
      "\n",
      "\n",
      "2022-03-21 00:25:51.289087: W tensorflow/core/framework/op_kernel.cc:1733] INVALID_ARGUMENT: TypeError: 'SparseTensor' object is not subscriptable\n",
      "Traceback (most recent call last):\n",
      "\n",
      "  File \"/Users/robbytong/opt/anaconda3/envs/tensorflow/lib/python3.8/site-packages/tensorflow/python/ops/script_ops.py\", line 273, in __call__\n",
      "    return func(device, token, args)\n",
      "\n",
      "  File \"/Users/robbytong/opt/anaconda3/envs/tensorflow/lib/python3.8/site-packages/tensorflow/python/ops/script_ops.py\", line 151, in __call__\n",
      "    outputs = self._call(device, args)\n",
      "\n",
      "  File \"/Users/robbytong/opt/anaconda3/envs/tensorflow/lib/python3.8/site-packages/tensorflow/python/ops/script_ops.py\", line 158, in _call\n",
      "    ret = self._func(*args)\n",
      "\n",
      "  File \"/Users/robbytong/opt/anaconda3/envs/tensorflow/lib/python3.8/site-packages/tensorflow/python/autograph/impl/api.py\", line 649, in wrapper\n",
      "    return func(*args, **kwargs)\n",
      "\n",
      "  File \"/Users/robbytong/opt/anaconda3/envs/tensorflow/lib/python3.8/site-packages/keras/engine/data_adapter.py\", line 476, in py_method\n",
      "    return [slice_array(inp) for inp in flat_inputs]\n",
      "\n",
      "  File \"/Users/robbytong/opt/anaconda3/envs/tensorflow/lib/python3.8/site-packages/keras/engine/data_adapter.py\", line 476, in <listcomp>\n",
      "    return [slice_array(inp) for inp in flat_inputs]\n",
      "\n",
      "  File \"/Users/robbytong/opt/anaconda3/envs/tensorflow/lib/python3.8/site-packages/keras/engine/data_adapter.py\", line 474, in slice_array\n",
      "    return training_utils.slice_arrays(data, ind.numpy(),\n",
      "\n",
      "  File \"/Users/robbytong/opt/anaconda3/envs/tensorflow/lib/python3.8/site-packages/keras/engine/training_utils.py\", line 47, in slice_arrays\n",
      "    entries = [[x[i:i + 1] for i in indices] for x in arrays]\n",
      "\n",
      "  File \"/Users/robbytong/opt/anaconda3/envs/tensorflow/lib/python3.8/site-packages/keras/engine/training_utils.py\", line 47, in <listcomp>\n",
      "    entries = [[x[i:i + 1] for i in indices] for x in arrays]\n",
      "\n",
      "  File \"/Users/robbytong/opt/anaconda3/envs/tensorflow/lib/python3.8/site-packages/keras/engine/training_utils.py\", line 47, in <listcomp>\n",
      "    entries = [[x[i:i + 1] for i in indices] for x in arrays]\n",
      "\n",
      "TypeError: 'SparseTensor' object is not subscriptable\n",
      "\n",
      "\n",
      "2022-03-21 00:25:51.290219: W tensorflow/core/framework/op_kernel.cc:1733] INVALID_ARGUMENT: TypeError: 'SparseTensor' object is not subscriptable\n",
      "Traceback (most recent call last):\n",
      "\n",
      "  File \"/Users/robbytong/opt/anaconda3/envs/tensorflow/lib/python3.8/site-packages/tensorflow/python/ops/script_ops.py\", line 273, in __call__\n",
      "    return func(device, token, args)\n",
      "\n",
      "  File \"/Users/robbytong/opt/anaconda3/envs/tensorflow/lib/python3.8/site-packages/tensorflow/python/ops/script_ops.py\", line 151, in __call__\n",
      "    outputs = self._call(device, args)\n",
      "\n",
      "  File \"/Users/robbytong/opt/anaconda3/envs/tensorflow/lib/python3.8/site-packages/tensorflow/python/ops/script_ops.py\", line 158, in _call\n",
      "    ret = self._func(*args)\n",
      "\n",
      "  File \"/Users/robbytong/opt/anaconda3/envs/tensorflow/lib/python3.8/site-packages/tensorflow/python/autograph/impl/api.py\", line 649, in wrapper\n",
      "    return func(*args, **kwargs)\n",
      "\n",
      "  File \"/Users/robbytong/opt/anaconda3/envs/tensorflow/lib/python3.8/site-packages/keras/engine/data_adapter.py\", line 476, in py_method\n",
      "    return [slice_array(inp) for inp in flat_inputs]\n",
      "\n",
      "  File \"/Users/robbytong/opt/anaconda3/envs/tensorflow/lib/python3.8/site-packages/keras/engine/data_adapter.py\", line 476, in <listcomp>\n",
      "    return [slice_array(inp) for inp in flat_inputs]\n",
      "\n",
      "  File \"/Users/robbytong/opt/anaconda3/envs/tensorflow/lib/python3.8/site-packages/keras/engine/data_adapter.py\", line 474, in slice_array\n",
      "    return training_utils.slice_arrays(data, ind.numpy(),\n",
      "\n",
      "  File \"/Users/robbytong/opt/anaconda3/envs/tensorflow/lib/python3.8/site-packages/keras/engine/training_utils.py\", line 47, in slice_arrays\n",
      "    entries = [[x[i:i + 1] for i in indices] for x in arrays]\n",
      "\n",
      "  File \"/Users/robbytong/opt/anaconda3/envs/tensorflow/lib/python3.8/site-packages/keras/engine/training_utils.py\", line 47, in <listcomp>\n",
      "    entries = [[x[i:i + 1] for i in indices] for x in arrays]\n",
      "\n",
      "  File \"/Users/robbytong/opt/anaconda3/envs/tensorflow/lib/python3.8/site-packages/keras/engine/training_utils.py\", line 47, in <listcomp>\n",
      "    entries = [[x[i:i + 1] for i in indices] for x in arrays]\n",
      "\n",
      "TypeError: 'SparseTensor' object is not subscriptable\n",
      "\n",
      "\n"
     ]
    }
   ],
   "source": [
    "# fit the model\n",
    "batch_size=1024\n",
    "epochs=10\n",
    "X = [df_hybrid_train['User'], df_hybrid_train['Movie'], train_tfidf]\n",
    "y = df_hybrid_train['Rating']\n",
    "model.fit(X, y,\n",
    "          batch_size=batch_size, \n",
    "          epochs=epochs, ## Change the epochs to find better improved model.\n",
    "          #validation_split=0.1,\n",
    "          shuffle=True)"
   ]
  },
  {
   "cell_type": "code",
   "execution_count": null,
   "metadata": {
    "colab": {
     "base_uri": "https://localhost:8080/",
     "height": 67
    },
    "colab_type": "code",
    "id": "ZLkTXmxhpK7r",
    "outputId": "4d99eaa3-5f84-4814-e083-a82058bacc68"
   },
   "outputs": [],
   "source": [
    "# create test input data and true outputs\n",
    "X_test = [df_hybrid_test['User'], df_hybrid_test['Movie'], test_tfidf]\n",
    "y_true = df_hybrid_test['Rating'].values \n",
    "\n",
    "# Test model by making predictions on test data\n",
    "y_pred = model.predict(X_test).ravel()\n",
    "# clip upper and lower ratings\n",
    "y_pred = list(map(lambda x: 1.0 if x < 1 else 5.0 if x > 5.0 else x, y_pred))\n",
    "\n",
    "#  Compute RMSE\n",
    "rmse = np.sqrt(mean_squared_error(y_pred=y_pred, y_true=y_true))\n",
    "print('\\n\\nTesting Result With DL Hybrid Recommender: {:.4f} RMSE'.format(rmse))"
   ]
  },
  {
   "cell_type": "code",
   "execution_count": null,
   "metadata": {
    "colab": {
     "base_uri": "https://localhost:8080/",
     "height": 639
    },
    "colab_type": "code",
    "id": "ecgDG4C9pLAG",
    "outputId": "e13970a0-c7a0-4b0d-d2f3-7d765e901881"
   },
   "outputs": [],
   "source": [
    "## Let's see how our collaborative model performs by seeing the predicted and actual rating for the given user and movie pair\n",
    "results_df = pd.DataFrame({\n",
    "    'User ID': df_hybrid_test['User'].values,\n",
    "    'Movie ID': df_hybrid_test['Movie'].values,\n",
    "    'Movie Name': [movie_titles['Name'].iloc[item] for item in df_hybrid_test['Movie']],\n",
    "    'Predicted Rating': np.round(y_pred, 1),\n",
    "    'Actual Rating': y_true\n",
    "})\n",
    "\n",
    "results_df.head(20)"
   ]
  }
 ],
 "metadata": {
  "accelerator": "GPU",
  "colab": {
   "collapsed_sections": [],
   "machine_shape": "hm",
   "name": "Recommendation_Systems.ipynb",
   "provenance": []
  },
  "kernelspec": {
   "display_name": "Python 3 (ipykernel)",
   "language": "python",
   "name": "python3"
  },
  "language_info": {
   "codemirror_mode": {
    "name": "ipython",
    "version": 3
   },
   "file_extension": ".py",
   "mimetype": "text/x-python",
   "name": "python",
   "nbconvert_exporter": "python",
   "pygments_lexer": "ipython3",
   "version": "3.8.12"
  }
 },
 "nbformat": 4,
 "nbformat_minor": 1
}
